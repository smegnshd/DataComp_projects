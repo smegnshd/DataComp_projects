{
 "cells": [
  {
   "cell_type": "markdown",
   "id": "116384ac",
   "metadata": {},
   "source": [
    "# Numeric data or ... ?\n",
    "In this exercise, and throughout this chapter, you'll be working with bicycle ride sharing data in San Francisco called ride_sharing. It contains information on the start and end stations, the trip duration, and some user information for a bike sharing service.\n",
    "\n",
    "The user_type column contains information on whether a user is taking a free ride and takes on the following values:\n",
    "\n",
    "1 for free riders.\n",
    "\n",
    "2 for pay per ride.\n",
    "\n",
    "3 for monthly subscribers.\n",
    "\n",
    "In this instance, you will print the information of ride_sharing using .info() and see a firsthand example of how an incorrect data type can flaw your analysis of the dataset. The pandas package is imported as pd."
   ]
  },
  {
   "cell_type": "code",
   "execution_count": null,
   "id": "7ff75022",
   "metadata": {},
   "outputs": [],
   "source": [
    "1 # Print the information of ride_sharing\n",
    "print(ride_sharing.info())\n",
    "\n",
    "# Print summary statistics of user_type column\n",
    "print(ride_sharing['user_type'].describe())"
   ]
  },
  {
   "cell_type": "markdown",
   "id": "57dd5a76",
   "metadata": {},
   "source": [
    "2\n",
    "Question\n",
    "By looking at the summary statistics - they don't really seem to offer much description on how users are distributed along their purchase type, why do you think that is?\n",
    "\n",
    "Possible Answers\n",
    "\n",
    "- The user_type column is not of the correct type, it should be converted to str.\n",
    "\n",
    "- The user_type column has an infinite set of possible values, it should be converted to category.\n",
    "\n",
    "- The user_type column has an finite set of possible values that represent groupings of data, it should be converted to category.\n",
    "\n",
    "\"\"\"answer=The user_type column has an finite set of possible values that represent groupings of data, it should be converted to category\"\"\""
   ]
  },
  {
   "cell_type": "code",
   "execution_count": null,
   "id": "2f44dca7",
   "metadata": {},
   "outputs": [],
   "source": []
  }
 ],
 "metadata": {
  "kernelspec": {
   "display_name": "Python 3",
   "language": "python",
   "name": "python3"
  },
  "language_info": {
   "codemirror_mode": {
    "name": "ipython",
    "version": 3
   },
   "file_extension": ".py",
   "mimetype": "text/x-python",
   "name": "python",
   "nbconvert_exporter": "python",
   "pygments_lexer": "ipython3",
   "version": "3.8.11"
  }
 },
 "nbformat": 4,
 "nbformat_minor": 5
}
