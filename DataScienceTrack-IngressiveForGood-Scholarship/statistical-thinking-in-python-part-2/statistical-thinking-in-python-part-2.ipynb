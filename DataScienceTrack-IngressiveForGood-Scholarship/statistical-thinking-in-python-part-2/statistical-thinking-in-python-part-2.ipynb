{
 "cells": [
  {
   "cell_type": "markdown",
   "id": "64ec3daa",
   "metadata": {},
   "source": [
    "# How often do we get no-hitters?\n",
    "The number of games played between each no-hitter in the modern era (1901-2015) of Major League Baseball is stored in the array nohitter_times.\n",
    "\n",
    "If you assume that no-hitters are described as a Poisson process, then the time between no-hitters is Exponentially distributed. As you have seen, the Exponential distribution has a single parameter, which we will call , the typical interval time. The value of the parameter  that makes the exponential distribution best match the data is the mean interval time (where time is in units of number of games) between no-hitters.\n",
    "\n",
    "Compute the value of this parameter from the data. Then, use np.random.exponential() to \"repeat\" the history of Major League Baseball by drawing inter-no-hitter times from an exponential distribution with the  you found and plot the histogram as an approximation to the PDF.\n",
    "\n",
    "NumPy, pandas, matlotlib.pyplot, and seaborn have been imported for you as np, pd, plt, and sns, respectively."
   ]
  },
  {
   "cell_type": "code",
   "execution_count": null,
   "id": "ca0039f7",
   "metadata": {},
   "outputs": [],
   "source": [
    "# Seed random number generator\n",
    "np.random.seed(42)\n",
    "\n",
    "# Compute mean no-hitter time: tau\n",
    "tau = np.mean(nohitter_times)\n",
    "\n",
    "# Draw out of an exponential distribution with parameter tau: inter_nohitter_time\n",
    "inter_nohitter_time = np.random.exponential(tau, 100000)\n",
    "\n",
    "# Plot the PDF and label axes\n",
    "_ = plt.hist(inter_nohitter_time,\n",
    "             bins=50, normed=True, histtype='step')\n",
    "_ = plt.xlabel('Games between no-hitters')\n",
    "_ = plt.ylabel('PDF')\n",
    "\n",
    "# Show the plot\n",
    "plt.show()\n"
   ]
  },
  {
   "cell_type": "markdown",
   "id": "724a5760",
   "metadata": {},
   "source": [
    "# Do the data follow our story?\n",
    "You have modeled no-hitters using an Exponential distribution. Create an ECDF of the real data. Overlay the theoretical CDF with the ECDF from the data. This helps you to verify that the Exponential distribution describes the observed data.\n",
    "\n",
    "It may be helpful to remind yourself of the function you created in the previous course to compute the ECDF, as well as the code you wrote to plot it."
   ]
  },
  {
   "cell_type": "code",
   "execution_count": null,
   "id": "b209bf74",
   "metadata": {},
   "outputs": [],
   "source": [
    "# Create an ECDF from real data: x, y\n",
    "x, y = ecdf(nohitter_times)\n",
    "\n",
    "# Create a CDF from theoretical samples: x_theor, y_theor\n",
    "x_theor, y_theor = ecdf(inter_nohitter_time)\n",
    "\n",
    "# Overlay the plots\n",
    "plt.plot(x_theor, y_theor)\n",
    "plt.plot(x, y, marker=\".\", linestyle=\"none\")\n",
    "\n",
    "# Margins and axis labels\n",
    "plt.margins(.02)\n",
    "plt.xlabel('Games between no-hitters')\n",
    "plt.ylabel('CDF')\n",
    "\n",
    "# Show the plot\n",
    "plt.show()"
   ]
  },
  {
   "cell_type": "markdown",
   "id": "a589cedd",
   "metadata": {},
   "source": [
    "# How is this parameter optimal?\n",
    "Now sample out of an exponential distribution with  being twice as large as the optimal . Do it again for  half as large. Make CDFs of these samples and overlay them with your data. You can see that they do not reproduce the data as well. Thus, the  you computed from the mean inter-no-hitter times is optimal in that it best reproduces the data.\n",
    "\n",
    "Note: In this and all subsequent exercises, the random number generator is pre-seeded for you to save you some typing."
   ]
  },
  {
   "cell_type": "code",
   "execution_count": null,
   "id": "f03c756c",
   "metadata": {},
   "outputs": [],
   "source": [
    "# Plot the theoretical CDFs\n",
    "plt.plot(x_theor, y_theor)\n",
    "plt.plot(x, y, marker='.', linestyle='none')\n",
    "plt.margins(0.02)\n",
    "plt.xlabel('Games between no-hitters')\n",
    "plt.ylabel('CDF')\n",
    "\n",
    "# Take samples with half tau: samples_half\n",
    "samples_half = np.random.exponential(tau/2, size=10000)\n",
    "\n",
    "# Take samples with double tau: samples_double\n",
    "samples_double = np.random.exponential(tau*2, size=10000)\n",
    "\n",
    "# Generate CDFs from these samples\n",
    "x_half, y_half = ecdf(samples_half)\n",
    "x_double, y_double = ecdf(samples_double)\n",
    "\n",
    "# Plot these CDFs as lines\n",
    "_ = plt.plot(x_half, y_half)\n",
    "_ = plt.plot(x_double, y_double)\n",
    "\n",
    "# Show the plot\n",
    "plt.show()"
   ]
  },
  {
   "cell_type": "markdown",
   "id": "f99e4fb7",
   "metadata": {},
   "source": [
    "# EDA of literacy/fertility data\n",
    "In the next few exercises, we will look at the correlation between female literacy and fertility (defined as the average number of children born per woman) throughout the world. For ease of analysis and interpretation, we will work with the illiteracy rate.\n",
    "\n",
    "It is always a good idea to do some EDA ahead of our analysis. To this end, plot the fertility versus illiteracy and compute the Pearson correlation coefficient. The Numpy array illiteracy has the illiteracy rate among females for most of the world's nations. The array fertility has the corresponding fertility data.\n",
    "\n",
    "Here, it may be useful to refer back to the function you wrote in the previous course to compute the Pearson correlation coefficient."
   ]
  },
  {
   "cell_type": "code",
   "execution_count": null,
   "id": "f7226d7f",
   "metadata": {},
   "outputs": [],
   "source": [
    "# Plot the illiteracy rate versus fertility\n",
    "_ = plt.plot(illiteracy, fertility, marker='.', linestyle='none')\n",
    "\n",
    "# Set the margins and label axes\n",
    "plt.margins(.02)\n",
    "_ = plt.xlabel('percent illiterate')\n",
    "_ = plt.ylabel('fertility')\n",
    "\n",
    "# Show the plot\n",
    "plt.show()\n",
    "\n",
    "# Show the Pearson correlation coefficient\n",
    "print(pearson_r(illiteracy, fertility))\n"
   ]
  },
  {
   "cell_type": "markdown",
   "id": "791f5379",
   "metadata": {},
   "source": [
    "# Linear regression\n",
    "We will assume that fertility is a linear function of the female illiteracy rate. That is, , where  is the slope and  is the intercept. We can think of the intercept as the minimal fertility rate, probably somewhere between one and two. The slope tells us how the fertility rate varies with illiteracy. We can find the best fit line using np.polyfit().\n",
    "\n",
    "Plot the data and the best fit line. Print out the slope and intercept. (Think: what are their units?)"
   ]
  },
  {
   "cell_type": "code",
   "execution_count": null,
   "id": "2e44a570",
   "metadata": {},
   "outputs": [],
   "source": [
    "# Plot the illiteracy rate versus fertility\n",
    "_ = plt.plot(illiteracy, fertility, marker='.', linestyle='none')\n",
    "plt.margins(0.02)\n",
    "_ = plt.xlabel('percent illiterate')\n",
    "_ = plt.ylabel('fertility')\n",
    "\n",
    "# Perform a linear regression using np.polyfit(): a, b\n",
    "a, b = np.polyfit(illiteracy, fertility, deg=1)\n",
    "\n",
    "# Print the results to the screen\n",
    "print('slope =', a, 'children per woman / percent illiterate')\n",
    "print('intercept =', b, 'children per woman')\n",
    "\n",
    "# Make theoretical line to plot\n",
    "x = np.array([0, 100])\n",
    "y = a * x + b\n",
    "\n",
    "# Add regression line to your plot\n",
    "_ = plt.plot(x, y)\n",
    "\n",
    "# Draw the plot\n",
    "plt.show()"
   ]
  },
  {
   "cell_type": "markdown",
   "id": "5f6ba9c5",
   "metadata": {},
   "source": [
    "# How is it optimal?\n",
    "The function np.polyfit() that you used to get your regression parameters finds the optimal slope and intercept. It is optimizing the sum of the squares of the residuals, also known as RSS (for residual sum of squares). In this exercise, you will plot the function that is being optimized, the RSS, versus the slope parameter a. To do this, fix the intercept to be what you found in the optimization. Then, plot the RSS vs. the slope. Where is it minimal?"
   ]
  },
  {
   "cell_type": "code",
   "execution_count": null,
   "id": "7d942035",
   "metadata": {},
   "outputs": [],
   "source": [
    "# Specify slopes to consider: a_vals\n",
    "a_vals = np.linspace(0,0.1, 200)\n",
    "\n",
    "# Initialize sum of square of residuals: rss\n",
    "rss = np.empty_like(a_vals)\n",
    "\n",
    "# Compute sum of square of residuals for each value of a_vals\n",
    "for i, a in enumerate(a_vals):\n",
    "    rss[i] = np.sum((fertility - a*illiteracy - b)**2)\n",
    "\n",
    "# Plot the RSS\n",
    "plt.plot(a_vals, rss, '-')\n",
    "plt.xlabel('slope (children per woman / percent illiterate)')\n",
    "plt.ylabel('sum of square of residuals')\n",
    "\n",
    "plt.show()"
   ]
  },
  {
   "cell_type": "markdown",
   "id": "0f44a381",
   "metadata": {},
   "source": [
    "# Linear regression on appropriate Anscombe data\n",
    "For practice, perform a linear regression on the data set from Anscombe's quartet that is most reasonably interpreted with linear regression."
   ]
  },
  {
   "cell_type": "code",
   "execution_count": null,
   "id": "a108ff4f",
   "metadata": {},
   "outputs": [],
   "source": [
    "# Perform linear regression: a, b\n",
    "a, b = np.polyfit(x,y, deg=1)\n",
    "\n",
    "# Print the slope and intercept\n",
    "print(a, b)\n",
    "\n",
    "# Generate theoretical x and y data: x_theor, y_theor\n",
    "x_theor = np.array([3, 15])\n",
    "y_theor = a * x_theor + b\n",
    "\n",
    "# Plot the Anscombe data and theoretical line\n",
    "_ = plt.plot(x, y, marker=\".\", linestyle=\"none\")\n",
    "_ = plt.plot(x_theor, y_theor)\n",
    "\n",
    "# Label the axes\n",
    "plt.xlabel('x')\n",
    "plt.ylabel('y')\n",
    "\n",
    "# Show the plot\n",
    "plt.show()"
   ]
  },
  {
   "cell_type": "markdown",
   "id": "a1a18501",
   "metadata": {},
   "source": [
    "# Linear regression on all Anscombe data\n",
    "Now, to verify that all four of the Anscombe data sets have the same slope and intercept from a linear regression, you will compute the slope and intercept for each set. The data are stored in lists; anscombe_x = [x1, x2, x3, x4] and anscombe_y = [y1, y2, y3, y4], where, for example, x2 and y2 are the  and  values for the second Anscombe data set."
   ]
  },
  {
   "cell_type": "code",
   "execution_count": null,
   "id": "2609e5b0",
   "metadata": {},
   "outputs": [],
   "source": [
    "# Iterate through x,y pairs\n",
    "for x, y in zip(anscombe_x, anscombe_y):\n",
    "    # Compute the slope and intercept: a, b\n",
    "    a, b = np.polyfit(x,y, deg=1)\n",
    "\n",
    "    # Print the result\n",
    "    print('slope:', a, 'intercept:', b)"
   ]
  },
  {
   "cell_type": "markdown",
   "id": "0108b237",
   "metadata": {},
   "source": [
    "# Visualizing bootstrap samples\n",
    "In this exercise, you will generate bootstrap samples from the set of annual rainfall data measured at the Sheffield Weather Station in the UK from 1883 to 2015. The data are stored in the NumPy array rainfall in units of millimeters (mm). By graphically displaying the bootstrap samples with an ECDF, you can get a feel for how bootstrap sampling allows probabilistic descriptions of data."
   ]
  },
  {
   "cell_type": "code",
   "execution_count": null,
   "id": "02c2e521",
   "metadata": {},
   "outputs": [],
   "source": [
    "for _ in range(50):\n",
    "    # Generate bootstrap sample: bs_sample\n",
    "    bs_sample = np.random.choice(rainfall, size=len(rainfall))\n",
    "\n",
    "    # Compute and plot ECDF from bootstrap sample\n",
    "    x, y = ecdf(bs_sample)\n",
    "    _ = plt.plot(x, y, marker='.', linestyle='none',\n",
    "                 color='gray', alpha=0.1)\n",
    "\n",
    "# Compute and plot ECDF from original data\n",
    "x, y = ecdf(rainfall)\n",
    "_ = plt.plot(x, y, marker='.')\n",
    "\n",
    "# Make margins and label axes\n",
    "plt.margins(0.02)\n",
    "_ = plt.xlabel('yearly rainfall (mm)')\n",
    "_ = plt.ylabel('ECDF')\n",
    "\n",
    "# Show the plot\n",
    "plt.show()"
   ]
  },
  {
   "cell_type": "markdown",
   "id": "3e4079ea",
   "metadata": {},
   "source": [
    "# Generating many bootstrap replicates\n",
    "The function bootstrap_replicate_1d() from the video is available in your namespace. Now you'll write another function, draw_bs_reps(data, func, size=1), which generates many bootstrap replicates from the data set. This function will come in handy for you again and again as you compute confidence intervals and later when you do hypothesis tests.\n",
    "\n",
    "For your reference, the bootstrap_replicate_1d() function is provided below:"
   ]
  },
  {
   "cell_type": "code",
   "execution_count": null,
   "id": "6d6e0867",
   "metadata": {},
   "outputs": [],
   "source": [
    "def bootstrap_replicate_1d(data, func):\n",
    "    \"\"\"Generate bootstrap replicate of 1D data.\"\"\"\n",
    "    bs_sample = np.random.choice(data, len(data))\n",
    "    return func(bs_sample)"
   ]
  },
  {
   "cell_type": "code",
   "execution_count": null,
   "id": "cf188a0b",
   "metadata": {},
   "outputs": [],
   "source": [
    "def draw_bs_reps(data, func, size=1):\n",
    "    \"\"\"Draw bootstrap replicates.\"\"\"\n",
    "\n",
    "    # Initialize array of replicates: bs_replicates\n",
    "    bs_replicates = np.empty(size)\n",
    "\n",
    "    # Generate replicates\n",
    "    for i in range(size):\n",
    "        bs_replicates[i] = bootstrap_replicate_1d(data, func)\n",
    "\n",
    "    return bs_replicates"
   ]
  },
  {
   "cell_type": "markdown",
   "id": "66cb0901",
   "metadata": {},
   "source": [
    "# Bootstrap replicates of the mean and the SEM\n",
    "In this exercise, you will compute a bootstrap estimate of the probability density function of the mean annual rainfall at the Sheffield Weather Station. Remember, we are estimating the mean annual rainfall we would get if the Sheffield Weather Station could repeat all of the measurements from 1883 to 2015 over and over again. This is a probabilistic estimate of the mean. You will plot the PDF as a histogram, and you will see that it is Normal.\n",
    "\n",
    "In fact, it can be shown theoretically that under not-too-restrictive conditions, the value of the mean will always be Normally distributed. (This does not hold in general, just for the mean and a few other statistics.) The standard deviation of this distribution, called the standard error of the mean, or SEM, is given by the standard deviation of the data divided by the square root of the number of data points. I.e., for a data set, sem = np.std(data) / np.sqrt(len(data)). Using hacker statistics, you get this same result without the need to derive it, but you will verify this result from your bootstrap replicates.\n",
    "\n",
    "The dataset has been pre-loaded for you into an array called rainfall."
   ]
  },
  {
   "cell_type": "code",
   "execution_count": null,
   "id": "97d70ea0",
   "metadata": {},
   "outputs": [],
   "source": [
    "# Take 10,000 bootstrap replicates of the mean: bs_replicates\n",
    "bs_replicates = draw_bs_reps(rainfall, np.mean, size=10000)\n",
    "\n",
    "# Compute and print SEM\n",
    "sem = np.std(rainfall) / np.sqrt(len(rainfall))\n",
    "print(sem)\n",
    "\n",
    "# Compute and print standard deviation of bootstrap replicates\n",
    "bs_std = np.std(bs_replicates)\n",
    "print(bs_std)\n",
    "\n",
    "# Make a histogram of the results\n",
    "_ = plt.hist(bs_replicates, bins=50, normed=True)\n",
    "_ = plt.xlabel('mean annual rainfall (mm)')\n",
    "_ = plt.ylabel('PDF')\n",
    "\n",
    "# Show the plot\n",
    "plt.show()"
   ]
  },
  {
   "cell_type": "markdown",
   "id": "2937c1f6",
   "metadata": {},
   "source": [
    "# Bootstrap replicates of other statistics\n",
    "We saw in a previous exercise that the mean is Normally distributed. This does not necessarily hold for other statistics, but no worry: as hackers, we can always take bootstrap replicates! In this exercise, you'll generate bootstrap replicates for the variance of the annual rainfall at the Sheffield Weather Station and plot the histogram of the replicates.\n",
    "\n",
    "Here, you will make use of the draw_bs_reps() function you defined a few exercises ago. It is provided below for your reference:"
   ]
  },
  {
   "cell_type": "code",
   "execution_count": null,
   "id": "7b9f1130",
   "metadata": {},
   "outputs": [],
   "source": [
    "def draw_bs_reps(data, func, size=1):\n",
    "    \"\"\"Draw bootstrap replicates.\"\"\"\n",
    "    # Initialize array of replicates\n",
    "    bs_replicates = np.empty(size)\n",
    "    # Generate replicates\n",
    "    for i in range(size):\n",
    "        bs_replicates[i] = bootstrap_replicate_1d(data, func)\n",
    "    return bs_replicates"
   ]
  },
  {
   "cell_type": "code",
   "execution_count": null,
   "id": "a8656cf1",
   "metadata": {},
   "outputs": [],
   "source": [
    "# Generate 10,000 bootstrap replicates of the variance: bs_replicates\n",
    "bs_replicates = draw_bs_reps(rainfall, np.var, size=10000)\n",
    "\n",
    "# Put the variance in units of square centimeters\n",
    "bs_replicates = bs_replicates/100\n",
    "\n",
    "# Make a histogram of the results\n",
    "_ = plt.hist(bs_replicates, normed=True, bins=50)\n",
    "_ = plt.xlabel('variance of annual rainfall (sq. cm)')\n",
    "_ = plt.ylabel('PDF')\n",
    "\n",
    "# Show the plot\n",
    "plt.show()"
   ]
  },
  {
   "cell_type": "markdown",
   "id": "78a0c717",
   "metadata": {},
   "source": [
    "# Confidence interval on the rate of no-hitters\n",
    "Consider again the inter-no-hitter intervals for the modern era of baseball. Generate 10,000 bootstrap replicates of the optimal parameter \b. Plot a histogram of your replicates and report a 95% confidence interval."
   ]
  },
  {
   "cell_type": "code",
   "execution_count": null,
   "id": "204facf4",
   "metadata": {},
   "outputs": [],
   "source": [
    "# Draw bootstrap replicates of the mean no-hitter time (equal to tau): bs_replicates\n",
    "bs_replicates = draw_bs_reps(nohitter_times, np.mean, size=10000)\n",
    "\n",
    "# Compute the 95% confidence interval: conf_int\n",
    "conf_int = np.percentile(bs_replicates, [2.5, 97.5])\n",
    "\n",
    "# Print the confidence interval\n",
    "print('95% confidence interval =', conf_int, 'games')\n",
    "\n",
    "# Plot the histogram of the replicates\n",
    "_ = plt.hist(bs_replicates, bins=50, normed=True)\n",
    "_ = plt.xlabel(r'$\\tau$ (games)')\n",
    "_ = plt.ylabel('PDF')\n",
    "\n",
    "# Show the plot\n",
    "plt.show()"
   ]
  },
  {
   "cell_type": "markdown",
   "id": "74509ae1",
   "metadata": {},
   "source": [
    "# A function to do pairs bootstrap\n",
    "As discussed in the video, pairs bootstrap involves resampling pairs of data. Each collection of pairs fit with a line, in this case using np.polyfit(). We do this again and again, getting bootstrap replicates of the parameter values. To have a useful tool for doing pairs bootstrap, you will write a function to perform pairs bootstrap on a set of x,y data."
   ]
  },
  {
   "cell_type": "code",
   "execution_count": null,
   "id": "0b7a2089",
   "metadata": {},
   "outputs": [],
   "source": [
    "def draw_bs_pairs_linreg(x, y, size=1):\n",
    "    \"\"\"Perform pairs bootstrap for linear regression.\"\"\"\n",
    "\n",
    "    # Set up array of indices to sample from: inds\n",
    "    inds = np.arange(len(x))\n",
    "\n",
    "    # Initialize replicates: bs_slope_reps, bs_intercept_reps\n",
    "    bs_slope_reps = np.empty(size)\n",
    "    bs_intercept_reps = np.empty(size)\n",
    "\n",
    "    # Generate replicates\n",
    "    for i in range(size):\n",
    "        bs_inds = np.random.choice(inds, size=len(inds))\n",
    "        bs_x, bs_y = x[bs_inds], y[bs_inds]\n",
    "        bs_slope_reps[i], bs_intercept_reps[i] = np.polyfit(bs_x, bs_y, deg=1)\n",
    "\n",
    "    return bs_slope_reps, bs_intercept_reps"
   ]
  },
  {
   "cell_type": "markdown",
   "id": "ab829e90",
   "metadata": {},
   "source": [
    "# Pairs bootstrap of literacy/fertility data\n",
    "Using the function you just wrote, perform pairs bootstrap to plot a histogram describing the estimate of the slope from the illiteracy/fertility data. Also report the 95% confidence interval of the slope. The data is available to you in the NumPy arrays illiteracy and fertility.\n",
    "\n",
    "As a reminder, draw_bs_pairs_linreg() has a function signature of draw_bs_pairs_linreg(x, y, size=1), and it returns two values: bs_slope_reps and bs_intercept_reps."
   ]
  },
  {
   "cell_type": "code",
   "execution_count": null,
   "id": "63d952ec",
   "metadata": {},
   "outputs": [],
   "source": [
    "# Generate replicates of slope and intercept using pairs bootstrap\n",
    "bs_slope_reps, bs_intercept_reps = draw_bs_pairs_linreg(illiteracy, fertility, size=1000)\n",
    "\n",
    "# Compute and print 95% CI for slope\n",
    "print(np.percentile(bs_slope_reps, [2.5, 97.5]))\n",
    "\n",
    "# Plot the histogram\n",
    "_ = plt.hist(bs_slope_reps, bins=50, density=True)\n",
    "_ = plt.xlabel('slope')\n",
    "_ = plt.ylabel('PDF')\n",
    "plt.show()"
   ]
  },
  {
   "cell_type": "markdown",
   "id": "a9087e3e",
   "metadata": {},
   "source": [
    "# Plotting bootstrap regressions\n",
    "A nice way to visualize the variability we might expect in a linear regression is to plot the line you would get from each bootstrap replicate of the slope and intercept. Do this for the first 100 of your bootstrap replicates of the slope and intercept (stored as bs_slope_reps and bs_intercept_reps)."
   ]
  },
  {
   "cell_type": "code",
   "execution_count": null,
   "id": "6418a932",
   "metadata": {},
   "outputs": [],
   "source": [
    "# Generate array of x-values for bootstrap lines: x\n",
    "x = np.array([0,100])\n",
    "\n",
    "# Plot the bootstrap lines\n",
    "for i in range(100):\n",
    "    _ = plt.plot(x, \n",
    "                 bs_slope_reps[i]*x + bs_intercept_reps[i],\n",
    "                 linewidth=0.5, alpha=0.2, color='red')\n",
    "\n",
    "# Plot the data\n",
    "_ = plt.plot(illiteracy, fertility, marker=\".\", linestyle=\"none\")\n",
    "\n",
    "# Label axes, set the margins, and show the plot\n",
    "_ = plt.xlabel('illiteracy')\n",
    "_ = plt.ylabel('fertility')\n",
    "plt.margins(0.02)\n",
    "plt.show()"
   ]
  },
  {
   "cell_type": "markdown",
   "id": "370ee899",
   "metadata": {},
   "source": [
    "# Generating a permutation sample\n",
    "In the video, you learned that permutation sampling is a great way to simulate the hypothesis that two variables have identical probability distributions. This is often a hypothesis you want to test, so in this exercise, you will write a function to generate a permutation sample from two data sets.\n",
    "\n",
    "Remember, a permutation sample of two arrays having respectively n1 and n2 entries is constructed by concatenating the arrays together, scrambling the contents of the concatenated array, and then taking the first n1 entries as the permutation sample of the first array and the last n2 entries as the permutation sample of the second array."
   ]
  },
  {
   "cell_type": "code",
   "execution_count": null,
   "id": "5628309e",
   "metadata": {},
   "outputs": [],
   "source": [
    "def permutation_sample(data1, data2):\n",
    "    \"\"\"Generate a permutation sample from two data sets.\"\"\"\n",
    "\n",
    "    # Concatenate the data sets: data\n",
    "    data = np.concatenate((data1,data2))\n",
    "\n",
    "    # Permute the concatenated array: permuted_data\n",
    "    permuted_data = np.random.permutation(data)\n",
    "\n",
    "    # Split the permuted array into two: perm_sample_1, perm_sample_2\n",
    "    perm_sample_1 = permuted_data[:len(data1)]\n",
    "    perm_sample_2 = permuted_data[len(data1):]\n",
    "\n",
    "    return perm_sample_1, perm_sample_2"
   ]
  },
  {
   "cell_type": "markdown",
   "id": "99d20c71",
   "metadata": {},
   "source": [
    "# Visualizing permutation sampling\n",
    "To help see how permutation sampling works, in this exercise you will generate permutation samples and look at them graphically.\n",
    "\n",
    "We will use the Sheffield Weather Station data again, this time considering the monthly rainfall in June (a dry month) and November (a wet month). We expect these might be differently distributed, so we will take permutation samples to see how their ECDFs would look if they were identically distributed.\n",
    "\n",
    "The data are stored in the Numpy arrays rain_june and rain_november.\n",
    "\n",
    "As a reminder, permutation_sample() has a function signature of permutation_sample(data_1, data_2) with a return value of permuted_data[:len(data_1)], permuted_data[len(data_1):], where permuted_data = np.random.permutation(np.concatenate((data_1, data_2)))."
   ]
  },
  {
   "cell_type": "code",
   "execution_count": null,
   "id": "f4f59c94",
   "metadata": {},
   "outputs": [],
   "source": [
    "for _ in range(50):\n",
    "    # Generate permutation samples\n",
    "    perm_sample_1, perm_sample_2 = permutation_sample(rain_june, rain_november)\n",
    "\n",
    "\n",
    "    # Compute ECDFs\n",
    "    x_1, y_1 = ecdf(perm_sample_1)\n",
    "    x_2, y_2 = ecdf(perm_sample_2)\n",
    "\n",
    "    # Plot ECDFs of permutation sample\n",
    "    _ = plt.plot(x_1, y_1, marker='.', linestyle='none',\n",
    "                 color='red', alpha=0.02)\n",
    "    _ = plt.plot(x_2, y_2, marker='.', linestyle='none',\n",
    "                 color='blue', alpha=0.02)\n",
    "\n",
    "# Create and plot ECDFs from original data\n",
    "x_1, y_1 = ecdf(rain_june)\n",
    "x_2, y_2 = ecdf(rain_november)\n",
    "_ = plt.plot(x_1, y_1, marker='.', linestyle='none', color='red')\n",
    "_ = plt.plot(x_2, y_2, marker='.', linestyle='none', color='blue')\n",
    "\n",
    "# Label axes, set margin, and show plot\n",
    "plt.margins(0.02)\n",
    "_ = plt.xlabel('monthly rainfall (mm)')\n",
    "_ = plt.ylabel('ECDF')\n",
    "plt.show()"
   ]
  },
  {
   "cell_type": "markdown",
   "id": "64cd9624",
   "metadata": {},
   "source": [
    "# Generating permutation replicates\n",
    "As discussed in the video, a permutation replicate is a single value of a statistic computed from a permutation sample. As the draw_bs_reps() function you wrote in chapter 2 is useful for you to generate bootstrap replicates, it is useful to have a similar function, draw_perm_reps(), to generate permutation replicates. You will write this useful function in this exercise.\n",
    "\n",
    "The function has call signature draw_perm_reps(data_1, data_2, func, size=1). Importantly, func must be a function that takes two arrays as arguments. In most circumstances, func will be a function you write yourself."
   ]
  },
  {
   "cell_type": "code",
   "execution_count": null,
   "id": "d29cd6f4",
   "metadata": {},
   "outputs": [],
   "source": [
    "def draw_perm_reps(data_1, data_2, func, size=1):\n",
    "    \"\"\"Generate multiple permutation replicates.\"\"\"\n",
    "\n",
    "    # Initialize array of replicates: perm_replicates\n",
    "    perm_replicates = np.empty(size)\n",
    "\n",
    "    for i in range(size):\n",
    "        # Generate permutation sample\n",
    "        perm_sample_1, perm_sample_2 = permutation_sample(data_1, data_2)\n",
    "\n",
    "        # Compute the test statistic\n",
    "        perm_replicates[i] = func(perm_sample_1,perm_sample_2)\n",
    "\n",
    "    return perm_replicates"
   ]
  },
  {
   "cell_type": "markdown",
   "id": "db22dd77",
   "metadata": {},
   "source": [
    "# Look before you leap: EDA before hypothesis testing\n",
    "Kleinteich and Gorb (Sci. Rep., 4, 5225, 2014) performed an interesting experiment with South American horned frogs. They held a plate connected to a force transducer, along with a bait fly, in front of them. They then measured the impact force and adhesive force of the frog's tongue when it struck the target.\n",
    "\n",
    "Frog A is an adult and Frog B is a juvenile. The researchers measured the impact force of 20 strikes for each frog. In the next exercise, we will test the hypothesis that the two frogs have the same distribution of impact forces. But, remember, it is important to do EDA first! Let's make a bee swarm plot for the data. They are stored in a Pandas data frame, df, where column ID is the identity of the frog and column impact_force is the impact force in Newtons (N)."
   ]
  },
  {
   "cell_type": "code",
   "execution_count": null,
   "id": "5954f390",
   "metadata": {},
   "outputs": [],
   "source": [
    "# Make bee swarm plot\n",
    "_ = sns.swarmplot(data=df, x=\"ID\", y=\"impact_force\")\n",
    "\n",
    "# Label axes\n",
    "_ = plt.xlabel('frog')\n",
    "_ = plt.ylabel('impact force (N)')\n",
    "\n",
    "# Show the plot\n",
    "plt.show()"
   ]
  },
  {
   "cell_type": "markdown",
   "id": "a6dd9ccd",
   "metadata": {},
   "source": [
    "# Permutation test on frog data\n",
    "The average strike force of Frog A was 0.71 Newtons (N), and that of Frog B was 0.42 N for a difference of 0.29 N. It is possible the frogs strike with the same force and this observed difference was by chance. You will compute the probability of getting at least a 0.29 N difference in mean strike force under the hypothesis that the distributions of strike forces for the two frogs are identical. We use a permutation test with a test statistic of the difference of means to test this hypothesis.\n",
    "\n",
    "For your convenience, the data has been stored in the arrays force_a and force_b."
   ]
  },
  {
   "cell_type": "code",
   "execution_count": null,
   "id": "265de9e2",
   "metadata": {},
   "outputs": [],
   "source": [
    "def diff_of_means(data_1, data_2):\n",
    "    \"\"\"Difference in means of two arrays.\"\"\"\n",
    "\n",
    "    # The difference of means of data_1, data_2: diff\n",
    "    diff = np.mean(data_1) - np.mean(data_2)\n",
    "\n",
    "    return diff\n",
    "\n",
    "# Compute difference of mean impact force from experiment: empirical_diff_means\n",
    "empirical_diff_means = diff_of_means(force_a, force_b)\n",
    "\n",
    "empirical_diff_means\n",
    "# Draw 10,000 permutation replicates: perm_replicates\n",
    "perm_replicates = draw_perm_reps(force_a, force_b,\n",
    "                                 diff_of_means, size=10000)\n",
    "\n",
    "# Compute p-value: p\n",
    "p = np.sum(perm_replicates >= empirical_diff_means) / len(perm_replicates)\n",
    "\n",
    "# Print the result\n",
    "print('p-value =', p)"
   ]
  },
  {
   "cell_type": "markdown",
   "id": "290bfc8e",
   "metadata": {},
   "source": [
    "# A one-sample bootstrap hypothesis test\n",
    "Another juvenile frog was studied, Frog C, and you want to see if Frog B and Frog C have similar impact forces. Unfortunately, you do not have Frog C's impact forces available, but you know they have a mean of 0.55 N. Because you don't have the original data, you cannot do a permutation test, and you cannot assess the hypothesis that the forces from Frog B and Frog C come from the same distribution. You will therefore test another, less restrictive hypothesis: The mean strike force of Frog B is equal to that of Frog C.\n",
    "\n",
    "To set up the bootstrap hypothesis test, you will take the mean as our test statistic. Remember, your goal is to calculate the probability of getting a mean impact force less than or equal to what was observed for Frog B if the hypothesis that the true mean of Frog B's impact forces is equal to that of Frog C is true. You first translate all of the data of Frog B such that the mean is 0.55 N. This involves adding the mean force of Frog C and subtracting the mean force of Frog B from each measurement of Frog B. This leaves other properties of Frog B's distribution, such as the variance, unchanged."
   ]
  },
  {
   "cell_type": "code",
   "execution_count": null,
   "id": "03c74108",
   "metadata": {},
   "outputs": [],
   "source": [
    "# Make an array of translated impact forces: translated_force_b\n",
    "translated_force_b = force_b - np.mean(force_b) + 0.55\n",
    "\n",
    "# Take bootstrap replicates of Frog B's translated impact forces: bs_replicates\n",
    "bs_replicates = draw_bs_reps(translated_force_b, np.mean, 10000)\n",
    "\n",
    "# Compute fraction of replicates that are less than the observed Frog B force: p\n",
    "p = np.sum(bs_replicates <= np.mean(force_b)) / 10000\n",
    "\n",
    "# Print the p-value\n",
    "print('p = ', p)"
   ]
  },
  {
   "cell_type": "markdown",
   "id": "ef37b991",
   "metadata": {},
   "source": [
    "# A two-sample bootstrap hypothesis test for difference of means\n",
    "We now want to test the hypothesis that Frog A and Frog B have the same mean impact force, but not necessarily the same distribution, which is also impossible with a permutation test.\n",
    "\n",
    "To do the two-sample bootstrap test, we shift both arrays to have the same mean, since we are simulating the hypothesis that their means are, in fact, equal. We then draw bootstrap samples out of the shifted arrays and compute the difference in means. This constitutes a bootstrap replicate, and we generate many of them. The p-value is the fraction of replicates with a difference in means greater than or equal to what was observed.\n",
    "\n",
    "The objects forces_concat and empirical_diff_means are already in your namespace."
   ]
  },
  {
   "cell_type": "code",
   "execution_count": null,
   "id": "f18cb9e1",
   "metadata": {},
   "outputs": [],
   "source": [
    "# Compute mean of all forces: mean_force\n",
    "mean_force = np.mean(forces_concat)\n",
    "\n",
    "# Generate shifted arrays\n",
    "force_a_shifted = force_a - np.mean(force_a) + mean_force\n",
    "force_b_shifted = force_b - np.mean(force_b) + mean_force\n",
    "\n",
    "# Compute 10,000 bootstrap replicates from shifted arrays\n",
    "bs_replicates_a = draw_bs_reps(force_a_shifted, np.mean, 10000)\n",
    "bs_replicates_b = draw_bs_reps(force_b_shifted, np.mean, 10000)\n",
    "\n",
    "# Get replicates of difference of means: bs_replicates\n",
    "bs_replicates = bs_replicates_a - bs_replicates_b\n",
    "\n",
    "\n",
    "# Compute and print p-value: p\n",
    "p = np.sum(bs_replicates > (np.mean(force_a - force_b))) / len(bs_replicates)\n",
    "print('p-value = %.8f' %p)"
   ]
  },
  {
   "cell_type": "markdown",
   "id": "3632a85d",
   "metadata": {},
   "source": [
    "# The vote for the Civil Rights Act in 1964\n",
    "The Civil Rights Act of 1964 was one of the most important pieces of legislation ever passed in the USA. Excluding \"present\" and \"abstain\" votes, 153 House Democrats and 136 Republicans voted yea. However, 91 Democrats and 35 Republicans voted nay. Did party affiliation make a difference in the vote?\n",
    "\n",
    "To answer this question, you will evaluate the hypothesis that the party of a House member has no bearing on his or her vote. You will use the fraction of Democrats voting in favor as your test statistic and evaluate the probability of observing a fraction of Democrats voting in favor at least as small as the observed fraction of 153/244. (That's right, at least as small as. In 1964, it was the Democrats who were less progressive on civil rights issues.) To do this, permute the party labels of the House voters and then arbitrarily divide them into \"Democrats\" and \"Republicans\" and compute the fraction of Democrats voting yea."
   ]
  },
  {
   "cell_type": "code",
   "execution_count": null,
   "id": "cb81af2c",
   "metadata": {},
   "outputs": [],
   "source": []
  }
 ],
 "metadata": {
  "kernelspec": {
   "display_name": "Python 3",
   "language": "python",
   "name": "python3"
  },
  "language_info": {
   "codemirror_mode": {
    "name": "ipython",
    "version": 3
   },
   "file_extension": ".py",
   "mimetype": "text/x-python",
   "name": "python",
   "nbconvert_exporter": "python",
   "pygments_lexer": "ipython3",
   "version": "3.8.11"
  }
 },
 "nbformat": 4,
 "nbformat_minor": 5
}
