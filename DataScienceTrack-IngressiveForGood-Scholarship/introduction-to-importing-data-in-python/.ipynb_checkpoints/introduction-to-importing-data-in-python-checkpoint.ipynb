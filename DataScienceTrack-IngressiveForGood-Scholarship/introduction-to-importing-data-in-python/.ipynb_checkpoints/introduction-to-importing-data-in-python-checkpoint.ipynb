{
 "cells": [
  {
   "cell_type": "markdown",
   "id": "14f110ff",
   "metadata": {},
   "source": [
    "# Exploring your working directory\n",
    "In order to import data into Python, you should first have an idea of what files are in your working directory.\n",
    "\n",
    "IPython, which is running on DataCamp's servers, has a bunch of cool commands, including its magic commands. For example, starting a line with ! gives you complete system shell access. This means that the IPython magic command ! ls will display the contents of your current directory. Your task is to use the IPython magic command ! ls to check out the contents of your current directory and answer the following question: which of the following files is in your working directory?"
   ]
  },
  {
   "cell_type": "code",
   "execution_count": 1,
   "id": "1370947b",
   "metadata": {},
   "outputs": [
    {
     "data": {
      "text/plain": [
       "'Possible Answers\\n\\nhuck_finn.txt\\n\\ntitanic.csv\\n\\nmoby_dick.txt'"
      ]
     },
     "execution_count": 1,
     "metadata": {},
     "output_type": "execute_result"
    }
   ],
   "source": [
    "\"\"\"Possible Answers\n",
    "\n",
    "huck_finn.txt\n",
    "\n",
    "titanic.csv\n",
    "\n",
    "moby_dick.txt\"\"\"\n",
    "\n",
    "#Answer= moby_dick.txt"
   ]
  },
  {
   "cell_type": "markdown",
   "id": "36d76fb2",
   "metadata": {},
   "source": [
    "# Importing entire text files\n",
    "In this exercise, you'll be working with the file moby_dick.txt. It is a text file that contains the opening sentences of Moby Dick, one of the great American novels! Here you'll get experience opening a text file, printing its contents to the shell and, finally, closing it."
   ]
  },
  {
   "cell_type": "code",
   "execution_count": null,
   "id": "87fa2ee6",
   "metadata": {},
   "outputs": [],
   "source": [
    "# Open a file: file\n",
    "file = open('moby_dick.txt' ,mode= 'r') # mode = 'r' for read only\n",
    "\n",
    "# Print it\n",
    "print(file.read()) \n",
    "\n",
    "# Check whether file is closed\n",
    "print(file.closed)\n",
    "\n",
    "# Close file\n",
    "file.close()\n",
    "\n",
    "# Check whether file is closed\n",
    "print(file.closed)"
   ]
  },
  {
   "cell_type": "markdown",
   "id": "8ec51dfa",
   "metadata": {},
   "source": [
    "# Importing text files line by line\n",
    "For large files, we may not want to print all of their content to the shell: you may wish to print only the first few lines. Enter the readline() method, which allows you to do this. When a file called file is open, you can print out the first line by executing file.readline(). If you execute the same command again, the second line will print, and so on.\n",
    "\n",
    "In the introductory video, Hugo also introduced the concept of a context manager. He showed that you can bind a variable file by using a context manager construct:\n",
    "\n",
    "with open('huck_finn.txt') as file:\n",
    "While still within this construct, the variable file will be bound to open('huck_finn.txt'); thus, to print the file to the shell, all the code you need to execute is:\n",
    "\n",
    "with open('huck_finn.txt') as file:\n",
    "    print(file.readline())\n",
    "You'll now use these tools to print the first few lines of moby_dick.txt!"
   ]
  },
  {
   "cell_type": "code",
   "execution_count": null,
   "id": "896f2daf",
   "metadata": {},
   "outputs": [],
   "source": [
    "\"\"\"Open moby_dick.txt using the with context manager and the variable file.\n",
    "Print the first three lines of the file to the shell by using readline() three times within \n",
    "the context manager.\n",
    "\"\"\"\n",
    "# Read & print the first 3 lines\n",
    "with open('moby_dick.txt') as file:\n",
    "    print(file.readline())\n",
    "    print(file.readline())\n",
    "    print(file.readline())"
   ]
  }
 ],
 "metadata": {
  "kernelspec": {
   "display_name": "Python 3",
   "language": "python",
   "name": "python3"
  },
  "language_info": {
   "codemirror_mode": {
    "name": "ipython",
    "version": 3
   },
   "file_extension": ".py",
   "mimetype": "text/x-python",
   "name": "python",
   "nbconvert_exporter": "python",
   "pygments_lexer": "ipython3",
   "version": "3.8.11"
  }
 },
 "nbformat": 4,
 "nbformat_minor": 5
}
