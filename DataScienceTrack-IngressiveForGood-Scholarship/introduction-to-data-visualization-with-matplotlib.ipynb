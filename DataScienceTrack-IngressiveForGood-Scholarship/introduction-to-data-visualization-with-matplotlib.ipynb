{
 "cells": [
  {
   "cell_type": "markdown",
   "id": "048e5417",
   "metadata": {},
   "source": [
    "# Using the matplotlib.pyplot interface\n",
    "There are many ways to use Matplotlib. In this course, we will focus on the pyplot interface, which provides the most flexibility in creating and customizing data visualizations.\n",
    "\n",
    "Initially, we will use the pyplot interface to create two kinds of objects: Figure objects and Axes objects.\n",
    "\n",
    "This course introduces a lot of new concepts, so if you ever need a quick refresher, download the Matplotlib Cheat Sheet and keep it handy!"
   ]
  },
  {
   "cell_type": "code",
   "execution_count": null,
   "id": "f2613a33",
   "metadata": {
    "scrolled": true
   },
   "outputs": [],
   "source": [
    "# Import the matplotlib.pyplot submodule and name it plt\n",
    "import matplotlib.pyplot as plt\n",
    "\n",
    "# Create a Figure and an Axes with plt.subplots\n",
    "fig, ax = plt.subplots()\n",
    "\n",
    "# Call the show function to show the result\n",
    "plt.show()"
   ]
  },
  {
   "cell_type": "markdown",
   "id": "2335d4a3",
   "metadata": {},
   "source": [
    "# Adding data to an Axes object\n",
    "Adding data to a figure is done by calling methods of the Axes object. In this exercise, we will use the plot method to add data about rainfall in two American cities: Seattle, WA and Austin, TX.\n",
    "\n",
    "The data are stored in two Pandas DataFrame objects that are already loaded into memory: seattle_weather stores information about the weather in Seattle, and austin_weather stores information about the weather in Austin. Each of the data frames has a MONTHS column that stores the three-letter name of the months. Each also has a column named \"MLY-PRCP-NORMAL\" that stores the average rainfall in each month during a ten-year period.\n",
    "\n",
    "In this exercise, you will create a visualization that will allow you to compare the rainfall in these two cities."
   ]
  },
  {
   "cell_type": "code",
   "execution_count": null,
   "id": "c4569c38",
   "metadata": {},
   "outputs": [],
   "source": [
    "# Import the matplotlib.pyplot submodule and name it plt\n",
    "import matplotlib.pyplot as plt\n",
    "\n",
    "# Create a Figure and an Axes with plt.subplots\n",
    "fig, ax = plt.subplots()\n",
    "\n",
    "# Plot MLY-PRCP-NORMAL from seattle_weather against MONTH\n",
    "ax.plot(seattle_weather[\"MONTH\"], seattle_weather[\"MLY-PRCP-NORMAL\"])\n",
    "\n",
    "# Plot MLY-PRCP-NORMAL from austin_weather against MONTH\n",
    "ax.plot(austin_weather[\"MONTH\"], austin_weather[\"MLY-PRCP-NORMAL\"])\n",
    "\n",
    "# Call the show function\n",
    "plt.show()\n"
   ]
  },
  {
   "cell_type": "markdown",
   "id": "b63b20a5",
   "metadata": {},
   "source": [
    "# Customizing data appearance\n",
    "We can customize the appearance of data in our plots, while adding the data to the plot, using key-word arguments to the plot command.\n",
    "\n",
    "In this exercise, you will customize the appearance of the markers, the linestyle that is used, and the color of the lines and markers for your data.\n",
    "\n",
    "As before, the data is already provided in Pandas DataFrame objects loaded into memory: seattle_weather and austin_weather. These each have a MONTHS column and a \"MLY-PRCP-NORMAL\" that you will plot against each other.\n",
    "\n",
    "In addition, a Figure object named fig and an Axes object named ax have already been created for you."
   ]
  },
  {
   "cell_type": "code",
   "execution_count": null,
   "id": "3a1a7c0b",
   "metadata": {},
   "outputs": [],
   "source": [
    "# Plot Seattle data, setting data appearance\n",
    "ax.plot(seattle_weather[\"MONTH\"], seattle_weather[\"MLY-PRCP-NORMAL\"],\n",
    "        color='b', marker='o', linestyle='--')\n",
    "\n",
    "# Plot Austin data, setting data appearance\n",
    "ax.plot(austin_weather[\"MONTH\"], austin_weather[\"MLY-PRCP-NORMAL\"],\n",
    "        color='r', marker='v', linestyle='--')\n",
    "\n",
    "# Call show to display the resulting plot\n",
    "plt.show()"
   ]
  },
  {
   "cell_type": "markdown",
   "id": "be26e12a",
   "metadata": {},
   "source": [
    "# Customizing axis labels and adding titles\n",
    "Customizing the axis labels requires using the set_xlabel and set_ylabel methods of the Axes object. Adding a title uses the set_title method.\n",
    "\n",
    "In this exercise, you will customize the content of the axis labels and add a title to a plot.\n",
    "\n",
    "As before, the data is already provided in Pandas DataFrame objects loaded into memory: seattle_weather and austin_weather. These each have a MONTH column and a MLY-PRCP-NORMAL column. These data are plotted against each other in the first two lines of the sample code provided.\n",
    "\n",
    "In addition, a Figure object named fig and an Axes object named ax have already been created for you."
   ]
  },
  {
   "cell_type": "code",
   "execution_count": null,
   "id": "f7a8745b",
   "metadata": {},
   "outputs": [],
   "source": [
    "ax.plot(seattle_weather[\"MONTH\"], seattle_weather[\"MLY-PRCP-NORMAL\"])\n",
    "ax.plot(austin_weather[\"MONTH\"], austin_weather[\"MLY-PRCP-NORMAL\"])\n",
    "\n",
    "# Customize the x-axis label\n",
    "ax.set_xlabel(\"Time (months)\")\n",
    "\n",
    "# Customize the y-axis label\n",
    "ax.set_ylabel(\"Precipitation (inches)\")\n",
    "\n",
    "# Add the title\n",
    "ax.set_title(\"Weather patterns in Austin and Seattle\")\n",
    "\n",
    "# Display the figure\n",
    "plt.show()"
   ]
  },
  {
   "cell_type": "markdown",
   "id": "8723fef4",
   "metadata": {},
   "source": [
    "# Creating a grid of subplots\n",
    "How would you create a Figure with 6 Axes objects organized in 3 rows and 2 columns?"
   ]
  },
  {
   "cell_type": "code",
   "execution_count": null,
   "id": "f4f3fc5b",
   "metadata": {},
   "outputs": [],
   "source": [
    "fig, ax = plt.subplots(3, 2)"
   ]
  },
  {
   "cell_type": "markdown",
   "id": "cf8624aa",
   "metadata": {},
   "source": [
    "# Creating small multiples with plt.subplots\n",
    "Small multiples are used to plot several datasets side-by-side. In Matplotlib, small multiples can be created using the plt.subplots() function. The first argument is the number of rows in the array of Axes objects generate and the second argument is the number of columns. In this exercise, you will use the Austin and Seattle data to practice creating and populating an array of subplots.\n",
    "\n",
    "The data is given to you in DataFrames: seattle_weather and austin_weather. These each have a MONTH column and MLY-PRCP-NORMAL (for average precipitation), as well as MLY-TAVG-NORMAL (for average temperature) columns. In this exercise, you will plot in a separate subplot the monthly average precipitation and average temperatures in each city."
   ]
  },
  {
   "cell_type": "code",
   "execution_count": null,
   "id": "10a68ca4",
   "metadata": {},
   "outputs": [],
   "source": [
    "# Create a Figure and an array of subplots with 2 rows and 2 columns\n",
    "fig, ax = plt.subplots(2, 2)\n",
    "\n",
    "# Addressing the top left Axes as index 0, 0, plot month and Seattle precipitation\n",
    "ax[0, 0].plot(seattle_weather[\"MONTH\"], seattle_weather[\"MLY-PRCP-NORMAL\"])\n",
    "\n",
    "# In the top right (index 0,1), plot month and Seattle temperatures\n",
    "ax[0, 1].plot(seattle_weather[\"MONTH\"], seattle_weather[\"MLY-TAVG-NORMAL\"])\n",
    "\n",
    "# In the bottom left (1, 0) plot month and Austin precipitations\n",
    "ax[1, 0].plot(austin_weather[\"MONTH\"], austin_weather[\"MLY-PRCP-NORMAL\"])\n",
    "\n",
    "# In the bottom right (1, 1) plot month and Austin temperatures\n",
    "ax[1, 1].plot(austin_weather[\"MONTH\"], austin_weather[\"MLY-TAVG-NORMAL\"])\n",
    "plt.show()"
   ]
  },
  {
   "cell_type": "markdown",
   "id": "31aa635f",
   "metadata": {},
   "source": [
    "# Small multiples with shared y axis\n",
    "When creating small multiples, it is often preferable to make sure that the different plots are displayed with the same scale used on the y-axis. This can be configured by setting the sharey key-word to True.\n",
    "\n",
    "In this exercise, you will create a Figure with two Axes objects that share their y-axis. As before, the data is provided in seattle_weather and austin_weather DataFrames."
   ]
  },
  {
   "cell_type": "code",
   "execution_count": null,
   "id": "1773d8d2",
   "metadata": {},
   "outputs": [],
   "source": [
    "# Create a figure and an array of axes: 2 rows, 1 column with shared y axis\n",
    "fig, ax = plt.subplots(2, 1, sharey=True)\n",
    "\n",
    "# Plot Seattle precipitation in the top axes\n",
    "ax[0].plot(seattle_weather[\"MONTH\"], seattle_weather[\"MLY-PRCP-NORMAL\"], color='b')\n",
    "ax[0].plot(seattle_weather[\"MONTH\"], seattle_weather[\"MLY-PRCP-25PCTL\"], color='b', linestyle='--')\n",
    "ax[0].plot(seattle_weather[\"MONTH\"], seattle_weather[\"MLY-PRCP-75PCTL\"], color='b', linestyle='--')\n",
    "\n",
    "# Plot Austin precipitation in the bottom axes\n",
    "ax[1].plot(austin_weather[\"MONTH\"], austin_weather[\"MLY-PRCP-NORMAL\"], color='r')\n",
    "ax[1].plot(austin_weather[\"MONTH\"], austin_weather[\"MLY-PRCP-25PCTL\"], color='r', linestyle='--')\n",
    "ax[1].plot(austin_weather[\"MONTH\"], austin_weather[\"MLY-PRCP-75PCTL\"], color='r', linestyle='--')\n",
    "\n",
    "plt.show()\n",
    "\n"
   ]
  },
  {
   "cell_type": "markdown",
   "id": "0ec9f932",
   "metadata": {},
   "source": [
    "# Read data with a time index\n",
    "Pandas DataFrame objects can have an index that denotes time. This is useful because Matplotlib recognizes that these measurements represent time and labels the values on the axis accordingly.\n",
    "\n",
    "In this exercise, you will read data from a CSV file called climate_change.csv that contains measurements of CO2 levels and temperatures made on the 6th of every month from 1958 until 2016. You will use Pandas' read_csv function.\n",
    "\n",
    "To designate the index as a DateTimeIndex, you will use the parse_dates and index_col key-word arguments both to parse this column as a variable that contains dates and also to designate it as the index for this DataFrame.\n",
    "\n",
    "By the way, if you haven't downloaded it already, check out the Matplotlib Cheat Sheet. It includes an overview of the most important concepts, functions and methods and might come in handy if you ever need a quick refresher!"
   ]
  },
  {
   "cell_type": "code",
   "execution_count": null,
   "id": "7f4b2218",
   "metadata": {},
   "outputs": [],
   "source": [
    "# Import pandas as pd\n",
    "import pandas as pd\n",
    "# Read the data from file using read_csv\n",
    "climate_change = pd.read_csv('climate_change.csv', parse_dates=[\"date\"], index_col=\"date\")"
   ]
  },
  {
   "cell_type": "markdown",
   "id": "33f3249e",
   "metadata": {},
   "source": [
    "# Plot time-series data\n",
    "To plot time-series data, we use the Axes object plot command. The first argument to this method are the values for the x-axis and the second argument are the values for the y-axis.\n",
    "\n",
    "This exercise provides data stored in a DataFrame called climate_change. This variable has a time-index with the dates of measurements and two data columns: \"co2\" and \"relative_temp\".\n",
    "\n",
    "In this case, the index of the DataFrame would be used as the x-axis values and we will plot the values stored in the \"relative_temp\" column as the y-axis values. We will also properly label the x-axis and y-axis."
   ]
  },
  {
   "cell_type": "code",
   "execution_count": null,
   "id": "6e42d5ef",
   "metadata": {},
   "outputs": [],
   "source": [
    "import matplotlib.pyplot as plt\n",
    "fig, ax = plt.subplots()\n",
    "\n",
    "# Add the time-series for \"relative_temp\" to the plot\n",
    "ax.plot(climate_change.index, climate_change['relative_temp'])\n",
    "\n",
    "# Set the x-axis label\n",
    "ax.set_xlabel('Time')\n",
    "\n",
    "# Set the y-axis label \n",
    "ax.set_ylabel('Relative temperature (Celsius)')\n",
    "\n",
    "# Show the figure\n",
    "plt.show()"
   ]
  },
  {
   "cell_type": "markdown",
   "id": "1fa94263",
   "metadata": {},
   "source": [
    "# Using a time index to zoom in\n",
    "When a time-series is represented with a time index, we can use this index for the x-axis when plotting. We can also select a to zoom in on a particular period within the time-series using Pandas' indexing facilities. In this exercise, you will select a portion of a time-series dataset and you will plot that period.\n",
    "\n",
    "The data to use is stored in a DataFrame called climate_change, which has a time-index with dates of measurements and two data columns: \"co2\" and \"relative_temp\"."
   ]
  },
  {
   "cell_type": "code",
   "execution_count": null,
   "id": "106947b0",
   "metadata": {},
   "outputs": [],
   "source": [
    "import matplotlib.pyplot as plt\n",
    "\n",
    "# Use plt.subplots to create fig and ax\n",
    "fig, ax = plt.subplots()\n",
    "\n",
    "# Create variable seventies with data from \"1970-01-01\" to \"1979-12-31\"\n",
    "seventies = climate_change[\"1970-01-01\":\"1979-12-31\"]\n",
    "\n",
    "# Add the time-series for \"co2\" data from seventies to the plot\n",
    "ax.plot(seventies.index, seventies[\"co2\"])\n",
    "\n",
    "# Show the figure\n",
    "plt.show()"
   ]
  },
  {
   "cell_type": "markdown",
   "id": "b5944a2d",
   "metadata": {},
   "source": [
    "# Plotting two variables\n",
    "If you want to plot two time-series variables that were recorded at the same times, you can add both of them to the same subplot.\n",
    "\n",
    "If the variables have very different scales, you'll want to make sure that you plot them in different twin Axes objects. These objects can share one axis (for example, the time, or x-axis) while not sharing the other (the y-axis).\n",
    "\n",
    "To create a twin Axes object that shares the x-axis, we use the twinx method.\n",
    "\n",
    "In this exercise, you'll have access to a DataFrame that has the climate_change data loaded into it. This DataFrame was loaded with the \"date\" column set as a DateTimeIndex, and it has a column called \"co2\" with carbon dioxide measurements and a column called \"relative_temp\" with temperature measurements."
   ]
  },
  {
   "cell_type": "code",
   "execution_count": null,
   "id": "43b3bdd5",
   "metadata": {},
   "outputs": [],
   "source": [
    "import matplotlib.pyplot as plt\n",
    "\n",
    "# Initalize a Figure and Axes\n",
    "fig, ax = plt.subplots()\n",
    "\n",
    "# Plot the CO2 variable in blue\n",
    "ax.plot(climate_change.index, climate_change[\"co2\"], color='blue')\n",
    "\n",
    "# Create a twin Axes that shares the x-axis\n",
    "ax2 = ax.twinx()\n",
    "\n",
    "# Plot the relative temperature in red\n",
    "ax2.plot(climate_change.index, climate_change[\"relative_temp\"], color='red')\n",
    "\n",
    "plt.show()"
   ]
  },
  {
   "cell_type": "markdown",
   "id": "726f2ce8",
   "metadata": {},
   "source": [
    "# Defining a function that plots time-series data\n",
    "Once you realize that a particular section of code that you have written is useful, it is a good idea to define a function that saves that section of code for you, rather than copying it to other parts of your program where you would like to use this code.\n",
    "\n",
    "Here, we will define a function that takes inputs such as a time variable and some other variable and plots them as x and y inputs. Then, it sets the labels on the x- and y-axis and sets the colors of the y-axis label, the y-axis ticks and the tick labels."
   ]
  },
  {
   "cell_type": "code",
   "execution_count": null,
   "id": "fe029c4d",
   "metadata": {},
   "outputs": [],
   "source": [
    "# Define a function called plot_timeseries\n",
    "def plot_timeseries(axes, x, y, color, xlabel, ylabel):\n",
    "\n",
    "  # Plot the inputs x,y in the provided color\n",
    "  axes.plot(x, y, color=color)\n",
    "\n",
    "  # Set the x-axis label\n",
    "  axes.set_xlabel(xlabel)\n",
    "\n",
    "  # Set the y-axis label\n",
    "  axes.set_ylabel(ylabel, color=color)\n",
    "\n",
    "  # Set the colors tick params for y-axis\n",
    "  axes.tick_params('y', colors=color)"
   ]
  },
  {
   "cell_type": "markdown",
   "id": "36afe357",
   "metadata": {},
   "source": [
    "# Using a plotting function\n",
    "Defining functions allows us to reuse the same code without having to repeat all of it. Programmers sometimes say \"Don't repeat yourself\".\n",
    "\n",
    "In the previous exercise, you defined a function called plot_timeseries:\n",
    "\n",
    "plot_timeseries(axes, x, y, color, xlabel, ylabel)\n",
    "that takes an Axes object (as the argument axes), time-series data (as x and y arguments) the name of a color (as a string, provided as the color argument) and x-axis and y-axis labels (as xlabel and ylabel arguments). In this exercise, the function plot_timeseries is already defined and provided to you."
   ]
  },
  {
   "cell_type": "code",
   "execution_count": null,
   "id": "7d68dc9b",
   "metadata": {},
   "outputs": [],
   "source": [
    "fig, ax = plt.subplots()\n",
    "\n",
    "# Plot the CO2 levels time-series in blue\n",
    "plot_timeseries(ax, climate_change.index, climate_change[\"co2\"], 'blue', \"Time (years)\", \"CO2 levels\")\n",
    "\n",
    "# Create a twin Axes object that shares the x-axis\n",
    "ax2 = ax.twinx()\n",
    "\n",
    "# Plot the relative temperature data in red\n",
    "plot_timeseries(ax2, climate_change.index, climate_change['relative_temp'], 'red', \"Time (years)\", \"Relative temperature (Celsius)\")\n",
    "\n",
    "plt.show()"
   ]
  },
  {
   "cell_type": "markdown",
   "id": "c868308d",
   "metadata": {},
   "source": [
    "# Annotating a plot of time-series data\n",
    "Annotating a plot allows us to highlight interesting information in the plot. For example, in describing the climate change dataset, we might want to point to the date at which the relative temperature first exceeded 1 degree Celsius.\n",
    "\n",
    "For this, we will use the annotate method of the Axes object. In this exercise, you will have the DataFrame called climate_change loaded into memory. Using the Axes methods, plot only the relative temperature column as a function of dates, and annotate the data."
   ]
  },
  {
   "cell_type": "code",
   "execution_count": null,
   "id": "d35087a8",
   "metadata": {},
   "outputs": [],
   "source": [
    "fig, ax = plt.subplots()\n",
    "\n",
    "# Plot the relative temperature data\n",
    "ax.plot(climate_change.index, climate_change['relative_temp'])\n",
    "\n",
    "# Annotate the date at which temperatures exceeded 1 degree\n",
    "ax.annotate(\">1 degree\", xy=(pd.Timestamp('2015-10-06'), 1))\n",
    "\n",
    "plt.show()"
   ]
  },
  {
   "cell_type": "markdown",
   "id": "8974b3cd",
   "metadata": {},
   "source": [
    "# Plotting time-series: putting it all together\n",
    "In this exercise, you will plot two time-series with different scales on the same Axes, and annotate the data from one of these series.\n",
    "\n",
    "The CO2/temperatures data is provided as a DataFrame called climate_change. You should also use the function that we have defined before, called plot_timeseries, which takes an Axes object (as the axes argument) plots a time-series (provided as x and y arguments), sets the labels for the x-axis and y-axis and sets the color for the data, and for the y tick/axis labels:\n",
    "\n",
    "plot_timeseries(axes, x, y, color, xlabel, ylabel)\n",
    "Then, you will annotate with text an important time-point in the data: on 2015-10-06, when the temperature first rose to above 1 degree over the average."
   ]
  },
  {
   "cell_type": "code",
   "execution_count": null,
   "id": "6fb1fa56",
   "metadata": {},
   "outputs": [],
   "source": [
    "fig, ax = plt.subplots()\n",
    "\n",
    "# Plot the CO2 levels time-series in blue\n",
    "plot_timeseries(ax, climate_change.index, climate_change[\"co2\"], 'blue', \"Time (years)\", \"CO2 levels\")\n",
    "\n",
    "# Create an Axes object that shares the x-axis\n",
    "ax2 = ax.twinx()\n",
    "\n",
    "# Plot the relative temperature data in red\n",
    "plot_timeseries(ax2, climate_change.index, climate_change['relative_temp'], 'red', \"Time (years)\", \"Relative temp (Celsius)\")\n",
    "\n",
    "# Annotate the point with relative temperature >1 degree\n",
    "ax2.annotate(\">1 degree\", xy=(pd.Timestamp('2015-10-06'), 1), xytext=(pd.Timestamp('2008-10-06'), -0.2), arrowprops={'arrowstyle':'->', 'color':'gray'})\n",
    "\n",
    "plt.show()"
   ]
  },
  {
   "cell_type": "markdown",
   "id": "5eeca8a8",
   "metadata": {},
   "source": [
    "# Bar chart\n",
    "Bar charts visualize data that is organized according to categories as a series of bars, where the height of each bar represents the values of the data in this category.\n",
    "\n",
    "For example, in this exercise, you will visualize the number of gold medals won by each country in the provided medals DataFrame. The DataFrame contains the countries as the index, and a column called \"Gold\" that contains the number of gold medals won by each country, according to their rows."
   ]
  },
  {
   "cell_type": "code",
   "execution_count": null,
   "id": "7628de8e",
   "metadata": {},
   "outputs": [],
   "source": [
    "fig, ax = plt.subplots()\n",
    "\n",
    "# Plot a bar-chart of gold medals as a function of country\n",
    "ax.bar(medals.index, medals[\"Gold\"])\n",
    "\n",
    "# Set the x-axis tick labels to the country names\n",
    "ax.set_xticklabels(medals.index, rotation=90)\n",
    "\n",
    "# Set the y-axis label\n",
    "ax.set_ylabel(\"Number of medals\")\n",
    "\n",
    "plt.show()\n",
    "\n"
   ]
  },
  {
   "cell_type": "markdown",
   "id": "9c3cc272",
   "metadata": {},
   "source": [
    "# Stacked bar chart\n",
    "A stacked bar chart contains bars, where the height of each bar represents values. In addition, stacked on top of the first variable may be another variable. The additional height of this bar represents the value of this variable. And you can add more bars on top of that.\n",
    "\n",
    "In this exercise, you will have access to a DataFrame called medals that contains an index that holds the names of different countries, and three columns: \"Gold\", \"Silver\" and \"Bronze\". You will also have a Figure, fig, and Axes, ax, that you can add data to.\n",
    "\n",
    "You will create a stacked bar chart that shows the number of gold, silver, and bronze medals won by each country, and you will add labels and create a legend that indicates which bars represent which medals."
   ]
  },
  {
   "cell_type": "code",
   "execution_count": null,
   "id": "a5675c94",
   "metadata": {},
   "outputs": [],
   "source": [
    "# Add bars for \"Gold\" with the label \"Gold\"\n",
    "ax.bar(medals.index, medals[\"Gold\"], label=\"Gold\")\n",
    "\n",
    "# Stack bars for \"Silver\" on top with label \"Silver\"\n",
    "ax.bar(medals.index, medals[\"Silver\"], bottom=medals[\"Gold\"], label=\"Silver\")\n",
    "\n",
    "# Stack bars for \"Bronze\" on top of that with label \"Bronze\"\n",
    "ax.bar(medals.index, medals[\"Bronze\"], bottom=medals[\"Gold\"] + medals[\"Silver\"], label=\"Bronze\")\n",
    "\n",
    "# Display the legend\n",
    "ax.legend()\n",
    "\n",
    "plt.show()"
   ]
  },
  {
   "cell_type": "code",
   "execution_count": null,
   "id": "012c7629",
   "metadata": {},
   "outputs": [],
   "source": [
    "# Add bars for \"Gold\" with the label \"Gold\"\n",
    "ax.bar(medals.index, medals[\"Gold\"], label=\"Gold\")\n",
    "\n",
    "# Stack bars for \"Silver\" on top with label \"Silver\"\n",
    "ax.bar(medals.index, medals[\"Silver\"], bottom=medals[\"Gold\"], label=\"Silver\")\n",
    "\n",
    "# Stack bars for \"Bronze\" on top of that with label \"Bronze\"\n",
    "ax.bar(medals.index, medals[\"Bronze\"], bottom=medals[\"Gold\"] + medals[\"Silver\"], label=\"Bronze\")\n",
    "\n",
    "# Display the legend\n",
    "ax.legend()\n",
    "\n",
    "plt.show()"
   ]
  },
  {
   "cell_type": "markdown",
   "id": "2b8bfeed",
   "metadata": {},
   "source": [
    "# Creating histograms\n",
    "Histograms show the full distribution of a variable. In this exercise, we will display the distribution of weights of medalists in gymnastics and in rowing in the 2016 Olympic games for a comparison between them.\n",
    "\n",
    "You will have two DataFrames to use. The first is called mens_rowing and includes information about the medalists in the men's rowing events. The other is called mens_gymnastics and includes information about medalists in all of the Gymnastics events."
   ]
  },
  {
   "cell_type": "code",
   "execution_count": null,
   "id": "efa1f82c",
   "metadata": {},
   "outputs": [],
   "source": [
    "fig, ax = plt.subplots()\n",
    "# Plot a histogram of \"Weight\" for mens_rowing\n",
    "ax.hist(mens_rowing[\"Weight\"])\n",
    "\n",
    "# Compare to histogram of \"Weight\" for mens_gymnastics\n",
    "ax.hist(mens_gymnastics[\"Weight\"])\n",
    "\n",
    "# Set the x-axis label to \"Weight (kg)\"\n",
    "ax.set_xlabel(\"Weight (kg)\")\n",
    "\n",
    "# Set the y-axis label to \"# of observations\"\n",
    "ax.set_ylabel(\"# of observations\")\n",
    "\n",
    "plt.show()"
   ]
  },
  {
   "cell_type": "markdown",
   "id": "635e2f54",
   "metadata": {},
   "source": [
    "# \"Step\" histogram\n",
    "Histograms allow us to see the distributions of the data in different groups in our data. In this exercise, you will select groups from the Summer 2016 Olympic Games medalist dataset to compare the height of medalist athletes in two different sports.\n",
    "\n",
    "The data is stored in a Pandas DataFrame object called summer_2016_medals that has a column \"Height\". In addition, you are provided a Pandas GroupBy object that has been grouped by the sport.\n",
    "\n",
    "In the exercise below, you will visualize and label the histograms of two sports: \"Gymnastics\" and \"Rowing\" and see the marked difference between medalists in these two sports."
   ]
  },
  {
   "cell_type": "code",
   "execution_count": null,
   "id": "ae85e8f5",
   "metadata": {},
   "outputs": [],
   "source": [
    "fig, ax = plt.subplots()\n",
    "\n",
    "# Plot a histogram of \"Weight\" for mens_rowing\n",
    "ax.hist(mens_rowing[\"Weight\"], histtype='step', label=\"Rowing\", bins=5)\n",
    "\n",
    "# Compare to histogram of \"Weight\" for mens_gymnastics\n",
    "ax.hist(mens_gymnastics[\"Weight\"], histtype='step', label=\"Gymnastics\", bins=5)\n",
    "\n",
    "ax.set_xlabel(\"Weight (kg)\")\n",
    "ax.set_ylabel(\"# of observations\")\n",
    "\n",
    "# Add the legend and show the Figure\n",
    "ax.legend()\n",
    "plt.show()"
   ]
  }
 ],
 "metadata": {
  "kernelspec": {
   "display_name": "Python 3",
   "language": "python",
   "name": "python3"
  },
  "language_info": {
   "codemirror_mode": {
    "name": "ipython",
    "version": 3
   },
   "file_extension": ".py",
   "mimetype": "text/x-python",
   "name": "python",
   "nbconvert_exporter": "python",
   "pygments_lexer": "ipython3",
   "version": "3.8.11"
  }
 },
 "nbformat": 4,
 "nbformat_minor": 5
}
