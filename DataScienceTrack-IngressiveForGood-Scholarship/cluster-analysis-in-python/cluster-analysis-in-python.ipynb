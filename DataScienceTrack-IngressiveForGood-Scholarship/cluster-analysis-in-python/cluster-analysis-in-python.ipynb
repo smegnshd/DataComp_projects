{
 "cells": [
  {
   "cell_type": "code",
   "execution_count": null,
   "id": "47dad9e8",
   "metadata": {},
   "outputs": [],
   "source": [
    "# Unsupervised learning in real world\n",
    "# Which of the following examples can be solved with unsupervised learning?\n",
    "\n",
    "# Answer the question\n",
    "# 50 XP\n",
    "# Possible Answers\n",
    "# A list of tweets to be classified based on their sentiment, the data has tweets associated with a positive or negative sentiment.\n",
    "\n",
    "# A spam recognition system that marks incoming emails as spam, the data has emails marked as spam and not spam.\n",
    "\n",
    "# Segmentation of learners at DataCamp based on courses they complete. The training data has no labels.\n",
    "\n",
    "\"\"\"ANSWER\"\"\"\n",
    "\"\"\"PRESS 3\"\"\""
   ]
  },
  {
   "cell_type": "code",
   "execution_count": null,
   "id": "9dbb6306",
   "metadata": {},
   "outputs": [],
   "source": []
  }
 ],
 "metadata": {
  "kernelspec": {
   "display_name": "Python 3",
   "language": "python",
   "name": "python3"
  },
  "language_info": {
   "codemirror_mode": {
    "name": "ipython",
    "version": 3
   },
   "file_extension": ".py",
   "mimetype": "text/x-python",
   "name": "python",
   "nbconvert_exporter": "python",
   "pygments_lexer": "ipython3",
   "version": "3.8.11"
  }
 },
 "nbformat": 4,
 "nbformat_minor": 5
}
