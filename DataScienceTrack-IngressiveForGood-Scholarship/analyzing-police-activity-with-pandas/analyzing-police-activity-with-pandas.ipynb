{
 "cells": [
  {
   "cell_type": "markdown",
   "id": "5b348652",
   "metadata": {},
   "source": [
    "# Examining the dataset\n",
    "Throughout this course, you'll be analyzing a dataset of traffic stops in Rhode Island that was collected by the Stanford Open Policing Project.\n",
    "\n",
    "Before beginning your analysis, it's important that you familiarize yourself with the dataset. In this exercise, you'll read the dataset into pandas, examine the first few rows, and then count the number of missing values."
   ]
  },
  {
   "cell_type": "code",
   "execution_count": null,
   "id": "27c06fae",
   "metadata": {},
   "outputs": [],
   "source": [
    "# Import the pandas library as pd\n",
    "import pandas  as pd\n",
    "\n",
    "# Read 'police.csv' into a DataFrame named ri\n",
    "ri = pd.read_csv(\"police.csv\")\n",
    "ri.head()\n",
    "\n",
    "# Examine the head of the DataFrame\n",
    "print(ri.head(5))\n",
    "\n",
    "# Count the number of missing values in each column\n",
    "print(ri.isnull().sum())"
   ]
  },
  {
   "cell_type": "markdown",
   "id": "e26f1291",
   "metadata": {},
   "source": [
    "# Dropping columns\n",
    "Often, a DataFrame will contain columns that are not useful to your analysis. Such columns should be dropped from the DataFrame, to make it easier for you to focus on the remaining columns.\n",
    "\n",
    "In this exercise, you'll drop the county_name column because it only contains missing values, and you'll drop the state column because all of the traffic stops took place in one state (Rhode Island). Thus, these columns can be dropped because they contain no useful information. The number of missing values in each column has been printed to the console for you."
   ]
  },
  {
   "cell_type": "code",
   "execution_count": null,
   "id": "cbfac8d0",
   "metadata": {},
   "outputs": [],
   "source": [
    "# Examine the shape of the DataFrame\n",
    "print(ri.shape)\n",
    "\n",
    "# Drop the 'county_name' and 'state' columns\n",
    "ri.drop(['county_name', 'state'], axis='columns', inplace=True)\n",
    "\n",
    "# Examine the shape of the DataFrame (again)\n",
    "print(ri.shape)"
   ]
  },
  {
   "cell_type": "markdown",
   "id": "7ffe6a99",
   "metadata": {},
   "source": [
    "# Dropping rows\n",
    "When you know that a specific column will be critical to your analysis, and only a small fraction of rows are missing a value in that column, it often makes sense to remove those rows from the dataset.\n",
    "\n",
    "During this course, the driver_gender column will be critical to many of your analyses. Because only a small fraction of rows are missing driver_gender, we'll drop those rows from the dataset."
   ]
  },
  {
   "cell_type": "code",
   "execution_count": null,
   "id": "aa9d58b4",
   "metadata": {},
   "outputs": [],
   "source": [
    "# Count the number of missing values in each column\n",
    "print(ri.isnull().sum())\n",
    "\n",
    "# Drop all rows that are missing 'driver_gender'\n",
    "ri.dropna(subset=['driver_gender'],inplace=True)\n",
    "\n",
    "# Count the number of missing values in each column (again)\n",
    "print(ri.isnull().sum())\n",
    "\n",
    "# Examine the shape of the DataFrame\n",
    "print(ri.shape)"
   ]
  },
  {
   "cell_type": "markdown",
   "id": "63165c66",
   "metadata": {},
   "source": [
    "# Finding an incorrect data type\n",
    "The dtypes attribute of the ri DataFrame has been printed for you. Your task is to explore the ri DataFrame in the IPython Shell to determine which column's data type should be changed.\n",
    "\n",
    "Instructions\n",
    "50 XP\n",
    "Possible Answers\n",
    "\n",
    "- stop_time should have a data type of float\n",
    "\n",
    "- search_conducted should have a data type of object\n",
    "\n",
    "- is_arrested should have a data type of bool\n",
    "\n",
    "- district should have a data type of int\n",
    "\"\"answ=district should have a data type of int\"\""
   ]
  },
  {
   "cell_type": "markdown",
   "id": "87088b54",
   "metadata": {},
   "source": [
    "# Fixing a data type\n",
    "We saw in the previous exercise that the is_arrested column currently has the object data type. In this exercise, we'll change the data type to bool, which is the most suitable type for a column containing True and False values.\n",
    "\n",
    "Fixing the data type will enable us to use mathematical operations on the is_arrested column that would not be possible otherwise."
   ]
  },
  {
   "cell_type": "code",
   "execution_count": null,
   "id": "b7976865",
   "metadata": {},
   "outputs": [],
   "source": [
    "# Examine the head of the 'is_arrested' column\n",
    "print(ri.is_arrested.head())\n",
    "\n",
    "# Change the data type of 'is_arrested' to 'bool'\n",
    "ri['is_arrested'] = ri.is_arrested.astype('bool')\n",
    "\n",
    "# Check the data type of 'is_arrested' \n",
    "print(ri['is_arrested'].dtype)"
   ]
  },
  {
   "cell_type": "markdown",
   "id": "5bb481a6",
   "metadata": {},
   "source": [
    "# Combining object columns\n",
    "Currently, the date and time of each traffic stop are stored in separate object columns: stop_date and stop_time.\n",
    "\n",
    "In this exercise, you'll combine these two columns into a single column, and then convert it to datetime format. This will enable convenient date-based attributes that we'll use later in the course."
   ]
  },
  {
   "cell_type": "code",
   "execution_count": null,
   "id": "a56202b1",
   "metadata": {},
   "outputs": [],
   "source": [
    "# Concatenate 'stop_date' and 'stop_time' (separated by a space)\n",
    "combined = ri.stop_date.str.cat(ri.stop_time, sep=' ')\n",
    "\n",
    "# Convert 'combined' to datetime format\n",
    "ri['stop_datetime'] =pd.to_datetime(combined)\n",
    "\n",
    "# Examine the data types of the DataFrame\n",
    "print(ri.dtypes)"
   ]
  },
  {
   "cell_type": "markdown",
   "id": "fab92a14",
   "metadata": {},
   "source": [
    "# Setting the index\n",
    "The last step that you'll take in this chapter is to set the stop_datetime column as the DataFrame's index. By replacing the default index with a DatetimeIndex, you'll make it easier to analyze the dataset by date and time, which will come in handy later in the course!"
   ]
  },
  {
   "cell_type": "code",
   "execution_count": null,
   "id": "f05cd988",
   "metadata": {},
   "outputs": [],
   "source": [
    "# Set 'stop_datetime' as the index\n",
    "ri.set_index('stop_datetime', inplace=True)\n",
    "\n",
    "# Examine the index\n",
    "print(ri.index)\n",
    "\n",
    "# Examine the columns\n",
    "print(ri.columns)"
   ]
  },
  {
   "cell_type": "markdown",
   "id": "89d05af3",
   "metadata": {},
   "source": [
    "# Examining traffic violations\n",
    "Before comparing the violations being committed by each gender, you should examine the violations committed by all drivers to get a baseline understanding of the data.\n",
    "\n",
    "In this exercise, you'll count the unique values in the violation column, and then separately express those counts as proportions."
   ]
  },
  {
   "cell_type": "code",
   "execution_count": null,
   "id": "9dada43f",
   "metadata": {},
   "outputs": [],
   "source": [
    "# Count the unique values in 'violation'\n",
    "print(ri.violation.value_counts())\n",
    "\n",
    "\n",
    "# Express the counts as proportions\n",
    "print(ri.violation.value_counts(normalize=True))"
   ]
  },
  {
   "cell_type": "markdown",
   "id": "4ad6d1a0",
   "metadata": {},
   "source": [
    "# Comparing violations by gender\n",
    "The question we're trying to answer is whether male and female drivers tend to commit different types of traffic violations.\n",
    "\n",
    "In this exercise, you'll first create a DataFrame for each gender, and then analyze the violations in each DataFrame separately."
   ]
  },
  {
   "cell_type": "code",
   "execution_count": null,
   "id": "e528fb90",
   "metadata": {},
   "outputs": [],
   "source": [
    "# Create a DataFrame of female drivers\n",
    "female = ri[ri.driver_gender == 'F']\n",
    "\n",
    "# Create a DataFrame of male drivers\n",
    "male = ri[ri.driver_gender == 'M']\n",
    "\n",
    "# Compute the violations by female drivers (as proportions)\n",
    "print(female.violation.value_counts(normalize=True))\n",
    "\n",
    "# Compute the violations by male drivers (as proportions)\n",
    "print(male.violation.value_counts(normalize=True))"
   ]
  },
  {
   "cell_type": "markdown",
   "id": "f8218fee",
   "metadata": {},
   "source": [
    "# Comparing speeding outcomes by gender\n",
    "When a driver is pulled over for speeding, many people believe that gender has an impact on whether the driver will receive a ticket or a warning. Can you find evidence of this in the dataset?\n",
    "\n",
    "First, you'll create two DataFrames of drivers who were stopped for speeding: one containing females and the other containing males.\n",
    "\n",
    "Then, for each gender, you'll use the stop_outcome column to calculate what percentage of stops resulted in a \"Citation\" (meaning a ticket) versus a \"Warning\"."
   ]
  },
  {
   "cell_type": "code",
   "execution_count": null,
   "id": "921bbc6e",
   "metadata": {},
   "outputs": [],
   "source": [
    "# Create a DataFrame of female drivers stopped for speeding\n",
    "female_and_speeding = ri[(ri.driver_gender == 'F') & (ri.violation == 'Speeding')]\n",
    "\n",
    "# Create a DataFrame of male drivers stopped for speeding\n",
    "male_and_speeding = ri[(ri.driver_gender == 'M') & (ri.violation == 'Speeding')]\n",
    "\n",
    "# Compute the stop outcomes for female drivers (as proportions)\n",
    "print(female_and_speeding.stop_outcome.value_counts(normalize=True))\n",
    "\n",
    "# Compute the stop outcomes for male drivers (as proportions)\n",
    "print(male_and_speeding.stop_outcome.value_counts(normalize=True))"
   ]
  },
  {
   "cell_type": "markdown",
   "id": "0c749b40",
   "metadata": {},
   "source": [
    "# Calculating the search rate\n",
    "During a traffic stop, the police officer sometimes conducts a search of the vehicle. In this exercise, you'll calculate the percentage of all stops in the ri DataFrame that result in a vehicle search, also known as the search rate."
   ]
  },
  {
   "cell_type": "code",
   "execution_count": null,
   "id": "36e1a971",
   "metadata": {},
   "outputs": [],
   "source": [
    "# Check the data type of 'search_conducted'\n",
    "print(ri['search_conducted'].dtype)\n",
    "\n",
    "# Calculate the search rate by counting the values\n",
    "print(ri.search_conducted.value_counts(normalize=True))\n",
    "\n",
    "# Calculate the search rate by taking the mean\n",
    "print(ri.search_conducted.mean())"
   ]
  },
  {
   "cell_type": "markdown",
   "id": "6eed2b74",
   "metadata": {},
   "source": [
    "# Comparing search rates by gender\n",
    "In this exercise, you'll compare the rates at which female and male drivers are searched during a traffic stop. Remember that the vehicle search rate across all stops is about 3.8%.\n",
    "\n",
    "First, you'll filter the DataFrame by gender and calculate the search rate for each group separately. Then, you'll perform the same calculation for both genders at once using a .groupby()"
   ]
  },
  {
   "cell_type": "code",
   "execution_count": null,
   "id": "54de0353",
   "metadata": {},
   "outputs": [],
   "source": [
    "# Calculate the search rate for female drivers\n",
    "print(ri[ri.driver_gender == 'F'].search_conducted.mean())\n",
    "\n",
    "# Calculate the search rate for female drivers\n",
    "print(ri[ri.driver_gender == 'M'].search_conducted.mean())\n",
    "\n",
    "# Calculate the search rate for both groups simultaneously\n",
    "print(ri.groupby('driver_gender').search_conducted.mean())"
   ]
  },
  {
   "cell_type": "markdown",
   "id": "7a0f7f27",
   "metadata": {},
   "source": [
    "# Adding a second factor to the analysis\n",
    "Even though the search rate for males is much higher than for females, it's possible that the difference is mostly due to a second factor.\n",
    "\n",
    "For example, you might hypothesize that the search rate varies by violation type, and the difference in search rate between males and females is because they tend to commit different violations.\n",
    "\n",
    "You can test this hypothesis by examining the search rate for each combination of gender and violation. If the hypothesis was true, you would find that males and females are searched at about the same rate for each violation. Find out below if that's the case!"
   ]
  },
  {
   "cell_type": "code",
   "execution_count": null,
   "id": "ae012585",
   "metadata": {},
   "outputs": [],
   "source": [
    "# Calculate the search rate for each combination of gender and violation\n",
    "print(ri.groupby(['driver_gender','violation']).search_conducted.mean())\n",
    "# Reverse the ordering to group by violation before gender\n",
    "print(ri.groupby(['violation','driver_gender']).search_conducted.mean())"
   ]
  },
  {
   "cell_type": "markdown",
   "id": "c3cc4b4f",
   "metadata": {},
   "source": [
    "# Counting protective frisks\n",
    "During a vehicle search, the police officer may pat down the driver to check if they have a weapon. This is known as a \"protective frisk.\"\n",
    "\n",
    "In this exercise, you'll first check to see how many times \"Protective Frisk\" was the only search type. Then, you'll use a string method to locate all instances in which the driver was frisked."
   ]
  },
  {
   "cell_type": "code",
   "execution_count": null,
   "id": "f9f2ea42",
   "metadata": {},
   "outputs": [],
   "source": [
    "# Count the 'search_type' values\n",
    "print(ri.search_type.value_counts())\n",
    "\n",
    " # Check if 'search_type' contains the string 'Protective Frisk'\n",
    "ri['frisk'] = ri.search_type.str.contains(\"Protective Frisk\", na=False)\n",
    "\n",
    "# Check the data type of 'frisk'\n",
    "print(ri['frisk'].dtype)\n",
    "\n",
    "# Take the sum of 'frisk'\n",
    "print(ri['frisk'].sum())"
   ]
  },
  {
   "cell_type": "markdown",
   "id": "511d8bae",
   "metadata": {},
   "source": [
    "# Comparing frisk rates by gender\n",
    "In this exercise, you'll compare the rates at which female and male drivers are frisked during a search. Are males frisked more often than females, perhaps because police officers consider them to be higher risk?\n",
    "\n",
    "Before doing any calculations, it's important to filter the DataFrame to only include the relevant subset of data, namely stops in which a search was conducted."
   ]
  },
  {
   "cell_type": "code",
   "execution_count": null,
   "id": "9623422a",
   "metadata": {},
   "outputs": [],
   "source": [
    "# Create a DataFrame of stops in which a search was conducted\n",
    "searched = ri[ri.search_conducted == True]\n",
    "\n",
    "# Calculate the overall frisk rate by taking the mean of 'frisk'\n",
    "print(searched.frisk.mean())\n",
    "\n",
    "# Calculate the frisk rate for each gender\n",
    "print(searched.groupby('driver_gender').frisk.mean())"
   ]
  },
  {
   "cell_type": "markdown",
   "id": "9c875444",
   "metadata": {},
   "source": [
    "# Calculating the hourly arrest rate\n",
    "When a police officer stops a driver, a small percentage of those stops ends in an arrest. This is known as the arrest rate. In this exercise, you'll find out whether the arrest rate varies by time of day.\n",
    "\n",
    "First, you'll calculate the arrest rate across all stops in the ri DataFrame. Then, you'll calculate the hourly arrest rate by using the hour attribute of the index. The hour ranges from 0 to 23, in which:\n",
    "\n",
    "- 0 = midnight\n",
    "- 12 = noon\n",
    "- 23 = 11 PM"
   ]
  },
  {
   "cell_type": "code",
   "execution_count": null,
   "id": "b7116eb9",
   "metadata": {},
   "outputs": [],
   "source": [
    "# Calculate the overall arrest rate\n",
    "print(ri.is_arrested.mean())\n",
    "\n",
    "# Calculate the hourly arrest rate\n",
    "print(ri.groupby(ri.index.hour).is_arrested.mean())\n",
    "\n",
    "# Save the hourly arrest rate\n",
    "hourly_arrest_rate = ri.groupby(ri.index.hour).is_arrested.mean()"
   ]
  },
  {
   "cell_type": "markdown",
   "id": "a71713b7",
   "metadata": {},
   "source": [
    "# Plotting the hourly arrest rate\n",
    "In this exercise, you'll create a line plot from the hourly_arrest_rate object. A line plot is appropriate in this case because you're showing how a quantity changes over time.\n",
    "\n",
    "This plot should help you to spot some trends that may not have been obvious when examining the raw numbers!"
   ]
  },
  {
   "cell_type": "code",
   "execution_count": null,
   "id": "5b9f30d3",
   "metadata": {},
   "outputs": [],
   "source": [
    "# Create a line plot of 'hourly_arrest_rate'\n",
    "hourly_arrest_rate.plot()\n",
    "\n",
    "# Add the xlabel, ylabel, and title\n",
    "plt.xlabel('Hour')\n",
    "plt.ylabel('Arrest Rate')\n",
    "plt.title('Arrest Rate by Time of Day')\n",
    "\n",
    "# Display the plot\n",
    "plt.show()"
   ]
  },
  {
   "cell_type": "markdown",
   "id": "a348fd35",
   "metadata": {},
   "source": [
    "# Plotting drug-related stops\n",
    "In a small portion of traffic stops, drugs are found in the vehicle during a search. In this exercise, you'll assess whether these drug-related stops are becoming more common over time.\n",
    "\n",
    "The Boolean column drugs_related_stop indicates whether drugs were found during a given stop. You'll calculate the annual drug rate by resampling this column, and then you'll use a line plot to visualize how the rate has changed over time."
   ]
  },
  {
   "cell_type": "code",
   "execution_count": null,
   "id": "a883e578",
   "metadata": {},
   "outputs": [],
   "source": [
    "# Calculate the annual rate of drug-related stops\n",
    "print(ri.drugs_related_stop.resample('A').mean())\n",
    "\n",
    "# Save the annual rate of drug-related stops\n",
    "annual_drug_rate = ri.drugs_related_stop.resample('A').mean()\n",
    "\n",
    "# Create a line plot of 'annual_drug_rate'\n",
    "annual_drug_rate.plot()\n",
    "\n",
    "\n",
    "# Display the plot\n",
    "plt.show()"
   ]
  }
 ],
 "metadata": {
  "kernelspec": {
   "display_name": "Python 3",
   "language": "python",
   "name": "python3"
  },
  "language_info": {
   "codemirror_mode": {
    "name": "ipython",
    "version": 3
   },
   "file_extension": ".py",
   "mimetype": "text/x-python",
   "name": "python",
   "nbconvert_exporter": "python",
   "pygments_lexer": "ipython3",
   "version": "3.8.11"
  }
 },
 "nbformat": 4,
 "nbformat_minor": 5
}
