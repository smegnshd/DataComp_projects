{
 "cells": [
  {
   "cell_type": "markdown",
   "id": "ee8f8869",
   "metadata": {},
   "source": [
    "# Exploring the NSFG data\n",
    "To get the number of rows and columns in a DataFrame, you can read its shape attribute.\n",
    "\n",
    "To get the column names, you can read the columns attribute. The result is an Index, which is a Pandas data structure that is similar to a list. Let's begin exploring the NSFG data! It has been pre-loaded for you into a DataFrame called nsfg."
   ]
  },
  {
   "cell_type": "code",
   "execution_count": null,
   "id": "2e23d336",
   "metadata": {},
   "outputs": [],
   "source": [
    "# Display the number of rows and columns\n",
    "nsfg.shape\n",
    "\n",
    "# Display the names of the columns\n",
    "nsfg.columns\n",
    "\n",
    "# Select column birthwgt_oz1: ounces\n",
    "ounces = nsfg['birthwgt_oz1']\n",
    "\n",
    "# Print the first 5 elements of ounces\n",
    "print(ounces.head())"
   ]
  },
  {
   "cell_type": "markdown",
   "id": "fb313809",
   "metadata": {},
   "source": [
    "# Clean a variable\n",
    "In the NSFG dataset, the variable 'nbrnaliv' records the number of babies born alive at the end of a pregnancy.\n",
    "\n",
    "If you use .value_counts() to view the responses, you'll see that the value 8 appears once, and if you consult the codebook, you'll see that this value indicates that the respondent refused to answer the question.\n",
    "\n",
    "Your job in this exercise is to replace this value with np.nan. Recall from the video how Allen replaced the values 98 and 99 in the ounces column using the .replace() method:\n",
    "\n",
    "ounces.replace([98, 99], np.nan, inplace=True)"
   ]
  },
  {
   "cell_type": "code",
   "execution_count": null,
   "id": "a89f20d4",
   "metadata": {},
   "outputs": [],
   "source": [
    "# Replace the value 8 with NaN\n",
    "nsfg['nbrnaliv'].replace(8, np.nan, inplace = True)\n",
    "\n",
    "# Print the values and their frequencies\n",
    "print(nsfg['nbrnaliv'].value_counts())"
   ]
  },
  {
   "cell_type": "markdown",
   "id": "a8933da8",
   "metadata": {},
   "source": [
    "# Compute a variable\n",
    "For each pregnancy in the NSFG dataset, the variable 'agecon' encodes the respondent's age at conception, and 'agepreg' the respondent's age at the end of the pregnancy.\n",
    "\n",
    "Both variables are recorded as integers with two implicit decimal places, so the value 2575 means that the respondent's age was 25.75."
   ]
  },
  {
   "cell_type": "code",
   "execution_count": null,
   "id": "23484ae3",
   "metadata": {},
   "outputs": [],
   "source": [
    "# Select the columns and divide by 100\n",
    "agecon = nsfg['agecon'] / 100\n",
    "agepreg = nsfg['agepreg'] / 100\n",
    "\n",
    "# Compute the difference\n",
    "preg_length = agepreg - agecon\n",
    "\n",
    "# Compute summary statistics\n",
    "print(preg_length.describe())"
   ]
  },
  {
   "cell_type": "markdown",
   "id": "149175dd",
   "metadata": {},
   "source": [
    "# Make a histogram\n",
    "Histograms are one of the most useful tools in exploratory data analysis. They quickly give you an overview of the distribution of a variable, that is, what values the variable can have, and how many times each value appears.\n",
    "\n",
    "As we saw in a previous exercise, the NSFG dataset includes a variable 'agecon' that records age at conception for each pregnancy. Here, you're going to plot a histogram of this variable. You'll use the bins parameter that you saw in the video, and also a new parameter - histtype - which you can read more about here in the matplotlib documentation. Learning how to read documentation is an essential skill. If you want to learn more about matplotlib, you can check out DataCamp's Introduction to Data Visualization with Matplotlib course."
   ]
  },
  {
   "cell_type": "code",
   "execution_count": null,
   "id": "157c8b1f",
   "metadata": {},
   "outputs": [],
   "source": [
    "# Plot the histogram\n",
    "plt.hist(agecon, bins=20, histtype = 'step')\n",
    "\n",
    "# Label the axes\n",
    "plt.xlabel('Age at conception')\n",
    "plt.ylabel('Number of pregnancies')\n",
    "\n",
    "# Show the figure\n",
    "plt.show()"
   ]
  },
  {
   "cell_type": "code",
   "execution_count": null,
   "id": "1ebb4bcb",
   "metadata": {},
   "outputs": [],
   "source": [
    "\"\"\"\n",
    "Compute birth weight\n",
    "Now let's pull together the steps in this chapter to compute the average birth weight for full-term babies.\n",
    "\n",
    "I've provided a function, resample_rows_weighted, that takes the NSFG data and resamples it using the sampling weights in wgt2013_2015. The result is a sample that is representative of the U.S. population.\n",
    "\n",
    "Then I extract birthwgt_lb1 and birthwgt_oz1, replace special codes with NaN, and compute total birth weight in pounds, birth_weight.\n",
    "\n",
    "# Resample the data\n",
    "nsfg = resample_rows_weighted(nsfg, 'wgt2013_2015')\n",
    "\n",
    "# Clean the weight variables\n",
    "pounds = nsfg['birthwgt_lb1'].replace([98, 99], np.nan)\n",
    "ounces = nsfg['birthwgt_oz1'].replace([98, 99], np.nan)\n",
    "\n",
    "# Compute total birth weight\n",
    "birth_weight = pounds + ounces/16\n",
    "\"\"\""
   ]
  },
  {
   "cell_type": "markdown",
   "id": "cc6d2049",
   "metadata": {},
   "source": [
    "# Filter\n",
    "In the previous exercise, you computed the mean birth weight for full-term babies; you filtered out preterm babies because their distribution of weight is different.\n",
    "\n",
    "The distribution of weight is also different for multiple births, like twins and triplets. In this exercise, you'll filter them out, too, and see what effect it has on the mean."
   ]
  },
  {
   "cell_type": "code",
   "execution_count": null,
   "id": "4c9760b5",
   "metadata": {},
   "outputs": [],
   "source": [
    "# Filter full-term babies\n",
    "full_term = nsfg['prglngth'] >= 37\n",
    "\n",
    "# Filter single births\n",
    "single = nsfg['nbrnaliv'] == 1\n",
    "\n",
    "# Compute birth weight for single full-term babies\n",
    "single_full_term_weight = birth_weight[full_term & single]\n",
    "print('Single full-term mean:', single_full_term_weight.mean())\n",
    "\n",
    "# Compute birth weight for multiple full-term babies\n",
    "mult_full_term_weight = birth_weight[full_term & (~single)]\n",
    "print('Multiple full-term mean:', mult_full_term_weight.mean())"
   ]
  },
  {
   "cell_type": "markdown",
   "id": "3d0aa7bc",
   "metadata": {},
   "source": [
    "# Make a PMF\n",
    "The GSS dataset has been pre-loaded for you into a DataFrame called gss. You can explore it in the IPython Shell to get familiar with it.\n",
    "\n",
    "In this exercise, you'll focus on one variable in this dataset, 'year', which represents the year each respondent was interviewed.\n",
    "\n",
    "The Pmf class you saw in the video has already been created for you. You can access it outside of DataCamp via the empiricaldist library."
   ]
  },
  {
   "cell_type": "code",
   "execution_count": null,
   "id": "f1d167f1",
   "metadata": {},
   "outputs": [],
   "source": [
    "# Compute the PMF for year\n",
    "pmf_year = Pmf(gss['year'], normalize = False)\n",
    "\n",
    "# Print the result\n",
    "print(pmf_year)"
   ]
  },
  {
   "cell_type": "markdown",
   "id": "47e9b197",
   "metadata": {},
   "source": [
    "# Plot a PMF\n",
    "Now let's plot a PMF for the age of the respondents in the GSS dataset. The variable 'age' contains respondents' age in years."
   ]
  },
  {
   "cell_type": "code",
   "execution_count": null,
   "id": "8407ce31",
   "metadata": {},
   "outputs": [],
   "source": [
    "# Select the age column\n",
    "age = gss['age']\n",
    "\n"
   ]
  },
  {
   "cell_type": "code",
   "execution_count": null,
   "id": "22d94d43",
   "metadata": {},
   "outputs": [],
   "source": [
    "# Select the age column\n",
    "age = gss['age']\n",
    "\n",
    "# Make a PMF of age\n",
    "pmf_age = Pmf(age)"
   ]
  },
  {
   "cell_type": "code",
   "execution_count": null,
   "id": "08e7ba8d",
   "metadata": {},
   "outputs": [],
   "source": [
    "# Select the age column\n",
    "age = gss['age']\n",
    "\n",
    "# Make a PMF of age\n",
    "pmf_age = Pmf(age)\n",
    "\n",
    "# Plot the PMF\n",
    "pmf_age.bar()\n",
    "\n",
    "# Label the axes\n",
    "plt.xlabel('Age')\n",
    "plt.ylabel('PMF')\n",
    "plt.show()"
   ]
  },
  {
   "cell_type": "markdown",
   "id": "0cd48613",
   "metadata": {},
   "source": [
    "# Make a CDF\n",
    "In this exercise, you'll make a CDF and use it to determine the fraction of respondents in the GSS dataset who are OLDER than 30.\n",
    "\n",
    "The GSS dataset has been preloaded for you into a DataFrame called gss.\n",
    "\n",
    "As with the Pmf class from the previous lesson, the Cdf class you just saw in the video has been created for you, and you can access it outside of DataCamp via the empiricaldist library."
   ]
  },
  {
   "cell_type": "code",
   "execution_count": null,
   "id": "87dbf5c8",
   "metadata": {},
   "outputs": [],
   "source": [
    "# Select the age column\n",
    "age = gss['age']\n",
    "\n",
    "# Compute the CDF of age\n",
    "cdf_age = Cdf(age)\n",
    "\n",
    "# Calculate the CDF of 30\n",
    "print(cdf_age(30))"
   ]
  },
  {
   "cell_type": "markdown",
   "id": "c9f8e0b6",
   "metadata": {},
   "source": [
    "# Compute IQR\n",
    "Recall from the video that the interquartile range (IQR) is the difference between the 75th and 25th percentiles. It is a measure of variability that is robust in the presence of errors or extreme values.\n",
    "\n",
    "In this exercise, you'll compute the interquartile range of income in the GSS dataset. Income is stored in the 'realinc' column, and the CDF of income has already been computed and stored in cdf_income."
   ]
  },
  {
   "cell_type": "code",
   "execution_count": null,
   "id": "ae79a354",
   "metadata": {},
   "outputs": [],
   "source": [
    "# Calculate the 75th percentile \n",
    "# Select realinc\n",
    "income = gss['realinc']\n",
    "\n",
    "cdf_income = Cdf(income)\n",
    "\n",
    "# Calculate the 75th percentile \n",
    "percentile_75th = cdf_income.inverse(0.75)"
   ]
  },
  {
   "cell_type": "code",
   "execution_count": null,
   "id": "ac80bc63",
   "metadata": {},
   "outputs": [],
   "source": [
    "# Calculate the 75th percentile \n",
    "percentile_75th = cdf_income.inverse(0.75)\n",
    "\n",
    "# Calculate the 25th percentile\n",
    "percentile_25th = cdf_income.inverse(0.25)\n",
    "\n",
    "# Calculate the interquartile range\n",
    "iqr = percentile_75th - percentile_25th\n",
    "\n",
    "# Print the interquartile range\n",
    "print(iqr)"
   ]
  },
  {
   "cell_type": "code",
   "execution_count": null,
   "id": "bca14b39",
   "metadata": {},
   "outputs": [],
   "source": [
    "\"\"\"\n",
    "Question\n",
    "What is the interquartile range (IQR) of income in the GSS dataset?\n",
    "\n",
    "Possible Answers\n",
    "\n",
    "Approximately 29676\n",
    "\n",
    "Approximately 26015\n",
    "\n",
    "Approximately 34702\n",
    "\n",
    "Approximately 30655\n",
    "\"\"\"\n",
    "#answer=Approximately 29676"
   ]
  },
  {
   "cell_type": "markdown",
   "id": "144057c0",
   "metadata": {},
   "source": [
    "# Plot a CDF\n",
    "The distribution of income in almost every country is long-tailed; that is, there are a small number of people with very high incomes.\n",
    "\n",
    "In the GSS dataset, the variable 'realinc' represents total household income, converted to 1986 dollars. We can get a sense of the shape of this distribution by plotting the CDF."
   ]
  },
  {
   "cell_type": "code",
   "execution_count": null,
   "id": "11464000",
   "metadata": {},
   "outputs": [],
   "source": [
    "# Select realinc\n",
    "income = gss['realinc']\n",
    "\n",
    "# Make the CDF\n",
    "cdf_income = Cdf(income)\n",
    "\n",
    "# Plot it\n",
    "cdf_income.plot()\n",
    "\n",
    "# Label the axes\n",
    "plt.xlabel('Income (1986 USD)')\n",
    "plt.ylabel('CDF')\n",
    "plt.show()"
   ]
  },
  {
   "cell_type": "markdown",
   "id": "4d270e59",
   "metadata": {},
   "source": [
    "# Distribution of education\n",
    "Let's begin comparing incomes for different levels of education in the GSS dataset, which has been pre-loaded for you into a DataFrame called gss. The variable educ represents the respondent's years of education.\n",
    "\n",
    "What fraction of respondents report that they have 12 years of education or fewer?"
   ]
  },
  {
   "cell_type": "code",
   "execution_count": null,
   "id": "edcd4439",
   "metadata": {},
   "outputs": [],
   "source": []
  }
 ],
 "metadata": {
  "kernelspec": {
   "display_name": "Python 3",
   "language": "python",
   "name": "python3"
  },
  "language_info": {
   "codemirror_mode": {
    "name": "ipython",
    "version": 3
   },
   "file_extension": ".py",
   "mimetype": "text/x-python",
   "name": "python",
   "nbconvert_exporter": "python",
   "pygments_lexer": "ipython3",
   "version": "3.8.11"
  }
 },
 "nbformat": 4,
 "nbformat_minor": 5
}
