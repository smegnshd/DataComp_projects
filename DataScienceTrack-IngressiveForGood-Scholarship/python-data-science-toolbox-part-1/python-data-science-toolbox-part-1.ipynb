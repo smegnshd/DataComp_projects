{
 "cells": [
  {
   "cell_type": "markdown",
   "id": "eff1a736",
   "metadata": {},
   "source": [
    "# Strings in Python\n",
    "In the video, you learned of another standard Python datatype, strings. Recall that these represent textual data. To assign the string 'DataCamp' to a variable company, you execute:\n",
    "\n",
    "company = 'DataCamp'\n",
    "You've also learned to use the operations + and * with strings. Unlike with numeric types such as ints and floats, the + operator concatenates strings together, while the * concatenates multiple copies of a string together. In this exercise, you will use the + and * operations on strings to answer the question below. Execute the following code in the shell:\n",
    "\n",
    "object1 = \"data\" + \"analysis\" + \"visualization\"\n",
    "object2 = 1 * 3\n",
    "object3 = \"1\" * 3\n",
    "What are the values in object1, object2, and object3, respectively?"
   ]
  },
  {
   "cell_type": "code",
   "execution_count": 1,
   "id": "360df65a",
   "metadata": {},
   "outputs": [
    {
     "data": {
      "text/plain": [
       "'ANSWER\\nobject1 contains \"dataanalysisvisualization\", object2 contains 3, object3 contains \"111\".'"
      ]
     },
     "execution_count": 1,
     "metadata": {},
     "output_type": "execute_result"
    }
   ],
   "source": [
    "'''ANSWER\n",
    "object1 contains \"dataanalysisvisualization\", object2 contains 3, object3 contains \"111\".'''"
   ]
  },
  {
   "cell_type": "markdown",
   "id": "287fd402",
   "metadata": {},
   "source": [
    "# Recapping built-in functions\n",
    "In the video, Hugo briefly examined the return behavior of the built-in functions print() and str(). Here, you will use both functions and examine their return values. A variable x has been preloaded for this exercise. Run the code below in the console. Pay close attention to the results to answer the question that follows.\n",
    "\n",
    "Assign str(x) to a variable y1: y1 = str(x)\n",
    "\n",
    "Assign print(x) to a variable y2: y2 = print(x)\n",
    "\n",
    "Check the types of the variables x, y1, and y2.\n",
    "\n",
    "What are the types of x, y1, and y2?"
   ]
  },
  {
   "cell_type": "code",
   "execution_count": 3,
   "id": "1de9149b",
   "metadata": {},
   "outputs": [
    {
     "data": {
      "text/plain": [
       "'\\nANSWER\\nx is a float, y1 is a str, and y2 is a NoneType.\\n'"
      ]
     },
     "execution_count": 3,
     "metadata": {},
     "output_type": "execute_result"
    }
   ],
   "source": [
    "# Possible Answers\n",
    "# They are all str types.\n",
    "# x is a float, y1 is an float, and y2 is a str.\n",
    "# x is a float, y1 is a str, and y2 is a NoneType.\n",
    "# They are all NoneType types.\n",
    "\n",
    "\n",
    "'''\n",
    "ANSWER\n",
    "x is a float, y1 is a str, and y2 is a NoneType.\n",
    "'''"
   ]
  },
  {
   "cell_type": "code",
   "execution_count": null,
   "id": "c5c6f6f9",
   "metadata": {},
   "outputs": [],
   "source": []
  }
 ],
 "metadata": {
  "kernelspec": {
   "display_name": "Python 3",
   "language": "python",
   "name": "python3"
  },
  "language_info": {
   "codemirror_mode": {
    "name": "ipython",
    "version": 3
   },
   "file_extension": ".py",
   "mimetype": "text/x-python",
   "name": "python",
   "nbconvert_exporter": "python",
   "pygments_lexer": "ipython3",
   "version": "3.8.11"
  }
 },
 "nbformat": 4,
 "nbformat_minor": 5
}
