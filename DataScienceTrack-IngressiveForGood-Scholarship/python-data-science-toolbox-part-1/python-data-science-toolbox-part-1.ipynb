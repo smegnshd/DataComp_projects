{
 "cells": [
  {
   "cell_type": "markdown",
   "id": "63e894e8",
   "metadata": {},
   "source": [
    "# Strings in Python\n",
    "In the video, you learned of another standard Python datatype, strings. Recall that these represent textual data. To assign the string 'DataCamp' to a variable company, you execute:\n",
    "\n",
    "company = 'DataCamp'\n",
    "You've also learned to use the operations + and * with strings. Unlike with numeric types such as ints and floats, the + operator concatenates strings together, while the * concatenates multiple copies of a string together. In this exercise, you will use the + and * operations on strings to answer the question below. Execute the following code in the shell:\n",
    "\n",
    "object1 = \"data\" + \"analysis\" + \"visualization\"\n",
    "object2 = 1 * 3\n",
    "object3 = \"1\" * 3\n",
    "What are the values in object1, object2, and object3, respectively?"
   ]
  },
  {
   "cell_type": "code",
   "execution_count": 1,
   "id": "203b4e77",
   "metadata": {},
   "outputs": [
    {
     "data": {
      "text/plain": [
       "'ANSWER\\nobject1 contains \"dataanalysisvisualization\", object2 contains 3, object3 contains \"111\".'"
      ]
     },
     "execution_count": 1,
     "metadata": {},
     "output_type": "execute_result"
    }
   ],
   "source": [
    "'''ANSWER\n",
    "object1 contains \"dataanalysisvisualization\", object2 contains 3, object3 contains \"111\".'''"
   ]
  },
  {
   "cell_type": "markdown",
   "id": "61a41020",
   "metadata": {},
   "source": [
    "# Recapping built-in functions\n",
    "In the video, Hugo briefly examined the return behavior of the built-in functions print() and str(). Here, you will use both functions and examine their return values. A variable x has been preloaded for this exercise. Run the code below in the console. Pay close attention to the results to answer the question that follows.\n",
    "\n",
    "Assign str(x) to a variable y1: y1 = str(x)\n",
    "\n",
    "Assign print(x) to a variable y2: y2 = print(x)\n",
    "\n",
    "Check the types of the variables x, y1, and y2.\n",
    "\n",
    "What are the types of x, y1, and y2?"
   ]
  },
  {
   "cell_type": "code",
   "execution_count": 3,
   "id": "4d1c7ba1",
   "metadata": {},
   "outputs": [
    {
     "data": {
      "text/plain": [
       "'\\nANSWER\\nx is a float, y1 is a str, and y2 is a NoneType.\\n'"
      ]
     },
     "execution_count": 3,
     "metadata": {},
     "output_type": "execute_result"
    }
   ],
   "source": [
    "# Possible Answers\n",
    "# They are all str types.\n",
    "# x is a float, y1 is an float, and y2 is a str.\n",
    "# x is a float, y1 is a str, and y2 is a NoneType.\n",
    "# They are all NoneType types.\n",
    "\n",
    "\n",
    "'''\n",
    "ANSWER\n",
    "x is a float, y1 is a str, and y2 is a NoneType.\n",
    "'''"
   ]
  },
  {
   "cell_type": "markdown",
   "id": "12abee64",
   "metadata": {},
   "source": [
    "# Write a simple function\n",
    "In the last video, Hugo described the basics of how to define a function. You will now write your own function!\n",
    "\n",
    "Define a function, shout(), which simply prints out a string with three exclamation marks '!!!' at the end. The code for the square() function that we wrote earlier is found below. You can use it as a pattern to define shout().\n",
    "\n",
    "def square():\n",
    "    new_value = 4 ** 2\n",
    "    return new_value\n",
    "Note that the function body is indented 4 spaces already for you. Function bodies need to be indented by a consistent number of spaces and the choice of 4 is common.\n",
    "\n",
    "This course touches on a lot of concepts you may have forgotten, so if you ever need a quick refresher, download the Python for data science Cheat Sheet and keep it handy!"
   ]
  },
  {
   "cell_type": "code",
   "execution_count": 4,
   "id": "74d0b1d8",
   "metadata": {},
   "outputs": [
    {
     "name": "stdout",
     "output_type": "stream",
     "text": [
      "congratulations!!!\n"
     ]
    }
   ],
   "source": [
    "def shout():\n",
    "    \"\"\"Print a string with three exclamation marks\"\"\"\n",
    "    # Concatenate the strings: shout_word\n",
    "    shout_word = 'congratulations' + '!!!'\n",
    "\n",
    "    # Print shout_word\n",
    "    print(shout_word)\n",
    "\n",
    "# Call shout\n",
    "shout()\n"
   ]
  },
  {
   "cell_type": "markdown",
   "id": "e95bcbb1",
   "metadata": {},
   "source": [
    "# Single-parameter functions\n",
    "Congratulations! You have successfully defined and called your own function! That's pretty cool.\n",
    "\n",
    "In the previous exercise, you defined and called the function shout(), which printed out a string concatenated with '!!!'. You will now update shout() by adding a parameter so that it can accept and process any string argument passed to it. Also note that shout(word), the part of the header that specifies the function name and parameter(s), is known as the signature of the function. You may encounter this term in the wild!"
   ]
  },
  {
   "cell_type": "code",
   "execution_count": null,
   "id": "d5c09734",
   "metadata": {},
   "outputs": [],
   "source": [
    "# Define shout with the parameter, word\n",
    "def shout(word):\n",
    "    \"\"\"Print a string with three exclamation marks\"\"\"\n",
    "    # Concatenate the strings: shout_word\n",
    "    shout_word = word + '!!!'\n",
    "\n",
    "    # Print shout_word\n",
    "    print(shout_word)\n",
    "\n",
    "# Call shout with the string 'congratulations'\n",
    "shout('congratulations')"
   ]
  },
  {
   "cell_type": "markdown",
   "id": "10a83a1d",
   "metadata": {},
   "source": [
    "# Functions that return single values\n",
    "You're getting very good at this! Try your hand at another modification to the shout() function so that it now returns a single value instead of printing within the function. Recall that the return keyword lets you return values from functions. Parts of the function shout(), which you wrote earlier, are shown. Returning values is generally more desirable than printing them out because, as you saw earlier, a print() call assigned to a variable has type NoneType."
   ]
  },
  {
   "cell_type": "code",
   "execution_count": null,
   "id": "213621ff",
   "metadata": {},
   "outputs": [],
   "source": [
    "# Define shout with the parameter, word\n",
    "def shout(word):\n",
    "    \"\"\"Return a string with three exclamation marks\"\"\"\n",
    "    # Concatenate the strings: shout_word\n",
    "    shout_word = word + '!!!'\n",
    "\n",
    "    # Replace print with return\n",
    "    return shout_word\n",
    "\n",
    "# Pass 'congratulations' to shout: yell\n",
    "yell = shout('congratulations')\n",
    "\n",
    "# Print yell\n",
    "print(yell)"
   ]
  },
  {
   "cell_type": "markdown",
   "id": "cf9307a0",
   "metadata": {},
   "source": [
    "# Functions with multiple parameters\n",
    "Hugo discussed the use of multiple parameters in defining functions in the last lecture. You are now going to use what you've learned to modify the shout() function further. Here, you will modify shout() to accept two arguments. Parts of the function shout(), which you wrote earlier, are shown."
   ]
  },
  {
   "cell_type": "code",
   "execution_count": null,
   "id": "1b29664b",
   "metadata": {},
   "outputs": [],
   "source": [
    "# Define shout with parameters word1 and word2\n",
    "def shout(word1, word2):\n",
    "    \"\"\"Concatenate strings with three exclamation marks\"\"\"\n",
    "    # Concatenate word1 with '!!!': shout1\n",
    "    shout1 = word1 + '!!!'\n",
    "    \n",
    "    # Concatenate word2 with '!!!': shout2\n",
    "    shout2 = word2 + '!!!'\n",
    "    \n",
    "    # Concatenate shout1 with shout2: new_shout\n",
    "    new_shout = shout1 + shout2\n",
    "\n",
    "    # Return new_shout\n",
    "    return new_shout\n",
    "\n",
    "# Pass 'congratulations' and 'you' to shout(): yell\n",
    "yell = shout('congratulations', 'you')\n",
    "\n",
    "# Print yell\n",
    "print(yell)\n"
   ]
  },
  {
   "cell_type": "markdown",
   "id": "742e4d29",
   "metadata": {},
   "source": [
    "# A brief introduction to tuples\n",
    "Alongside learning about functions, you've also learned about tuples! Here, you will practice what you've learned about tuples: how to construct, unpack, and access tuple elements. Recall how Hugo unpacked the tuple even_nums in the video:\n",
    "\n",
    "a, b, c = even_nums\n",
    "\n",
    "A three-element tuple named nums has been preloaded for this exercise. Before completing the script, perform the following:\n",
    "\n",
    ". Print out the value of nums in the IPython shell. Note the elements in the tuple.\n",
    "\n",
    ". In the IPython shell, try to change the first element of nums to the value 2 by doing an assignment: nums[0] = 2. What happens?"
   ]
  },
  {
   "cell_type": "code",
   "execution_count": null,
   "id": "f80fdeed",
   "metadata": {},
   "outputs": [],
   "source": [
    "nums = (3, 4, 6)\n",
    "\n",
    "# Unpack nums into num1, num2, and num3\n",
    "num1, num2, num3 = nums\n",
    "\n",
    "# Construct even_nums\n",
    "even_nums = (2, num2, num3)"
   ]
  },
  {
   "cell_type": "markdown",
   "id": "cc90a712",
   "metadata": {},
   "source": [
    "# Functions that return multiple values\n",
    "In the previous exercise, you constructed tuples, assigned tuples to variables, and unpacked tuples. Here you will return multiple values from a function using tuples. Let's now update our shout() function to return multiple values. Instead of returning just one string, we will return two strings with the string !!! concatenated to each.\n",
    "\n",
    "Note that the return statement return x, y has the same result as return (x, y): the former actually packs x and y into a tuple under the hood!"
   ]
  },
  {
   "cell_type": "code",
   "execution_count": null,
   "id": "647ecaf6",
   "metadata": {},
   "outputs": [],
   "source": [
    "# Define shout_all with parameters word1 and word2\n",
    "def shout_all(word1, word2):\n",
    "    \n",
    "    # Concatenate word1 with '!!!': shout1\n",
    "    shout1 = word1 + '!!!'\n",
    "    \n",
    "    # Concatenate word2 with '!!!': shout2\n",
    "    shout2 = word2 + '!!!'\n",
    "    \n",
    "    # Construct a tuple with shout1 and shout2: shout_words\n",
    "    shout_words = (shout1, shout2)\n",
    "\n",
    "    # Return shout_words\n",
    "    return shout_words\n",
    "\n",
    "# Pass 'congratulations' and 'you' to shout_all(): yell1, yell2\n",
    "yell1, yell2 = shout_all('congratulations', 'you')\n",
    "\n",
    "# Print yell1 and yell2\n",
    "print(yell1)\n",
    "print(yell2)\n",
    "\n"
   ]
  },
  {
   "cell_type": "markdown",
   "id": "307995af",
   "metadata": {},
   "source": [
    "# Bringing it all together (1)\n",
    "You've got your first taste of writing your own functions in the previous exercises. You've learned how to add parameters to your own function definitions, return a value or multiple values with tuples, and how to call the functions you've defined.\n",
    "\n",
    "In this and the following exercise, you will bring together all these concepts and apply them to a simple data science problem. You will load a dataset and develop functionalities to extract simple insights from the data.\n",
    "\n",
    "For this exercise, your goal is to recall how to load a dataset into a DataFrame. The dataset contains Twitter data and you will iterate over entries in a column to build a dictionary in which the keys are the names of languages and the values are the number of tweets in the given language. The file tweets.csv is available in your current directory.\n",
    "\n",
    "Be aware that this is real data from Twitter and as such there is always a risk that it may contain profanity or other offensive content (in this exercise, and any following exercises that also use real Twitter data)."
   ]
  },
  {
   "cell_type": "code",
   "execution_count": null,
   "id": "18f49201",
   "metadata": {},
   "outputs": [],
   "source": [
    "# Import pandas\n",
    "import pandas as pd\n",
    "\n",
    "# Import Twitter data as DataFrame: df\n",
    "df = pd.read_csv('tweets.csv')\n",
    "\n",
    "# Initialize an empty dictionary: langs_count\n",
    "langs_count = {}\n",
    "\n",
    "# Extract column from DataFrame: col\n",
    "col = df['lang']\n",
    "\n",
    "# Iterate over lang column in DataFrame\n",
    "for entry in col:\n",
    "\n",
    "    # If the language is in langs_count, add 1\n",
    "    if entry in langs_count.keys():\n",
    "        langs_count[entry] += 1\n",
    "    # Else add the language to langs_count, set the value to 1\n",
    "    else:\n",
    "        langs_count[entry] = 1\n",
    "\n",
    "# Print the populated dictionary\n",
    "print(langs_count)\n",
    "\n",
    "\n"
   ]
  },
  {
   "cell_type": "markdown",
   "id": "c33ccaaf",
   "metadata": {},
   "source": [
    "# Bringing it all together (2)\n",
    "Great job! You've now defined the functionality for iterating over entries in a column and building a dictionary with keys the names of languages and values the number of tweets in the given language.\n",
    "\n",
    "In this exercise, you will define a function with the functionality you developed in the previous exercise, return the resulting dictionary from within the function, and call the function with the appropriate arguments.\n",
    "\n",
    "For your convenience, the pandas package has been imported as pd and the 'tweets.csv' file has been imported into the tweets_df variable."
   ]
  },
  {
   "cell_type": "code",
   "execution_count": null,
   "id": "e8abf984",
   "metadata": {},
   "outputs": [],
   "source": [
    "# Import pandas\n",
    "import pandas as pd\n",
    "\n",
    "# Import Twitter data as DataFrame: df\n",
    "tweets_df = pd.read_csv('tweets.csv')\n",
    "\n",
    "# Define count_entries()\n",
    "def count_entries(df, col_name):\n",
    "    \"\"\"Return a dictionary with counts of \n",
    "    occurrences as value for each key.\"\"\"\n",
    "\n",
    "    # Initialize an empty dictionary: langs_count\n",
    "    langs_count = {}\n",
    "    \n",
    "    # Extract column from DataFrame: col\n",
    "    col = df[col_name]\n",
    "    \n",
    "    # Iterate over lang column in DataFrame\n",
    "    for entry in col:\n",
    "\n",
    "        # If the language is in langs_count, add 1\n",
    "        if entry in langs_count.keys():\n",
    "            langs_count[entry] += 1\n",
    "        # Else add the language to langs_count, set the value to 1\n",
    "        else:\n",
    "            langs_count[entry] = 1\n",
    "\n",
    "    # Return the langs_count dictionary\n",
    "    return langs_count\n",
    "\n",
    "# Call count_entries(): result\n",
    "result = count_entries(tweets_df, 'lang')\n",
    "\n",
    "# Print the result\n",
    "print(result)\n",
    "\n"
   ]
  },
  {
   "cell_type": "code",
   "execution_count": null,
   "id": "a5b49611",
   "metadata": {},
   "outputs": [],
   "source": [
    "# In this exercise, you will practice what you've learned about scope in functions.\n",
    "# The variable num has been predefined as 5, alongside the following function definitions:\n",
    "\n",
    "# def func1():\n",
    "#     num = 3\n",
    "#     print(num)\n",
    "\n",
    "# def func2():\n",
    "#     global num\n",
    "#     double_num = num * 2\n",
    "#     num = 6\n",
    "#     print(double_num)\n",
    "\n",
    "# Try calling func1() and func2() in the shell, then answer the following questions:\n",
    "# -What are the values printed out when you call func1() and func2()?\n",
    "# -What is the value of num in the global scope after calling func1() and func2()?\n",
    "\n",
    "# Possible Answers\n",
    "# func1() prints out 3, func2() prints out 6, and the value of num in the global scope is 3.\n",
    "# func1() prints out 3, func2() prints out 3, and the value of num in the global scope is 3.\n",
    "# func1() prints out 3, func2() prints out 10, and the value of num in the global scope is 10.\n",
    "# func1() prints out 3, func2() prints out 10, and the value of num in the global scope is 6.\n",
    "\n",
    "'''\n",
    "ANSWER\n",
    "# func1() prints out 3, func2() prints out 10, and the value of num in the global scope is 6.\n",
    "'''\n"
   ]
  },
  {
   "cell_type": "markdown",
   "id": "2c58fdf9",
   "metadata": {},
   "source": [
    "# The keyword global\n",
    "Let's work more on your mastery of scope. In this exercise, you will use the keyword global within a function to alter the value of a variable defined in the global scope."
   ]
  },
  {
   "cell_type": "code",
   "execution_count": null,
   "id": "bf824523",
   "metadata": {},
   "outputs": [],
   "source": [
    "# Create a string: team\n",
    "team = \"teen titans\"\n",
    "\n",
    "# Define change_team()\n",
    "def change_team():\n",
    "    \"\"\"Change the value of the global variable team.\"\"\"\n",
    "\n",
    "    # Use team in global scope\n",
    "    global team\n",
    "\n",
    "    # Change the value of team in global: team\n",
    "    team = \"justice league\"\n",
    "\n",
    "# Print team\n",
    "print(team)\n",
    "\n",
    "# Call change_team()\n",
    "change_team()\n",
    "\n",
    "# Print team\n",
    "print(team)\n",
    "\n"
   ]
  },
  {
   "cell_type": "code",
   "execution_count": null,
   "id": "38881381",
   "metadata": {},
   "outputs": [],
   "source": [
    "# Python's built-in scope\n",
    "# 50xp\n",
    "\n",
    "# Here you're going to check out Python's built-in scope, which is really just a\n",
    "# built-in module called builtins. However, to query builtins, you'll need to import\n",
    "# builtins 'because the name builtins is not itself built in...No, I’m serious!'\n",
    "# (Learning Python, 5th edition, Mark Lutz). After executing import builtins in the\n",
    "# IPython Shell, execute dir(builtins) to print a list of all the names in the module\n",
    "# builtins. Have a look and you'll see a bunch of names that you'll recognize! Which\n",
    "# of the following names is NOT in the module builtins?\n",
    "\n",
    "# Possible Answers\n",
    "# 'sum'\n",
    "# 'range'\n",
    "# 'array'\n",
    "# 'tuple'\n",
    "\"\"\"ANSWER\n",
    " array\"\"\""
   ]
  },
  {
   "cell_type": "markdown",
   "id": "81ea90cf",
   "metadata": {},
   "source": [
    "# Nested Functions I\n",
    "You've learned in the last video about nesting functions within functions. One reason why you'd like to do this is to avoid writing out the same computations within functions repeatedly. There's nothing new about defining nested functions: you simply define it as you would a regular function with def and embed it inside another function!\n",
    "\n",
    "In this exercise, inside a function three_shouts(), you will define a nested function inner() that concatenates a string object with !!!. three_shouts() then returns a tuple of three elements, each a string concatenated with !!! using inner(). Go for it!"
   ]
  },
  {
   "cell_type": "code",
   "execution_count": null,
   "id": "019c3d04",
   "metadata": {},
   "outputs": [],
   "source": [
    "# Define three_shouts\n",
    "def three_shouts(word1, word2, word3):\n",
    "    \"\"\"Returns a tuple of strings\n",
    "    concatenated with '!!!'.\"\"\"\n",
    "\n",
    "    # Define inner\n",
    "    def inner(word):\n",
    "        \"\"\"Returns a string concatenated with '!!!'.\"\"\"\n",
    "        return word + '!!!'\n",
    "\n",
    "    # Return a tuple of strings\n",
    "    return (inner(word1), inner(word2) ,inner(word3))\n",
    "\n",
    "# Call three_shouts() and print\n",
    "print(three_shouts('a', 'b', 'c'))\n",
    "\n",
    "\n"
   ]
  },
  {
   "cell_type": "markdown",
   "id": "fae3ca8d",
   "metadata": {},
   "source": [
    "# Nested Functions II\n",
    "Great job, you've just nested a function within another function. One other pretty cool reason for nesting functions is the idea of a closure. This means that the nested or inner function remembers the state of its enclosing scope when called. Thus, anything defined locally in the enclosing scope is available to the inner function even when the outer function has finished execution.\n",
    "\n",
    "Let's move forward then! In this exercise, you will complete the definition of the inner function inner_echo() and then call echo() a couple of times, each with a different argument. Complete the exercise and see what the output will be!"
   ]
  },
  {
   "cell_type": "code",
   "execution_count": null,
   "id": "c87b6157",
   "metadata": {},
   "outputs": [],
   "source": [
    "# Define echo\n",
    "def echo(n):\n",
    "    \"\"\"Return the inner_echo function.\"\"\"\n",
    "\n",
    "    # Define inner_echo\n",
    "    def inner_echo(word1):\n",
    "        \"\"\"Concatenate n copies of word1.\"\"\"\n",
    "        echo_word = word1 * n\n",
    "        return echo_word\n",
    "\n",
    "    # Return inner_echo\n",
    "    return inner_echo\n",
    "\n",
    "# Call echo: twice\n",
    "twice = echo(2)\n",
    "\n",
    "# Call echo: thrice\n",
    "thrice = echo(3)\n",
    "\n",
    "# Call twice() and thrice() then print\n",
    "print(twice('hello'), thrice('hello'))\n",
    "\n",
    "\n"
   ]
  },
  {
   "cell_type": "code",
   "execution_count": null,
   "id": "9d7eceff",
   "metadata": {},
   "outputs": [],
   "source": []
  }
 ],
 "metadata": {
  "kernelspec": {
   "display_name": "Python 3",
   "language": "python",
   "name": "python3"
  },
  "language_info": {
   "codemirror_mode": {
    "name": "ipython",
    "version": 3
   },
   "file_extension": ".py",
   "mimetype": "text/x-python",
   "name": "python",
   "nbconvert_exporter": "python",
   "pygments_lexer": "ipython3",
   "version": "3.8.11"
  }
 },
 "nbformat": 4,
 "nbformat_minor": 5
}
