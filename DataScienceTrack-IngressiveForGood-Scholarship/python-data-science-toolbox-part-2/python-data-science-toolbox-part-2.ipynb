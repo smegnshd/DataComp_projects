{
 "cells": [
  {
   "cell_type": "markdown",
   "id": "fe69d588",
   "metadata": {},
   "source": [
    "# Iterators vs Iterables\n",
    "Let's do a quick recall of what you've learned about iterables and iterators. Recall from the video that an iterable is an object that can return an iterator, while an iterator is an object that keeps state and produces the next value when you call next() on it. In this exercise, you will identify which object is an iterable and which is an iterator.\n",
    "\n",
    "The environment has been pre-loaded with the variables flash1 and flash2. Try printing out their values with print() and next() to figure out which is an iterable and which is an iterator."
   ]
  },
  {
   "cell_type": "code",
   "execution_count": null,
   "id": "054b5773",
   "metadata": {},
   "outputs": [],
   "source": [
    "# Possible Answers\n",
    "# -Both flash1 and flash2 are iterators.\n",
    "# -Both flash1 and flash2 are iterables.\n",
    "# -flash1 is an iterable and flash2 is an iterator.\n",
    "# -Take Hint (-15xp)\n",
    "\n",
    "'''\n",
    "ANSWER\n",
    "flash1 is an iterable and flash2 is an iterator.\n",
    "'''"
   ]
  },
  {
   "cell_type": "markdown",
   "id": "f31e3922",
   "metadata": {},
   "source": [
    "# Iterating over iterables (1)\n",
    "Great, you're familiar with what iterables and iterators are! In this exercise, you will reinforce your knowledge about these by iterating over and printing from iterables and iterators.\n",
    "\n",
    "You are provided with a list of strings flash. You will practice iterating over the list by using a for loop. You will also create an iterator for the list and access the values from the iterator."
   ]
  },
  {
   "cell_type": "code",
   "execution_count": null,
   "id": "8c0a92fb",
   "metadata": {},
   "outputs": [],
   "source": [
    "# Create a list of strings: flash\n",
    "flash = ['jay garrick', 'barry allen', 'wally west', 'bart allen']\n",
    "\n",
    "# Print each list item in flash using a for loop\n",
    "for name in flash:\n",
    "    print(name)\n",
    "\n",
    "\n",
    "# Create an iterator for flash: superspeed\n",
    "superhero = iter(flash)\n",
    "\n",
    "# Print each item from the iterator\n",
    "print(next(superhero))\n",
    "print(next(superhero))\n",
    "print(next(superhero))\n",
    "print(next(superhero))"
   ]
  },
  {
   "cell_type": "code",
   "execution_count": 1,
   "id": "917c39f5",
   "metadata": {
    "collapsed": true
   },
   "outputs": [
    {
     "name": "stdout",
     "output_type": "stream",
     "text": [
      "0\n",
      "1\n",
      "2\n",
      "0\n",
      "1\n",
      "2\n",
      "0\n",
      "1\n",
      "2\n",
      "3\n",
      "4\n"
     ]
    }
   ],
   "source": [
    "'''Iterating over iterables (2)\n",
    "\n",
    "One of the things you learned about in this chapter is that not all iterables are actual lists.\n",
    "A couple of examples that we looked at are strings and the use of the range() function. In this\n",
    "exercise, we will focus on the range() function.\n",
    "You can use range() in a for loop as if it's a list to be iterated over:\n",
    "for i in range(5):\n",
    "    print(i)\n",
    "Recall that range() doesn't actually create the list; instead, it creates a range object with\n",
    "an iterator that produces the values until it reaches the limit (in the example, until the value\n",
    "4). If range() created the actual list, calling it with a value of 10^100 may not work, especially\n",
    "since a number as big as that may go over a regular computer's memory. The value 10^100 is actually\n",
    "what's called a Googol which is a 1 followed by a hundred 0s. That's a huge number!\n",
    "Your task for this exercise is to show that calling range() with 10^100 won't actually pre-create\n",
    "the list.\n",
    "-Instructions\n",
    "-Create an iterator object small_value over range(3) using the function iter().\n",
    "-Using a for loop, iterate over range(3), printing the value for every iteration. Use num as the\n",
    "loop variable.\n",
    "-Create an iterator object googol over range(10 ** 100).\n",
    "'''\n",
    "# Create an iterator for range(3): small_value\n",
    "small_value = iter(range(3))\n",
    "\n",
    "# Print the values in small_value\n",
    "print(next(small_value))\n",
    "print(next(small_value))\n",
    "print(next(small_value))\n",
    "\n",
    "# Loop over range(3) and print the values\n",
    "for num in range(3):\n",
    "    print(num)\n",
    "\n",
    "# Create an iterator for range(10 ** 100): googol\n",
    "googol = iter(range(10 ** 100))\n",
    "\n",
    "# Print the first 5 values from googol\n",
    "print(next(googol))\n",
    "print(next(googol))\n",
    "print(next(googol))\n",
    "print(next(googol))\n",
    "print(next(googol))"
   ]
  },
  {
   "cell_type": "markdown",
   "id": "d2a63cf0",
   "metadata": {},
   "source": [
    "# Iterators as function arguments\n",
    "You've been using the iter() function to get an iterator object, as well as the next() function to retrieve the values one by one from the iterator object.\n",
    "\n",
    "There are also functions that take iterators and iterables as arguments. For example, the list() and sum() functions return a list and the sum of elements, respectively.\n",
    "\n",
    "In this exercise, you will use these functions by passing an iterable from range() and then printing the results of the function calls"
   ]
  },
  {
   "cell_type": "code",
   "execution_count": null,
   "id": "e2a80145",
   "metadata": {},
   "outputs": [],
   "source": [
    "# Create a range object: values\n",
    "values = range(10, 21)\n",
    "\n",
    "# Print the range object\n",
    "print(values)\n",
    "\n",
    "# Create a list of integers: values_list\n",
    "values_list = list(values)\n",
    "\n",
    "# Print values_list\n",
    "print(values_list)\n",
    "\n",
    "# Get the sum of values: values_sum\n",
    "values_sum = sum(values)\n",
    "\n",
    "# Print values_sum\n",
    "print(values_sum)"
   ]
  },
  {
   "cell_type": "markdown",
   "id": "64b38374",
   "metadata": {},
   "source": [
    "# Using enumerate\n",
    "You're really getting the hang of using iterators, great job!\n",
    "\n",
    "You've just gained several new ideas on iterators from the last video and one of them is the enumerate() function. Recall that enumerate() returns an enumerate object that produces a sequence of tuples, and each of the tuples is an index-value pair.\n",
    "\n",
    "In this exercise, you are given a list of strings mutants and you will practice using enumerate() on it by printing out a list of tuples and unpacking the tuples using a for loop."
   ]
  },
  {
   "cell_type": "code",
   "execution_count": null,
   "id": "86eecb9d",
   "metadata": {},
   "outputs": [],
   "source": [
    "# Create a list of strings: mutants\n",
    "mutants = ['charles xavier', \n",
    "            'bobby drake', \n",
    "            'kurt wagner', \n",
    "            'max eisenhardt', \n",
    "            'kitty pryde']\n",
    "\n",
    "# Create a list of tuples: mutant_list\n",
    "mutant_list = list(enumerate(mutants))\n",
    "\n",
    "# Print the list of tuples\n",
    "print(mutant_list)\n",
    "\n",
    "# Unpack and print the tuple pairs\n",
    "for index1, value1 in enumerate(mutants):\n",
    "    print(index1, value1)\n",
    "\n",
    "# Change the start index\n",
    "for index2, value2 in enumerate(mutants, start=1):\n",
    "    print(index2, value2)\n"
   ]
  },
  {
   "cell_type": "markdown",
   "id": "5fcdb146",
   "metadata": {},
   "source": [
    "# Using zip\n",
    "Another interesting function that you've learned is zip(), which takes any number of iterables and returns a zip object that is an iterator of tuples. If you wanted to print the values of a zip object, you can convert it into a list and then print it. Printing just a zip object will not return the values unless you unpack it first. In this exercise, you will explore this for yourself.\n",
    "\n",
    "Three lists of strings are pre-loaded: mutants, aliases, and powers. First, you will use list() and zip() on these lists to generate a list of tuples. Then, you will create a zip object using zip(). Finally, you will unpack this zip object in a for loop to print the values in each tuple. Observe the different output generated by printing the list of tuples, then the zip object, and finally, the tuple values in the for loop."
   ]
  },
  {
   "cell_type": "code",
   "execution_count": null,
   "id": "9f115001",
   "metadata": {},
   "outputs": [],
   "source": [
    "# Create a list of tuples: mutant_data\n",
    "mutant_data = list(zip(mutants, aliases, powers))\n",
    "\n",
    "# Print the list of tuples\n",
    "print(mutant_data)\n",
    "\n",
    "# Create a zip object using the three lists: mutant_zip\n",
    "mutant_zip = zip(mutants, aliases, powers)\n",
    "\n",
    "# Print the zip object\n",
    "print(mutant_zip)\n",
    "\n",
    "# Unpack the zip object and print the tuple values\n",
    "for value1, value2, value3 in mutant_zip:\n",
    "    print(value1, value2, value3)\n"
   ]
  },
  {
   "cell_type": "markdown",
   "id": "f6b18d11",
   "metadata": {},
   "source": [
    "# Using * and zip to 'unzip'\n",
    "You know how to use zip() as well as how to print out values from a zip object. Excellent!\n",
    "\n",
    "Let's play around with zip() a little more. There is no unzip function for doing the reverse of what zip() does. We can, however, reverse what has been zipped together by using zip() with a little help from *! * unpacks an iterable such as a list or a tuple into positional arguments in a function call.\n",
    "\n",
    "In this exercise, you will use * in a call to zip() to unpack the tuples produced by zip().\n",
    "\n",
    "Two tuples of strings, mutants and powers have been pre-loaded."
   ]
  },
  {
   "cell_type": "code",
   "execution_count": null,
   "id": "c35b1b46",
   "metadata": {},
   "outputs": [],
   "source": [
    "# Create a zip object from mutants and powers: z1\n",
    "z1 = zip(mutants, powers)\n",
    "\n",
    "# Print the tuples in z1 by unpacking with *\n",
    "print(*z1)\n",
    "\n",
    "# Re-create a zip object from mutants and powers: z1\n",
    "z1 = zip(mutants, powers)\n",
    "\n",
    "# 'Unzip' the tuples in z1 by unpacking with * and zip(): result1, result2\n",
    "result1, result2 = zip(*z1)\n",
    "\n",
    "print(result1)\n",
    "print(result2)\n",
    "\n",
    "# Check if unpacked tuples are equivalent to original tuples\n",
    "print(result1 == mutants)\n",
    "print(result2 == powers)\n"
   ]
  },
  {
   "cell_type": "markdown",
   "id": "e00bb055",
   "metadata": {},
   "source": [
    "# Processing large amounts of Twitter data\n",
    "Sometimes, the data we have to process reaches a size that is too much for a computer's memory to handle. This is a common problem faced by data scientists. A solution to this is to process an entire data source chunk by chunk, instead of a single go all at once.\n",
    "\n",
    "In this exercise, you will do just that. You will process a large csv file of Twitter data in the same way that you processed 'tweets.csv' in Bringing it all together exercises of the prequel course, but this time, working on it in chunks of 10 entries at a time.\n",
    "\n",
    "If you are interested in learning how to access Twitter data so you can work with it on your own system, refer to Part 2 of the DataCamp course on Importing Data in Python.\n",
    "\n",
    "The pandas package has been imported as pd and the file 'tweets.csv' is in your current directory for your use."
   ]
  },
  {
   "cell_type": "code",
   "execution_count": null,
   "id": "a6a0af44",
   "metadata": {},
   "outputs": [],
   "source": [
    "# Initialize an empty dictionary: counts_dict\n",
    "counts_dict = {}\n",
    "\n",
    "# Iterate over the file chunk by chunk\n",
    "for chunk in pd.read_csv('tweets.csv', chunksize=10):\n",
    "\n",
    "    # Iterate over the column in DataFrame\n",
    "    for entry in chunk['lang']:\n",
    "        if entry in counts_dict.keys():\n",
    "            counts_dict[entry] += 1\n",
    "        else:\n",
    "            counts_dict[entry] = 1\n",
    "\n",
    "# Print the populated dictionary\n",
    "print(counts_dict)\n"
   ]
  },
  {
   "cell_type": "markdown",
   "id": "58e4c810",
   "metadata": {},
   "source": [
    "# Extracting information for large amounts of Twitter data\n",
    "Great job chunking out that file in the previous exercise. You now know how to deal with situations where you need to process a very large file and that's a very useful skill to have!\n",
    "\n",
    "It's good to know how to process a file in smaller, more manageable chunks, but it can become very tedious having to write and rewrite the same code for the same task each time. In this exercise, you will be making your code more reusable by putting your work in the last exercise in a function definition.\n",
    "\n",
    "The pandas package has been imported as pd and the file 'tweets.csv' is in your current directory for your use."
   ]
  },
  {
   "cell_type": "code",
   "execution_count": null,
   "id": "5774ef88",
   "metadata": {},
   "outputs": [],
   "source": [
    "# Define count_entries()\n",
    "def count_entries(csv_file, c_size, colname):\n",
    "    \"\"\"Return a dictionary with counts of\n",
    "    occurrences as value for each key.\"\"\"\n",
    "    \n",
    "    # Initialize an empty dictionary: counts_dict\n",
    "    counts_dict = {}\n",
    "\n",
    "    # Iterate over the file chunk by chunk\n",
    "    for chunk in pd.read_csv(csv_file, chunksize = c_size):\n",
    "\n",
    "        # Iterate over the column in DataFrame\n",
    "        for entry in chunk[colname]:\n",
    "            if entry in counts_dict.keys():\n",
    "                counts_dict[entry] += 1\n",
    "            else:\n",
    "                counts_dict[entry] = 1\n",
    "\n",
    "    # Return counts_dict\n",
    "    return counts_dict\n",
    "\n",
    "# Call count_entries(): result_counts\n",
    "result_counts = count_entries('tweets.csv', c_size=10, colname='lang')\n",
    "\n",
    "# Print result_counts\n",
    "print(result_counts)"
   ]
  },
  {
   "cell_type": "code",
   "execution_count": 2,
   "id": "96a3c163",
   "metadata": {},
   "outputs": [
    {
     "data": {
      "text/plain": [
       "\"\\nANSWER\\nThe list comprehension is [doc[0] for doc in doctor] and produces the list ['h', 'c', 'c', 't', 'w'].\\n\""
      ]
     },
     "execution_count": 2,
     "metadata": {},
     "output_type": "execute_result"
    }
   ],
   "source": [
    "# Write a basic list comprehension\n",
    "\n",
    "# In this exercise, you will practice what you've learned from the video about writing\n",
    "# list comprehensions. You will write a list comprehension and identify the output that\n",
    "# will be produced.\n",
    "\n",
    "# The following list has been pre-loaded in the environment.\n",
    "\n",
    "# doctor = ['house', 'cuddy', 'chase', 'thirteen', 'wilson']\n",
    "# How would a list comprehension that produces a list of the first character of each string\n",
    "# in doctor look like? Note that the list comprehension uses doc as the iterator variable.\n",
    "# What will the output be?\n",
    "\n",
    "# Possible Answers\n",
    "# -The list comprehension is [for doc in doctor: doc[0]] and produces the list ['h', 'c', 'c', 't', 'w'].\n",
    "# -The list comprehension is [doc[0] for doc in doctor] and produces the list ['h', 'c', 'c', 't', 'w'].\n",
    "# -The list comprehension is [doc[0] in doctor] and produces the list ['h', 'c', 'c', 't', 'w'].\n",
    "\n",
    "'''\n",
    "ANSWER\n",
    "The list comprehension is [doc[0] for doc in doctor] and produces the list ['h', 'c', 'c', 't', 'w'].\n",
    "'''"
   ]
  },
  {
   "cell_type": "code",
   "execution_count": 3,
   "id": "fbd98538",
   "metadata": {},
   "outputs": [
    {
     "data": {
      "text/plain": [
       "'\\nANSWER\\nYou can build list comprehensions over all the objects except the integer object valjean.\\n'"
      ]
     },
     "execution_count": 3,
     "metadata": {},
     "output_type": "execute_result"
    }
   ],
   "source": [
    "# List comprehension over iterables\n",
    "\n",
    "# You know that list comprehensions can be built over iterables. Given the following\n",
    "# objects below, which of these can we build list comprehensions over?\n",
    "\n",
    "# doctor = ['house', 'cuddy', 'chase', 'thirteen', 'wilson']\n",
    "\n",
    "# range(50)\n",
    "\n",
    "# underwood = 'After all, we are nothing more or less than what we choose to reveal.'\n",
    "\n",
    "# jean = '24601'\n",
    "\n",
    "# flash = ['jay garrick', 'barry allen', 'wally west', 'bart allen']\n",
    "\n",
    "# valjean = 24601\n",
    "# Possible Answers\n",
    "# -You can build list comprehensions over all the objects except the string of number characters jean.\n",
    "# -You can build list comprehensions over all the objects except the string lists doctor and flash.\n",
    "# -You can build list comprehensions over all the objects except range(50).\n",
    "# -You can build list comprehensions over all the objects except the integer object valjean.\n",
    "\n",
    "'''\n",
    "ANSWER\n",
    "You can build list comprehensions over all the objects except the integer object valjean.\n",
    "'''"
   ]
  },
  {
   "cell_type": "markdown",
   "id": "caaf4453",
   "metadata": {},
   "source": [
    "# Writing list comprehensions\n",
    "You now have all the knowledge necessary to begin writing list comprehensions! Your job in this exercise is to write a list comprehension that produces a list of the squares of the numbers ranging from 0 to 9."
   ]
  },
  {
   "cell_type": "code",
   "execution_count": 4,
   "id": "b7c2d1d4",
   "metadata": {},
   "outputs": [
    {
     "name": "stdout",
     "output_type": "stream",
     "text": [
      "[0, 1, 4, 9, 16, 25, 36, 49, 64, 81]\n"
     ]
    }
   ],
   "source": [
    "# Create list comprehension: squares\n",
    "squares = [i ** 2 for i in range(10)]\n",
    "\n",
    "print(squares)"
   ]
  },
  {
   "cell_type": "code",
   "execution_count": 5,
   "id": "b9b0a6ce",
   "metadata": {},
   "outputs": [
    {
     "data": {
      "text/plain": [
       "\"\\nNested list comprehensions\\n\\nGreat! At this point, you have a good grasp of the basic syntax of list comprehensions.\\nLet's push your code-writing skills a little further. In this exercise, you will be writing\\na list comprehension within another list comprehension, or nested list comprehensions. It\\nsounds a little tricky, but you can do it!\\nLet's step aside for a while from strings. One of the ways in which lists can be used are\\nin representing multi-dimension objects such as matrices. Matrices can be represented as a\\nlist of lists in Python. For example a 5 x 5 matrix with values 0 to 4 in each row can be\\nwritten as:\\nmatrix = [[0, 1, 2, 3, 4],\\n          [0, 1, 2, 3, 4],\\n          [0, 1, 2, 3, 4],\\n          [0, 1, 2, 3, 4],\\n          [0, 1, 2, 3, 4]]\\nYour task is to recreate this matrix by using nested listed comprehensions. Recall that\\nyou can create one of the rows of the matrix with a single list comprehension. To create\\nthe list of lists, you simply have to supply the list comprehension as the output expression\\nof the overall list comprehension:\\n[[output expression] for iterator variable in iterable]\\nNote that here, the output expression is itself a list comprehension.\\nInstructions\\n-In the inner list comprehension - that is, the output expression of the nested list\\ncomprehension - create a list of values from 0 to 4 using range(). Use col as the iterator\\nvariable.\\n-In the iterable part of your nested list comprehension, use range() to count 5 rows - that is,\\ncreate a list of values from 0 to 4. Use row as the iterator variable; note that you won't be\\nneeding this to create values in the list of lists.\\n\""
      ]
     },
     "execution_count": 5,
     "metadata": {},
     "output_type": "execute_result"
    }
   ],
   "source": [
    "'''\n",
    "Nested list comprehensions\n",
    "\n",
    "Great! At this point, you have a good grasp of the basic syntax of list comprehensions.\n",
    "Let's push your code-writing skills a little further. In this exercise, you will be writing\n",
    "a list comprehension within another list comprehension, or nested list comprehensions. It\n",
    "sounds a little tricky, but you can do it!\n",
    "Let's step aside for a while from strings. One of the ways in which lists can be used are\n",
    "in representing multi-dimension objects such as matrices. Matrices can be represented as a\n",
    "list of lists in Python. For example a 5 x 5 matrix with values 0 to 4 in each row can be\n",
    "written as:\n",
    "matrix = [[0, 1, 2, 3, 4],\n",
    "          [0, 1, 2, 3, 4],\n",
    "          [0, 1, 2, 3, 4],\n",
    "          [0, 1, 2, 3, 4],\n",
    "          [0, 1, 2, 3, 4]]\n",
    "Your task is to recreate this matrix by using nested listed comprehensions. Recall that\n",
    "you can create one of the rows of the matrix with a single list comprehension. To create\n",
    "the list of lists, you simply have to supply the list comprehension as the output expression\n",
    "of the overall list comprehension:\n",
    "[[output expression] for iterator variable in iterable]\n",
    "Note that here, the output expression is itself a list comprehension.\n",
    "Instructions\n",
    "-In the inner list comprehension - that is, the output expression of the nested list\n",
    "comprehension - create a list of values from 0 to 4 using range(). Use col as the iterator\n",
    "variable.\n",
    "-In the iterable part of your nested list comprehension, use range() to count 5 rows - that is,\n",
    "create a list of values from 0 to 4. Use row as the iterator variable; note that you won't be\n",
    "needing this to create values in the list of lists.\n",
    "'''"
   ]
  },
  {
   "cell_type": "code",
   "execution_count": 6,
   "id": "95c64f9f",
   "metadata": {},
   "outputs": [
    {
     "name": "stdout",
     "output_type": "stream",
     "text": [
      "[0, 1, 2, 3, 4]\n",
      "[0, 1, 2, 3, 4]\n",
      "[0, 1, 2, 3, 4]\n",
      "[0, 1, 2, 3, 4]\n",
      "[0, 1, 2, 3, 4]\n"
     ]
    }
   ],
   "source": [
    "# Create a 5 x 5 matrix using a list of lists: matrix\n",
    "matrix = [[col for col in range(5)] for row in range(5)]\n",
    "\n",
    "# Print the matrix\n",
    "for row in matrix:\n",
    "    print(row)\n"
   ]
  },
  {
   "cell_type": "markdown",
   "id": "06cc1a9c",
   "metadata": {},
   "source": [
    "# Using conditionals in comprehensions (1)\n",
    "You've been using list comprehensions to build lists of values, sometimes using operations to create these values.\n",
    "\n",
    "An interesting mechanism in list comprehensions is that you can also create lists with values that meet only a certain condition. One way of doing this is by using conditionals on iterator variables. In this exercise, you will do exactly that!\n",
    "\n",
    "Recall from the video that you can apply a conditional statement to test the iterator variable by adding an if statement in the optional predicate expression part after the for statement in the comprehension:\n",
    "\n",
    "[ output expression for iterator variable in iterable if predicate expression ].\n",
    "\n",
    "You will use this recipe to write a list comprehension for this exercise. You are given a list of strings fellowship and, using a list comprehension, you will create a list that only includes the members of fellowship that have 7 characters or more."
   ]
  },
  {
   "cell_type": "code",
   "execution_count": null,
   "id": "65ce9960",
   "metadata": {},
   "outputs": [],
   "source": [
    "# Create a list of strings: fellowship\n",
    "fellowship = ['frodo', 'samwise', 'merry', 'aragorn', 'legolas', 'boromir', 'gimli']\n",
    "\n",
    "# Create list comprehension: new_fellowship\n",
    "new_fellowship = [member for member in fellowship if len(member) >= 7]\n",
    "\n",
    "# Print the new list\n",
    "print(new_fellowship)\n"
   ]
  },
  {
   "cell_type": "markdown",
   "id": "9537026c",
   "metadata": {},
   "source": [
    "# Using conditionals in comprehensions (2)\n",
    "In the previous exercise, you used an if conditional statement in the predicate expression part of a list comprehension to evaluate an iterator variable. In this exercise, you will use an if-else statement on the output expression of the list.\n",
    "\n",
    "You will work on the same list, fellowship and, using a list comprehension and an if-else conditional statement in the output expression, create a list that keeps members of fellowship with 7 or more characters and replaces others with an empty string. Use member as the iterator variable in the list comprehension."
   ]
  },
  {
   "cell_type": "code",
   "execution_count": 7,
   "id": "84b1c1bf",
   "metadata": {},
   "outputs": [
    {
     "name": "stdout",
     "output_type": "stream",
     "text": [
      "['', 'samwise', '', 'aragorn', 'legolas', 'boromir', '']\n"
     ]
    }
   ],
   "source": [
    "# Create a list of strings: fellowship\n",
    "fellowship = ['frodo', 'samwise', 'merry',\n",
    "              'aragorn', 'legolas', 'boromir', 'gimli']\n",
    "\n",
    "# Create list comprehension: new_fellowship\n",
    "new_fellowship = [member if len(member) >= 7 else member.replace(\n",
    "    member, '') for member in fellowship]\n",
    "\n",
    "# Print the new list\n",
    "print(new_fellowship)\n"
   ]
  },
  {
   "cell_type": "markdown",
   "id": "63342ee7",
   "metadata": {},
   "source": [
    "# Dict comprehensions\n",
    "Comprehensions aren't relegated merely to the world of lists. There are many other objects you can build using comprehensions, such as dictionaries, pervasive objects in Data Science. You will create a dictionary using the comprehension syntax for this exercise. In this case, the comprehension is called a dict comprehension.\n",
    "\n",
    "Recall that the main difference between a list comprehension and a dict comprehension is the use of curly braces {} instead of []. Additionally, members of the dictionary are created using a colon :, as in <key> : <value>.\n",
    "\n",
    "You are given a list of strings fellowship and, using a dict comprehension, create a dictionary with the members of the list as the keys and the length of each string as the corresponding values."
   ]
  },
  {
   "cell_type": "code",
   "execution_count": 8,
   "id": "8e1f56d5",
   "metadata": {},
   "outputs": [
    {
     "name": "stdout",
     "output_type": "stream",
     "text": [
      "{'frodo': 5, 'samwise': 7, 'merry': 5, 'aragorn': 7, 'legolas': 7, 'boromir': 7, 'gimli': 5}\n"
     ]
    }
   ],
   "source": [
    "# Create a list of strings: fellowship\n",
    "fellowship = ['frodo', 'samwise', 'merry', 'aragorn', 'legolas', 'boromir', 'gimli']\n",
    "\n",
    "# Create dict comprehension: new_fellowship\n",
    "new_fellowship = {member: len(member) for member in fellowship}\n",
    "\n",
    "# Print the new list\n",
    "print(new_fellowship)"
   ]
  },
  {
   "cell_type": "code",
   "execution_count": 9,
   "id": "d454a59d",
   "metadata": {},
   "outputs": [
    {
     "data": {
      "text/plain": [
       "'\\nANSWER\\nA list comprehension produces a list as output, a generator produces a generator object.\\n'"
      ]
     },
     "execution_count": 9,
     "metadata": {},
     "output_type": "execute_result"
    }
   ],
   "source": [
    "# List comprehensions vs generators\n",
    "\n",
    "\n",
    "# You've seen from the videos that list comprehensions and generator expressions look\n",
    "# very similar in their syntax, except for the use of parentheses () in generator expressions\n",
    "# and brackets [] in list comprehensions.\n",
    "\n",
    "# In this exercise, you will recall the difference between list comprehensions and generators.\n",
    "# To help with that task, the following code has been pre-loaded in the environment:\n",
    "\n",
    "# # List of strings\n",
    "# fellowship = ['frodo', 'samwise', 'merry', 'aragorn', 'legolas', 'boromir', 'gimli']\n",
    "\n",
    "# # List comprehension\n",
    "# fellow1 = [member for member in fellowship if len(member) >= 7]\n",
    "\n",
    "# # Generator expression\n",
    "# fellow2 = (member for member in fellowship if len(member) >= 7)\n",
    "\n",
    "# Try to play around with fellow1 and fellow2 by figuring out their types and printing\n",
    "# out their values. Based on your observations and what you can recall from the video,\n",
    "# select from the options below the best description for the difference between list\n",
    "# comprehensions and generators.\n",
    "\n",
    "# Possible Answers\n",
    "# -List comprehensions and generators are not different at all; they are just different ways\n",
    "# of writing the same thing.\n",
    "# -A list comprehension produces a list as output, a generator produces a generator object.\n",
    "# -A list comprehension produces a list as output that can be iterated over, a generator\n",
    "# produces a generator object that can't be iterated over.\n",
    "\n",
    "\n",
    "'''\n",
    "ANSWER\n",
    "A list comprehension produces a list as output, a generator produces a generator object.\n",
    "'''"
   ]
  },
  {
   "cell_type": "markdown",
   "id": "5cd5ed64",
   "metadata": {},
   "source": [
    "# Write your own generator expressions\n",
    "You are familiar with what generators and generator expressions are, as well as its difference from list comprehensions. In this exercise, you will practice building generator expressions on your own.\n",
    "\n",
    "Recall that generator expressions basically have the same syntax as list comprehensions, except that it uses parentheses () instead of brackets []; this should make things feel familiar! Furthermore, if you have ever iterated over a dictionary with .items(), or used the range() function, for example, you have already encountered and used generators before, without knowing it! When you use these functions, Python creates generators for you behind the scenes.\n",
    "\n",
    "Now, you will start simple by creating a generator object that produces numeric values."
   ]
  },
  {
   "cell_type": "code",
   "execution_count": null,
   "id": "0860058f",
   "metadata": {},
   "outputs": [],
   "source": [
    "# Create generator object: result\n",
    "result = (num for num in range(31))\n",
    "\n",
    "# Print the first 5 values\n",
    "print(next(result))\n",
    "print(next(result))\n",
    "print(next(result))\n",
    "print(next(result))\n",
    "print(next(result))\n",
    "\n",
    "# Print the rest of the values\n",
    "for value in result:\n",
    "    print(value)"
   ]
  },
  {
   "cell_type": "markdown",
   "id": "c93b498a",
   "metadata": {},
   "source": [
    "# Changing the output in generator expressions\n",
    "Great! At this point, you already know how to write a basic generator expression. In this exercise, you will push this idea a little further by adding to the output expression of a generator expression. Because generator expressions and list comprehensions are so alike in syntax, this should be a familiar task for you!\n",
    "\n",
    "You are given a list of strings lannister and, using a generator expression, create a generator object that you will iterate over to print its values."
   ]
  },
  {
   "cell_type": "code",
   "execution_count": null,
   "id": "6ab0413a",
   "metadata": {},
   "outputs": [],
   "source": [
    "# Create a list of strings: lannister\n",
    "lannister = ['cersei', 'jaime', 'tywin', 'tyrion', 'joffrey']\n",
    "\n",
    "# Create a generator object: lengths\n",
    "lengths = (len(person) for person in lannister)\n",
    "\n",
    "# Iterate over and print the values in lengths\n",
    "for value in lengths:\n",
    "    print(value)\n"
   ]
  },
  {
   "cell_type": "markdown",
   "id": "f5cf80bb",
   "metadata": {},
   "source": [
    "# Build a generator\n",
    "In previous exercises, you've dealt mainly with writing generator expressions, which uses comprehension syntax. Being able to use comprehension syntax for generator expressions made your work so much easier!\n",
    "\n",
    "Now, recall from the video that not only are there generator expressions, there are generator functions as well. Generator functions are functions that, like generator expressions, yield a series of values, instead of returning a single value. A generator function is defined as you do a regular function, but whenever it generates a value, it uses the keyword yield instead of return.\n",
    "\n",
    "In this exercise, you will create a generator function with a similar mechanism as the generator expression you defined in the previous exercise:"
   ]
  },
  {
   "cell_type": "code",
   "execution_count": null,
   "id": "96f1eaca",
   "metadata": {},
   "outputs": [],
   "source": [
    "# Create a list of strings\n",
    "lannister = ['cersei', 'jaime', 'tywin', 'tyrion', 'joffrey']\n",
    "\n",
    "# Define generator function get_lengths\n",
    "def get_lengths(input_list):\n",
    "    \"\"\"Generator function that yields the\n",
    "    length of the strings in input_list.\"\"\"\n",
    "\n",
    "    # Yield the length of a string\n",
    "    for person in input_list:\n",
    "        yield len(person)\n",
    "        \n",
    "# Print the values generated by get_lengths()\n",
    "for value in get_lengths(lannister):\n",
    "    print(value)"
   ]
  },
  {
   "cell_type": "markdown",
   "id": "c24b996d",
   "metadata": {},
   "source": [
    "# List comprehensions for time-stamped data\n",
    "You will now make use of what you've learned from this chapter to solve a simple data extraction problem. You will also be introduced to a data structure, the pandas Series, in this exercise. We won't elaborate on it much here, but what you should know is that it is a data structure that you will be working with a lot of times when analyzing data from pandas DataFrames. You can think of DataFrame columns as single-dimension arrays called Series.\n",
    "\n",
    "In this exercise, you will be using a list comprehension to extract the time from time-stamped Twitter data. The pandas package has been imported as pd and the file 'tweets.csv' has been imported as the df DataFrame for your use."
   ]
  },
  {
   "cell_type": "code",
   "execution_count": null,
   "id": "7a030eba",
   "metadata": {},
   "outputs": [],
   "source": [
    "# Import packages\n",
    "import pandas as pd\n",
    "\n",
    "df = pd.read_csv('../_datasets/tweets.csv')\n",
    "\n",
    "# Extract the created_at column from df: tweet_time\n",
    "tweet_time = df['created_at']\n",
    "\n",
    "# Extract the clock time: tweet_clock_time\n",
    "tweet_clock_time = [entry[11:19] for entry in tweet_time]\n",
    "\n",
    "# Print the extracted times\n",
    "print(tweet_clock_time)\n",
    "\n"
   ]
  },
  {
   "cell_type": "markdown",
   "id": "945c6aea",
   "metadata": {},
   "source": [
    "# Conditional list comprehensions for time-stamped data\n",
    "Great, you've successfully extracted the data of interest, the time, from a pandas DataFrame! Let's tweak your work further by adding a conditional that further specifies which entries to select.\n",
    "\n",
    "In this exercise, you will be using a list comprehension to extract the time from time-stamped Twitter data. You will add a conditional expression to the list comprehension so that you only select the times in which entry[17:19] is equal to '19'. The pandas package has been imported as pd and the file 'tweets.csv' has been imported as the df DataFrame for your use."
   ]
  },
  {
   "cell_type": "code",
   "execution_count": null,
   "id": "d191751b",
   "metadata": {},
   "outputs": [],
   "source": [
    "# Import packages\n",
    "import pandas as pd\n",
    "\n",
    "df = pd.read_csv('../_datasets/tweets.csv')\n",
    "\n",
    "# Extract the created_at column from df: tweet_time\n",
    "tweet_time = df['created_at']\n",
    "\n",
    "# Extract the clock time: tweet_clock_time\n",
    "tweet_clock_time = [entry[11:19] for entry in tweet_time if entry[17:19] == '19']\n",
    "\n",
    "# Print the extracted times\n",
    "print(tweet_clock_time)"
   ]
  },
  {
   "cell_type": "code",
   "execution_count": null,
   "id": "1929c31b",
   "metadata": {},
   "outputs": [],
   "source": []
  }
 ],
 "metadata": {
  "kernelspec": {
   "display_name": "Python 3",
   "language": "python",
   "name": "python3"
  },
  "language_info": {
   "codemirror_mode": {
    "name": "ipython",
    "version": 3
   },
   "file_extension": ".py",
   "mimetype": "text/x-python",
   "name": "python",
   "nbconvert_exporter": "python",
   "pygments_lexer": "ipython3",
   "version": "3.8.11"
  }
 },
 "nbformat": 4,
 "nbformat_minor": 5
}
