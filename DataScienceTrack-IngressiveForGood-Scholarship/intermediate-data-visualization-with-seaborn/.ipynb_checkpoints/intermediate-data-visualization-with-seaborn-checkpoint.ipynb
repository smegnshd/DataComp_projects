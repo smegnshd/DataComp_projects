{
 "cells": [
  {
   "cell_type": "code",
   "execution_count": null,
   "id": "b01982f6",
   "metadata": {},
   "outputs": [],
   "source": [
    "# Seaborn foundation\n",
    "# What library provides the foundation for pandas and Seaborn plotting?\n",
    "\n",
    "# Answer the question\n",
    "\n",
    "# Possible Answers\n",
    "\n",
    "# javascript\n",
    "\n",
    "# matplotlib\n",
    "\n",
    "# vega\n",
    "\n",
    "# ggplot2\n",
    "\n",
    "\"\"\"ANSWER\n",
    "matplotlib\"\"\""
   ]
  },
  {
   "cell_type": "markdown",
   "id": "9ce42580",
   "metadata": {},
   "source": [
    "# Reading a csv file\n",
    "Before you analyze data, you will need to read the data into a pandas DataFrame. In this exercise, you will be looking at data from US School Improvement Grants in 2010. This program gave nearly $4B to schools to help them renovate or improve their programs.\n",
    "\n",
    "This first step in most data analysis is to import pandas and seaborn and read a data file in order to analyze it further.\n",
    "\n",
    "This course introduces a lot of new concepts, so if you ever need a quick refresher, download the Seaborn Cheat Sheet and keep it handy!"
   ]
  },
  {
   "cell_type": "code",
   "execution_count": null,
   "id": "68ecdea2",
   "metadata": {},
   "outputs": [],
   "source": [
    "# import all modules\n",
    "import pandas as pd\n",
    "import seaborn as sns\n",
    "import matplotlib.pyplot as plt\n",
    "\n",
    "# Read in the DataFrame\n",
    "df = pd.read_csv(grant_file)"
   ]
  },
  {
   "cell_type": "markdown",
   "id": "72621145",
   "metadata": {},
   "source": [
    "# Comparing a histogram and distplot\n",
    "The pandas library supports simple plotting of data, which is very convenient when data is already likely to be in a pandas DataFrame.\n",
    "\n",
    "Seaborn generally does more statistical analysis on data and can provide more sophisticated insight into the data. In this exercise, we will compare a pandas histogram vs the seaborn distplot."
   ]
  },
  {
   "cell_type": "code",
   "execution_count": null,
   "id": "0e6ddd9c",
   "metadata": {},
   "outputs": [],
   "source": [
    "# Display pandas histogram\n",
    "df['Award_Amount'].plot.hist()\n",
    "plt.show()\n",
    "\n",
    "# Clear out the pandas histogram\n",
    "plt.clf()"
   ]
  },
  {
   "cell_type": "code",
   "execution_count": null,
   "id": "2fd91c73",
   "metadata": {},
   "outputs": [],
   "source": [
    "# Display a Seaborn distplot\n",
    "sns.distplot(df['Award_Amount'])\n",
    "plt.show()\n",
    "\n",
    "# Clear the distplot\n",
    "plt.clf()\n"
   ]
  },
  {
   "cell_type": "markdown",
   "id": "99e89c27",
   "metadata": {},
   "source": [
    "# Plot a histogram\n",
    "The distplot() function will return a Kernel Density Estimate (KDE) by default. The KDE helps to smooth the distribution and is a useful way to look at the data. However, Seaborn can also support the more standard histogram approach if that is more meaningful for your analysis."
   ]
  },
  {
   "cell_type": "code",
   "execution_count": null,
   "id": "d7a59836",
   "metadata": {},
   "outputs": [],
   "source": [
    "# Create a distplot\n",
    "sns.distplot(df['Award_Amount'],\n",
    "             kde=False,\n",
    "             bins=20)\n",
    "\n",
    "# Display a plot\n",
    "plt.show()"
   ]
  },
  {
   "cell_type": "markdown",
   "id": "81abec8f",
   "metadata": {},
   "source": [
    "# Rug plot and kde shading\n",
    "Now that you understand some function arguments for distplot(), we can continue further refining the output. This process of creating a visualization and updating it in an incremental fashion is a useful and common approach to look at data from multiple perspectives.\n",
    "\n",
    "Seaborn excels at making this process simple."
   ]
  },
  {
   "cell_type": "code",
   "execution_count": null,
   "id": "8dbf630e",
   "metadata": {},
   "outputs": [],
   "source": [
    "# Create a distplot of the Award Amount\n",
    "sns.distplot(df['Award_Amount'],\n",
    "             hist=False,\n",
    "             rug=True,\n",
    "             kde_kws={'shade':True})\n",
    "\n",
    "# Plot the results\n",
    "plt.show()\n"
   ]
  },
  {
   "cell_type": "code",
   "execution_count": null,
   "id": "11738f3a",
   "metadata": {},
   "outputs": [],
   "source": [
    "# Interpreting the results\n",
    "# Looking at this distplot, which of these choices can you infer based on the visualization?\n",
    "\n",
    "# Award Amount Distribution\n",
    "\n",
    "# Answer the question\n",
    "\n",
    "\n",
    "# Possible Answers\n",
    "# The most frequent award amount range was between $650K and $700K.\n",
    "\n",
    "# The award amounts are normally distributed.\n",
    "\n",
    "# There are a large group of award amounts < $400K.\n",
    "\n",
    "# The average award is > $900K.\n",
    "\n",
    "\"\"\"Answer\n",
    "There are a large group of award amounts < $400K.\"\"\"\n"
   ]
  },
  {
   "cell_type": "markdown",
   "id": "25e8fe01",
   "metadata": {},
   "source": [
    "# Create a regression plot\n",
    "For this set of exercises, we will be looking at FiveThirtyEight's data on which US State has the worst drivers. The data set includes summary level information about fatal accidents as well as insurance premiums for each state as of 2010.\n",
    "\n",
    "In this exercise, we will look at the difference between the regression plotting functions."
   ]
  },
  {
   "cell_type": "code",
   "execution_count": null,
   "id": "c715f85c",
   "metadata": {},
   "outputs": [],
   "source": [
    "# Create a regression plot of premiums vs. insurance_losses\n",
    "sns.regplot(data=df,\n",
    "            x=\"insurance_losses\",\n",
    "            y=\"premiums\")\n",
    "\n",
    "# Display the plot\n",
    "plt.show()"
   ]
  },
  {
   "cell_type": "code",
   "execution_count": null,
   "id": "d5d8fb04",
   "metadata": {},
   "outputs": [],
   "source": [
    "# Create an lmplot of premiums vs. insurance_losses\n",
    "sns.lmplot(data=df,\n",
    "           x=\"insurance_losses\",\n",
    "           y=\"premiums\")\n",
    "\n",
    "# Display the second plot\n",
    "plt.show()"
   ]
  },
  {
   "cell_type": "markdown",
   "id": "0524d721",
   "metadata": {},
   "source": [
    "# Plotting multiple variables\n",
    "Since we are using lmplot() now, we can look at the more complex interactions of data. This data set includes geographic information by state and area. It might be interesting to see if there is a difference in relationships based on the Region of the country."
   ]
  },
  {
   "cell_type": "code",
   "execution_count": null,
   "id": "2874aee7",
   "metadata": {},
   "outputs": [],
   "source": [
    "# Create a regression plot using hue\n",
    "sns.lmplot(data=df,\n",
    "           x=\"insurance_losses\",\n",
    "           y=\"premiums\",\n",
    "           hue=\"Region\")\n",
    "\n",
    "#Show the results\n",
    "plt.show()"
   ]
  },
  {
   "cell_type": "markdown",
   "id": "55bb1685",
   "metadata": {},
   "source": [
    "# Facetting multiple regressions\n",
    "lmplot() allows us to facet the data across multiple rows and columns. In the previous plot, the multiple lines were difficult to read in one plot. We can try creating multiple plots by Region to see if that is a more useful visualization."
   ]
  },
  {
   "cell_type": "code",
   "execution_count": null,
   "id": "a820fbf4",
   "metadata": {},
   "outputs": [],
   "source": [
    "# Create a regression plot with multiple rows\n",
    "sns.lmplot(data=df,\n",
    "           x=\"insurance_losses\",\n",
    "           y=\"premiums\",\n",
    "           row=\"Region\")\n",
    "\n",
    "# Show the plot\n",
    "plt.show()"
   ]
  },
  {
   "cell_type": "markdown",
   "id": "9397ad9a",
   "metadata": {},
   "source": [
    "# Setting the default style\n",
    "For these exercises, we will be looking at fair market rent values calculated by the US Housing and Urban Development Department. This data is used to calculate guidelines for several federal programs. The actual values for rents vary greatly across the US. We can use this data to get some experience with configuring Seaborn plots.\n",
    "\n",
    "All of the necessary imports for seaborn, pandas and matplotlib have been completed. The data is stored in the pandas DataFrame df.\n",
    "\n",
    "By the way, if you haven't downloaded it already, check out the Seaborn Cheat Sheet. It includes an overview of the most important concepts, functions and methods and might come in handy if you ever need a quick refresher!"
   ]
  },
  {
   "cell_type": "code",
   "execution_count": null,
   "id": "e1197297",
   "metadata": {},
   "outputs": [],
   "source": [
    "# Plot the pandas histogram\n",
    "df['fmr_2'].plot.hist()\n",
    "plt.show()\n",
    "plt.clf()\n",
    "\n",
    "# Set the default seaborn style\n",
    "sns.set()\n",
    "\n",
    "# Plot the pandas histogram again\n",
    "df['fmr_2'].plot.hist()\n",
    "plt.show()\n",
    "plt.clf()"
   ]
  },
  {
   "cell_type": "markdown",
   "id": "ae28b712",
   "metadata": {},
   "source": [
    "# Comparing styles\n",
    "Seaborn supports setting different styles that can control the aesthetics of the final plot. In this exercise, you will plot the same data in two different styles in order to see how the styles change the output."
   ]
  },
  {
   "cell_type": "code",
   "execution_count": null,
   "id": "e3ae6019",
   "metadata": {},
   "outputs": [],
   "source": [
    "# Plot with a dark style \n",
    "sns.set_style('dark')\n",
    "sns.distplot(df['fmr_2'])\n",
    "plt.show()\n",
    "\n",
    "# Clear the figure\n",
    "plt.clf()"
   ]
  },
  {
   "cell_type": "code",
   "execution_count": null,
   "id": "995a4cdc",
   "metadata": {},
   "outputs": [],
   "source": [
    "# Plot with a whitegrid style\n",
    "sns.set_style('whitegrid')\n",
    "sns.distplot(df['fmr_2'])\n",
    "plt.show()\n",
    "\n",
    "# Clear the figure\n",
    "plt.clf()"
   ]
  },
  {
   "cell_type": "markdown",
   "id": "6509819d",
   "metadata": {},
   "source": [
    "# Removing spines\n",
    "In general, visualizations should minimize extraneous markings so that the data speaks for itself. Seaborn allows you to remove the lines on the top, bottom, left and right axis, which are often called spines."
   ]
  },
  {
   "cell_type": "code",
   "execution_count": null,
   "id": "9bdc73a8",
   "metadata": {},
   "outputs": [],
   "source": [
    "# Set the style to white\n",
    "sns.set_style('white')\n",
    "\n",
    "# Create a regression plot\n",
    "sns.lmplot(data=df,\n",
    "           x='pop2010',\n",
    "           y='fmr_2')\n",
    "\n",
    "# Remove the spines\n",
    "sns.despine()\n",
    "\n",
    "# Show the plot and clear the figure\n",
    "plt.show()\n",
    "plt.clf()"
   ]
  },
  {
   "cell_type": "markdown",
   "id": "f16aaf93",
   "metadata": {},
   "source": [
    "# Matplotlib color codes\n",
    "Seaborn offers several options for modifying the colors of your visualizations. The simplest approach is to explicitly state the color of the plot. A quick way to change colors is to use the standard matplotlib color codes."
   ]
  },
  {
   "cell_type": "code",
   "execution_count": null,
   "id": "729c2828",
   "metadata": {},
   "outputs": [],
   "source": [
    "# Set style, enable color code, and create a magenta distplot\n",
    "sns.set(color_codes=True)\n",
    "sns.distplot(df['fmr_3'], color='m')\n",
    "\n",
    "# Show the plot\n",
    "plt.show()"
   ]
  },
  {
   "cell_type": "markdown",
   "id": "740ab5e0",
   "metadata": {},
   "source": [
    "# Using default palettes\n",
    "Seaborn includes several default palettes that can be easily applied to your plots. In this example, we will look at the impact of two different palettes on the same distplot."
   ]
  },
  {
   "cell_type": "code",
   "execution_count": null,
   "id": "405dc867",
   "metadata": {},
   "outputs": [],
   "source": [
    "# Loop through differences between bright and colorblind palettes\n",
    "for p in ['bright', 'colorblind']:\n",
    "    sns.set_palette(p)\n",
    "    sns.distplot(df['fmr_3'])\n",
    "    plt.show()\n",
    "    \n",
    "    # Clear the plots\n",
    "    plt.clf()"
   ]
  },
  {
   "cell_type": "code",
   "execution_count": 1,
   "id": "7c3b8dd9",
   "metadata": {},
   "outputs": [
    {
     "data": {
      "text/plain": [
       "'Answer\\n                  circular'"
      ]
     },
     "execution_count": 1,
     "metadata": {},
     "output_type": "execute_result"
    }
   ],
   "source": [
    "# Color Palettes\n",
    "# When visualizing multiple elements of data that do not have inherent ordering. Which type of Seaborn palette should you use?\n",
    "\n",
    "# Answer the question\n",
    "# Possible Answers\n",
    "\n",
    "# sequential\n",
    "\n",
    "# circular\n",
    "\n",
    "# diverging\n",
    "\n",
    "# None of the above.\n",
    "\n",
    "\"\"\"Answer\n",
    "                  circular\"\"\""
   ]
  },
  {
   "cell_type": "markdown",
   "id": "0fa19fff",
   "metadata": {},
   "source": [
    "# Creating Custom Palettes\n",
    "Choosing a cohesive palette that works for your data can be time consuming. Fortunately, Seaborn provides the color_palette() function to create your own custom sequential, categorical, or diverging palettes. Seaborn also makes it easy to view your palettes by using the palplot() function.\n",
    "\n",
    "In this exercise, you can experiment with creating different palettes."
   ]
  },
  {
   "cell_type": "code",
   "execution_count": null,
   "id": "1cc614c6",
   "metadata": {},
   "outputs": [],
   "source": [
    "# Create the Purples palette\n",
    "sns.palplot(sns.color_palette(\"Purples\", 8))\n",
    "plt.show()"
   ]
  },
  {
   "cell_type": "code",
   "execution_count": null,
   "id": "3d0b40b3",
   "metadata": {},
   "outputs": [],
   "source": [
    "\"\"\"Create and display a palette with 10 colors using the husl system.\"\"\"\n",
    "# Create the husl palette\n",
    "sns.palplot(sns.color_palette(\"husl\", 10))\n",
    "plt.show()\n"
   ]
  },
  {
   "cell_type": "code",
   "execution_count": null,
   "id": "1cc74a6e",
   "metadata": {},
   "outputs": [],
   "source": [
    "\"\"\"Create and display a diverging palette with 6 colors coolwarm.\"\"\"\n",
    "# Create the coolwarm palette\n",
    "sns.palplot(sns.color_palette(\"coolwarm\", 6))\n",
    "plt.show()\n"
   ]
  },
  {
   "cell_type": "markdown",
   "id": "adcb37e6",
   "metadata": {},
   "source": [
    "# Using matplotlib axes\n",
    "Seaborn uses matplotlib as the underlying library for creating plots. Most of the time, you can use the Seaborn API to modify your visualizations but sometimes it is helpful to use matplotlib's functions to customize your plots. The most important object in this case is matplotlib's axes.\n",
    "\n",
    "Once you have an axes object, you can perform a lot of customization of your plot.\n",
    "\n",
    "In these examples, the US HUD data is loaded in the dataframe df and all libraries are imported."
   ]
  },
  {
   "cell_type": "code",
   "execution_count": null,
   "id": "7e971570",
   "metadata": {},
   "outputs": [],
   "source": [
    "# Create a figure and axes\n",
    "fig, ax = plt.subplots()\n",
    "\n",
    "# Plot the distribution of data\n",
    "sns.distplot(df['fmr_3'], ax=ax)\n",
    "\n",
    "# Create a more descriptive x axis label\n",
    "ax.set(xlabel=\"3 Bedroom Fair Market Rent\")\n",
    "\n",
    "# Show the plot\n",
    "plt.show()"
   ]
  },
  {
   "cell_type": "markdown",
   "id": "6375af0f",
   "metadata": {},
   "source": [
    "# Additional plot customizations\n",
    "The matplotlib API supports many common customizations such as labeling axes, adding titles, and setting limits. Let's complete another customization exercise."
   ]
  },
  {
   "cell_type": "code",
   "execution_count": null,
   "id": "049e8d4e",
   "metadata": {},
   "outputs": [],
   "source": [
    "# Create a figure and axes\n",
    "fig, ax = plt.subplots()\n",
    "\n",
    "# Plot the distribution of 1 bedroom rents\n",
    "sns.distplot(df['fmr_1'], ax=ax)\n",
    "\n",
    "# Modify the properties of the plot\n",
    "ax.set(xlabel=\"1 Bedroom Fair Market Rent\",\n",
    "       xlim=(100,1500),\n",
    "       title=\"US Rent\")\n",
    "\n",
    "# Display the plot\n",
    "plt.show()\n"
   ]
  },
  {
   "cell_type": "markdown",
   "id": "b39bda51",
   "metadata": {},
   "source": [
    "# Adding annotations\n",
    "Each of the enhancements we have covered can be combined together. In the next exercise, we can annotate our distribution plot to include lines that show the mean and median rent prices.\n",
    "\n",
    "For this example, the palette has been changed to bright using sns.set_palette()"
   ]
  },
  {
   "cell_type": "code",
   "execution_count": null,
   "id": "29e83d0c",
   "metadata": {},
   "outputs": [],
   "source": [
    "# Create a figure and axes. Then plot the data\n",
    "fig, ax = plt.subplots()\n",
    "sns.distplot(df['fmr_1'], ax=ax)\n",
    "\n",
    "# Customize the labels and limits\n",
    "ax.set(xlabel=\"1 Bedroom Fair Market Rent\", xlim=(100,1500), title=\"US Rent\")\n",
    "\n",
    "# Add vertical lines for the median and mean\n",
    "ax.axvline(x=median, color='m', label='Median', linestyle='--', linewidth=2)\n",
    "ax.axvline(x=mean, color='b', label='Mean', linestyle='-', linewidth=2)\n",
    "\n",
    "# Show the legend and plot the data\n",
    "ax.legend()\n",
    "plt.show()\n"
   ]
  },
  {
   "cell_type": "markdown",
   "id": "01aa3f1d",
   "metadata": {},
   "source": [
    "# Multiple plots\n",
    "For the final exercise we will plot a comparison of the fair market rents for 1-bedroom and 2-bedroom apartments."
   ]
  },
  {
   "cell_type": "code",
   "execution_count": null,
   "id": "39684e15",
   "metadata": {},
   "outputs": [],
   "source": [
    "# Create a plot with 1 row and 2 columns that share the y axis label\n",
    "fig, (ax0, ax1) = plt.subplots(nrows=1, ncols=2, sharey=True)\n",
    "\n",
    "# Plot the distribution of 1 bedroom apartments on ax0\n",
    "sns.distplot(df['fmr_1'], ax=ax0)\n",
    "ax0.set(xlabel=\"1 Bedroom Fair Market Rent\", xlim=(100,1500))\n",
    "\n",
    "# Plot the distribution of 2 bedroom apartments on ax1\n",
    "sns.distplot(df['fmr_2'], ax=ax1)\n",
    "ax1.set(xlabel=\"2 Bedroom Fair Market Rent\", xlim=(100,1500))\n",
    "\n",
    "# Display the plot\n",
    "plt.show()"
   ]
  },
  {
   "cell_type": "code",
   "execution_count": null,
   "id": "b997fad7",
   "metadata": {},
   "outputs": [],
   "source": []
  }
 ],
 "metadata": {
  "kernelspec": {
   "display_name": "Python 3",
   "language": "python",
   "name": "python3"
  },
  "language_info": {
   "codemirror_mode": {
    "name": "ipython",
    "version": 3
   },
   "file_extension": ".py",
   "mimetype": "text/x-python",
   "name": "python",
   "nbconvert_exporter": "python",
   "pygments_lexer": "ipython3",
   "version": "3.8.11"
  }
 },
 "nbformat": 4,
 "nbformat_minor": 5
}
