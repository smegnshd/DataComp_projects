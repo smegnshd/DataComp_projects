{
 "cells": [
  {
   "cell_type": "code",
   "execution_count": null,
   "id": "2785ef31",
   "metadata": {},
   "outputs": [],
   "source": [
    "# Seaborn foundation\n",
    "# What library provides the foundation for pandas and Seaborn plotting?\n",
    "\n",
    "# Answer the question\n",
    "\n",
    "# Possible Answers\n",
    "\n",
    "# javascript\n",
    "\n",
    "# matplotlib\n",
    "\n",
    "# vega\n",
    "\n",
    "# ggplot2\n",
    "\n",
    "\"\"\"ANSWER\n",
    "matplotlib\"\"\""
   ]
  },
  {
   "cell_type": "markdown",
   "id": "07a2eb7e",
   "metadata": {},
   "source": [
    "# Reading a csv file\n",
    "Before you analyze data, you will need to read the data into a pandas DataFrame. In this exercise, you will be looking at data from US School Improvement Grants in 2010. This program gave nearly $4B to schools to help them renovate or improve their programs.\n",
    "\n",
    "This first step in most data analysis is to import pandas and seaborn and read a data file in order to analyze it further.\n",
    "\n",
    "This course introduces a lot of new concepts, so if you ever need a quick refresher, download the Seaborn Cheat Sheet and keep it handy!"
   ]
  },
  {
   "cell_type": "code",
   "execution_count": null,
   "id": "a76b4ac1",
   "metadata": {},
   "outputs": [],
   "source": [
    "# import all modules\n",
    "import pandas as pd\n",
    "import seaborn as sns\n",
    "import matplotlib.pyplot as plt\n",
    "\n",
    "# Read in the DataFrame\n",
    "df = pd.read_csv(grant_file)"
   ]
  },
  {
   "cell_type": "markdown",
   "id": "4cfc5b27",
   "metadata": {},
   "source": [
    "# Comparing a histogram and distplot\n",
    "The pandas library supports simple plotting of data, which is very convenient when data is already likely to be in a pandas DataFrame.\n",
    "\n",
    "Seaborn generally does more statistical analysis on data and can provide more sophisticated insight into the data. In this exercise, we will compare a pandas histogram vs the seaborn distplot."
   ]
  },
  {
   "cell_type": "code",
   "execution_count": null,
   "id": "f9b1bf3d",
   "metadata": {},
   "outputs": [],
   "source": [
    "# Display pandas histogram\n",
    "df['Award_Amount'].plot.hist()\n",
    "plt.show()\n",
    "\n",
    "# Clear out the pandas histogram\n",
    "plt.clf()"
   ]
  },
  {
   "cell_type": "code",
   "execution_count": null,
   "id": "20084edb",
   "metadata": {},
   "outputs": [],
   "source": [
    "# Display a Seaborn distplot\n",
    "sns.distplot(df['Award_Amount'])\n",
    "plt.show()\n",
    "\n",
    "# Clear the distplot\n",
    "plt.clf()\n"
   ]
  },
  {
   "cell_type": "markdown",
   "id": "8f456620",
   "metadata": {},
   "source": [
    "# Plot a histogram\n",
    "The distplot() function will return a Kernel Density Estimate (KDE) by default. The KDE helps to smooth the distribution and is a useful way to look at the data. However, Seaborn can also support the more standard histogram approach if that is more meaningful for your analysis."
   ]
  },
  {
   "cell_type": "code",
   "execution_count": null,
   "id": "46235f27",
   "metadata": {},
   "outputs": [],
   "source": [
    "# Create a distplot\n",
    "sns.distplot(df['Award_Amount'],\n",
    "             kde=False,\n",
    "             bins=20)\n",
    "\n",
    "# Display a plot\n",
    "plt.show()"
   ]
  },
  {
   "cell_type": "markdown",
   "id": "22205dd3",
   "metadata": {},
   "source": [
    "# Rug plot and kde shading\n",
    "Now that you understand some function arguments for distplot(), we can continue further refining the output. This process of creating a visualization and updating it in an incremental fashion is a useful and common approach to look at data from multiple perspectives.\n",
    "\n",
    "Seaborn excels at making this process simple."
   ]
  },
  {
   "cell_type": "code",
   "execution_count": null,
   "id": "9fdf1574",
   "metadata": {},
   "outputs": [],
   "source": [
    "# Create a distplot of the Award Amount\n",
    "sns.distplot(df['Award_Amount'],\n",
    "             hist=False,\n",
    "             rug=True,\n",
    "             kde_kws={'shade':True})\n",
    "\n",
    "# Plot the results\n",
    "plt.show()\n"
   ]
  },
  {
   "cell_type": "code",
   "execution_count": null,
   "id": "ca72754a",
   "metadata": {},
   "outputs": [],
   "source": [
    "# Interpreting the results\n",
    "# Looking at this distplot, which of these choices can you infer based on the visualization?\n",
    "\n",
    "# Award Amount Distribution\n",
    "\n",
    "# Answer the question\n",
    "\n",
    "\n",
    "# Possible Answers\n",
    "# The most frequent award amount range was between $650K and $700K.\n",
    "\n",
    "# The award amounts are normally distributed.\n",
    "\n",
    "# There are a large group of award amounts < $400K.\n",
    "\n",
    "# The average award is > $900K.\n",
    "\n",
    "\"\"\"Answer\n",
    "There are a large group of award amounts < $400K.\"\"\"\n"
   ]
  },
  {
   "cell_type": "markdown",
   "id": "112ef19c",
   "metadata": {},
   "source": [
    "# Create a regression plot\n",
    "For this set of exercises, we will be looking at FiveThirtyEight's data on which US State has the worst drivers. The data set includes summary level information about fatal accidents as well as insurance premiums for each state as of 2010.\n",
    "\n",
    "In this exercise, we will look at the difference between the regression plotting functions."
   ]
  },
  {
   "cell_type": "code",
   "execution_count": null,
   "id": "563323ac",
   "metadata": {},
   "outputs": [],
   "source": [
    "# Create a regression plot of premiums vs. insurance_losses\n",
    "sns.regplot(data=df,\n",
    "            x=\"insurance_losses\",\n",
    "            y=\"premiums\")\n",
    "\n",
    "# Display the plot\n",
    "plt.show()"
   ]
  },
  {
   "cell_type": "code",
   "execution_count": null,
   "id": "97bb7a2b",
   "metadata": {},
   "outputs": [],
   "source": [
    "# Create an lmplot of premiums vs. insurance_losses\n",
    "sns.lmplot(data=df,\n",
    "           x=\"insurance_losses\",\n",
    "           y=\"premiums\")\n",
    "\n",
    "# Display the second plot\n",
    "plt.show()"
   ]
  },
  {
   "cell_type": "markdown",
   "id": "b033321b",
   "metadata": {},
   "source": [
    "# Plotting multiple variables\n",
    "Since we are using lmplot() now, we can look at the more complex interactions of data. This data set includes geographic information by state and area. It might be interesting to see if there is a difference in relationships based on the Region of the country."
   ]
  },
  {
   "cell_type": "code",
   "execution_count": null,
   "id": "770a7b7d",
   "metadata": {},
   "outputs": [],
   "source": [
    "# Create a regression plot using hue\n",
    "sns.lmplot(data=df,\n",
    "           x=\"insurance_losses\",\n",
    "           y=\"premiums\",\n",
    "           hue=\"Region\")\n",
    "\n",
    "#Show the results\n",
    "plt.show()"
   ]
  },
  {
   "cell_type": "markdown",
   "id": "c6695b97",
   "metadata": {},
   "source": [
    "# Facetting multiple regressions\n",
    "lmplot() allows us to facet the data across multiple rows and columns. In the previous plot, the multiple lines were difficult to read in one plot. We can try creating multiple plots by Region to see if that is a more useful visualization."
   ]
  },
  {
   "cell_type": "code",
   "execution_count": null,
   "id": "a459bb32",
   "metadata": {},
   "outputs": [],
   "source": [
    "# Create a regression plot with multiple rows\n",
    "sns.lmplot(data=df,\n",
    "           x=\"insurance_losses\",\n",
    "           y=\"premiums\",\n",
    "           row=\"Region\")\n",
    "\n",
    "# Show the plot\n",
    "plt.show()"
   ]
  },
  {
   "cell_type": "markdown",
   "id": "65cd35b4",
   "metadata": {},
   "source": [
    "# Setting the default style\n",
    "For these exercises, we will be looking at fair market rent values calculated by the US Housing and Urban Development Department. This data is used to calculate guidelines for several federal programs. The actual values for rents vary greatly across the US. We can use this data to get some experience with configuring Seaborn plots.\n",
    "\n",
    "All of the necessary imports for seaborn, pandas and matplotlib have been completed. The data is stored in the pandas DataFrame df.\n",
    "\n",
    "By the way, if you haven't downloaded it already, check out the Seaborn Cheat Sheet. It includes an overview of the most important concepts, functions and methods and might come in handy if you ever need a quick refresher!"
   ]
  },
  {
   "cell_type": "code",
   "execution_count": null,
   "id": "7d99a5ff",
   "metadata": {},
   "outputs": [],
   "source": [
    "# Plot the pandas histogram\n",
    "df['fmr_2'].plot.hist()\n",
    "plt.show()\n",
    "plt.clf()\n",
    "\n",
    "# Set the default seaborn style\n",
    "sns.set()\n",
    "\n",
    "# Plot the pandas histogram again\n",
    "df['fmr_2'].plot.hist()\n",
    "plt.show()\n",
    "plt.clf()"
   ]
  },
  {
   "cell_type": "markdown",
   "id": "ba892efb",
   "metadata": {},
   "source": [
    "# Comparing styles\n",
    "Seaborn supports setting different styles that can control the aesthetics of the final plot. In this exercise, you will plot the same data in two different styles in order to see how the styles change the output."
   ]
  },
  {
   "cell_type": "code",
   "execution_count": null,
   "id": "7e481f48",
   "metadata": {},
   "outputs": [],
   "source": [
    "# Plot with a dark style \n",
    "sns.set_style('dark')\n",
    "sns.distplot(df['fmr_2'])\n",
    "plt.show()\n",
    "\n",
    "# Clear the figure\n",
    "plt.clf()"
   ]
  },
  {
   "cell_type": "code",
   "execution_count": null,
   "id": "846a60f1",
   "metadata": {},
   "outputs": [],
   "source": [
    "# Plot with a whitegrid style\n",
    "sns.set_style('whitegrid')\n",
    "sns.distplot(df['fmr_2'])\n",
    "plt.show()\n",
    "\n",
    "# Clear the figure\n",
    "plt.clf()"
   ]
  },
  {
   "cell_type": "markdown",
   "id": "03980c10",
   "metadata": {},
   "source": [
    "# Removing spines\n",
    "In general, visualizations should minimize extraneous markings so that the data speaks for itself. Seaborn allows you to remove the lines on the top, bottom, left and right axis, which are often called spines."
   ]
  },
  {
   "cell_type": "code",
   "execution_count": null,
   "id": "7de4d9a6",
   "metadata": {},
   "outputs": [],
   "source": [
    "# Set the style to white\n",
    "sns.set_style('white')\n",
    "\n",
    "# Create a regression plot\n",
    "sns.lmplot(data=df,\n",
    "           x='pop2010',\n",
    "           y='fmr_2')\n",
    "\n",
    "# Remove the spines\n",
    "sns.despine()\n",
    "\n",
    "# Show the plot and clear the figure\n",
    "plt.show()\n",
    "plt.clf()"
   ]
  },
  {
   "cell_type": "markdown",
   "id": "8c2b6d66",
   "metadata": {},
   "source": [
    "# Matplotlib color codes\n",
    "Seaborn offers several options for modifying the colors of your visualizations. The simplest approach is to explicitly state the color of the plot. A quick way to change colors is to use the standard matplotlib color codes."
   ]
  },
  {
   "cell_type": "code",
   "execution_count": null,
   "id": "6404be5d",
   "metadata": {},
   "outputs": [],
   "source": [
    "# Set style, enable color code, and create a magenta distplot\n",
    "sns.set(color_codes=True)\n",
    "sns.distplot(df['fmr_3'], color='m')\n",
    "\n",
    "# Show the plot\n",
    "plt.show()"
   ]
  },
  {
   "cell_type": "markdown",
   "id": "cc695e70",
   "metadata": {},
   "source": [
    "# Using default palettes\n",
    "Seaborn includes several default palettes that can be easily applied to your plots. In this example, we will look at the impact of two different palettes on the same distplot."
   ]
  },
  {
   "cell_type": "code",
   "execution_count": null,
   "id": "48becd9e",
   "metadata": {},
   "outputs": [],
   "source": [
    "# Loop through differences between bright and colorblind palettes\n",
    "for p in ['bright', 'colorblind']:\n",
    "    sns.set_palette(p)\n",
    "    sns.distplot(df['fmr_3'])\n",
    "    plt.show()\n",
    "    \n",
    "    # Clear the plots\n",
    "    plt.clf()"
   ]
  },
  {
   "cell_type": "code",
   "execution_count": 1,
   "id": "eeab348f",
   "metadata": {},
   "outputs": [
    {
     "data": {
      "text/plain": [
       "'Answer\\n                  circular'"
      ]
     },
     "execution_count": 1,
     "metadata": {},
     "output_type": "execute_result"
    }
   ],
   "source": [
    "# Color Palettes\n",
    "# When visualizing multiple elements of data that do not have inherent ordering. Which type of Seaborn palette should you use?\n",
    "\n",
    "# Answer the question\n",
    "# Possible Answers\n",
    "\n",
    "# sequential\n",
    "\n",
    "# circular\n",
    "\n",
    "# diverging\n",
    "\n",
    "# None of the above.\n",
    "\n",
    "\"\"\"Answer\n",
    "                  circular\"\"\""
   ]
  },
  {
   "cell_type": "markdown",
   "id": "acd9cb2f",
   "metadata": {},
   "source": [
    "# Creating Custom Palettes\n",
    "Choosing a cohesive palette that works for your data can be time consuming. Fortunately, Seaborn provides the color_palette() function to create your own custom sequential, categorical, or diverging palettes. Seaborn also makes it easy to view your palettes by using the palplot() function.\n",
    "\n",
    "In this exercise, you can experiment with creating different palettes."
   ]
  },
  {
   "cell_type": "code",
   "execution_count": null,
   "id": "8b79f8b5",
   "metadata": {},
   "outputs": [],
   "source": [
    "# Create the Purples palette\n",
    "sns.palplot(sns.color_palette(\"Purples\", 8))\n",
    "plt.show()"
   ]
  },
  {
   "cell_type": "code",
   "execution_count": null,
   "id": "c41b6024",
   "metadata": {},
   "outputs": [],
   "source": [
    "\"\"\"Create and display a palette with 10 colors using the husl system.\"\"\"\n",
    "# Create the husl palette\n",
    "sns.palplot(sns.color_palette(\"husl\", 10))\n",
    "plt.show()\n"
   ]
  },
  {
   "cell_type": "code",
   "execution_count": null,
   "id": "2ae7d529",
   "metadata": {},
   "outputs": [],
   "source": [
    "\"\"\"Create and display a diverging palette with 6 colors coolwarm.\"\"\"\n",
    "# Create the coolwarm palette\n",
    "sns.palplot(sns.color_palette(\"coolwarm\", 6))\n",
    "plt.show()\n"
   ]
  },
  {
   "cell_type": "markdown",
   "id": "ce1fcfdf",
   "metadata": {},
   "source": [
    "# Using matplotlib axes\n",
    "Seaborn uses matplotlib as the underlying library for creating plots. Most of the time, you can use the Seaborn API to modify your visualizations but sometimes it is helpful to use matplotlib's functions to customize your plots. The most important object in this case is matplotlib's axes.\n",
    "\n",
    "Once you have an axes object, you can perform a lot of customization of your plot.\n",
    "\n",
    "In these examples, the US HUD data is loaded in the dataframe df and all libraries are imported."
   ]
  },
  {
   "cell_type": "code",
   "execution_count": null,
   "id": "1a75735b",
   "metadata": {},
   "outputs": [],
   "source": [
    "# Create a figure and axes\n",
    "fig, ax = plt.subplots()\n",
    "\n",
    "# Plot the distribution of data\n",
    "sns.distplot(df['fmr_3'], ax=ax)\n",
    "\n",
    "# Create a more descriptive x axis label\n",
    "ax.set(xlabel=\"3 Bedroom Fair Market Rent\")\n",
    "\n",
    "# Show the plot\n",
    "plt.show()"
   ]
  },
  {
   "cell_type": "markdown",
   "id": "58aa1405",
   "metadata": {},
   "source": [
    "# Additional plot customizations\n",
    "The matplotlib API supports many common customizations such as labeling axes, adding titles, and setting limits. Let's complete another customization exercise."
   ]
  },
  {
   "cell_type": "code",
   "execution_count": null,
   "id": "1e3f2f2d",
   "metadata": {},
   "outputs": [],
   "source": [
    "# Create a figure and axes\n",
    "fig, ax = plt.subplots()\n",
    "\n",
    "# Plot the distribution of 1 bedroom rents\n",
    "sns.distplot(df['fmr_1'], ax=ax)\n",
    "\n",
    "# Modify the properties of the plot\n",
    "ax.set(xlabel=\"1 Bedroom Fair Market Rent\",\n",
    "       xlim=(100,1500),\n",
    "       title=\"US Rent\")\n",
    "\n",
    "# Display the plot\n",
    "plt.show()\n"
   ]
  },
  {
   "cell_type": "markdown",
   "id": "dd878e85",
   "metadata": {},
   "source": [
    "# Adding annotations\n",
    "Each of the enhancements we have covered can be combined together. In the next exercise, we can annotate our distribution plot to include lines that show the mean and median rent prices.\n",
    "\n",
    "For this example, the palette has been changed to bright using sns.set_palette()"
   ]
  },
  {
   "cell_type": "code",
   "execution_count": null,
   "id": "55e1236c",
   "metadata": {},
   "outputs": [],
   "source": [
    "# Create a figure and axes. Then plot the data\n",
    "fig, ax = plt.subplots()\n",
    "sns.distplot(df['fmr_1'], ax=ax)\n",
    "\n",
    "# Customize the labels and limits\n",
    "ax.set(xlabel=\"1 Bedroom Fair Market Rent\", xlim=(100,1500), title=\"US Rent\")\n",
    "\n",
    "# Add vertical lines for the median and mean\n",
    "ax.axvline(x=median, color='m', label='Median', linestyle='--', linewidth=2)\n",
    "ax.axvline(x=mean, color='b', label='Mean', linestyle='-', linewidth=2)\n",
    "\n",
    "# Show the legend and plot the data\n",
    "ax.legend()\n",
    "plt.show()\n"
   ]
  },
  {
   "cell_type": "markdown",
   "id": "d36c00bd",
   "metadata": {},
   "source": [
    "# Multiple plots\n",
    "For the final exercise we will plot a comparison of the fair market rents for 1-bedroom and 2-bedroom apartments."
   ]
  },
  {
   "cell_type": "code",
   "execution_count": null,
   "id": "9b89d9ff",
   "metadata": {},
   "outputs": [],
   "source": [
    "# Create a plot with 1 row and 2 columns that share the y axis label\n",
    "fig, (ax0, ax1) = plt.subplots(nrows=1, ncols=2, sharey=True)\n",
    "\n",
    "# Plot the distribution of 1 bedroom apartments on ax0\n",
    "sns.distplot(df['fmr_1'], ax=ax0)\n",
    "ax0.set(xlabel=\"1 Bedroom Fair Market Rent\", xlim=(100,1500))\n",
    "\n",
    "# Plot the distribution of 2 bedroom apartments on ax1\n",
    "sns.distplot(df['fmr_2'], ax=ax1)\n",
    "ax1.set(xlabel=\"2 Bedroom Fair Market Rent\", xlim=(100,1500))\n",
    "\n",
    "# Display the plot\n",
    "plt.show()"
   ]
  },
  {
   "cell_type": "markdown",
   "id": "b0efbd0c",
   "metadata": {},
   "source": [
    "# stripplot() and swarmplot()\n",
    "Many datasets have categorical data and Seaborn supports several useful plot types for this data. In this example, we will continue to look at the 2010 School Improvement data and segment the data by the types of school improvement models used.\n",
    "\n",
    "As a refresher, here is the KDE distribution of the Award Amounts:\n",
    "\n",
    "\n",
    "\n",
    "While this plot is useful, there is a lot more we can learn by looking at the individual Award_Amounts and how they are distributed among the 4 categories."
   ]
  },
  {
   "cell_type": "code",
   "execution_count": null,
   "id": "697ae703",
   "metadata": {},
   "outputs": [],
   "source": [
    "# Create the stripplot\n",
    "sns.stripplot(data=df,\n",
    "              x='Award_Amount',\n",
    "              y='Model Selected',\n",
    "              jitter=True)\n",
    "\n",
    "plt.show()"
   ]
  },
  {
   "cell_type": "code",
   "execution_count": null,
   "id": "71bc0f8c",
   "metadata": {},
   "outputs": [],
   "source": [
    "\"\"\"Create a swarmplot() of the same data, but also include the hue by Region.\"\"\"\n",
    "# Create and display a swarmplot with hue set to the Region\n",
    "sns.swarmplot(data=df,\n",
    "              x='Award_Amount',\n",
    "              y='Model Selected',\n",
    "              hue='Region')\n",
    "\n",
    "plt.show()"
   ]
  },
  {
   "cell_type": "markdown",
   "id": "d33acb3f",
   "metadata": {},
   "source": [
    "# boxplots, violinplots and lvplots\n",
    "Seaborn's categorical plots also support several abstract representations of data. The API for each of these is the same so it is very convenient to try each plot and see if the data lends itself to one over the other.\n",
    "\n",
    "In this exercise, we will use the color palette options presented in Chapter 2 to show how colors can easily be included in the plots."
   ]
  },
  {
   "cell_type": "code",
   "execution_count": null,
   "id": "a4547afe",
   "metadata": {},
   "outputs": [],
   "source": [
    "# Create a boxplot\n",
    "sns.boxplot(data=df,\n",
    "            x='Award_Amount',\n",
    "            y='Model Selected')\n",
    "\n",
    "plt.show()\n",
    "plt.clf()"
   ]
  },
  {
   "cell_type": "code",
   "execution_count": null,
   "id": "9d71798e",
   "metadata": {},
   "outputs": [],
   "source": [
    "# Create a violinplot with the husl palette\n",
    "sns.violinplot(data=df,\n",
    "               x='Award_Amount',\n",
    "               y='Model Selected',\n",
    "               palette='husl')\n",
    "\n",
    "plt.show()\n",
    "plt.clf()\n"
   ]
  },
  {
   "cell_type": "code",
   "execution_count": null,
   "id": "908b89c4",
   "metadata": {},
   "outputs": [],
   "source": [
    "\"\"\"Create and display an lvplot using the Paired palette and the Region column as the hue.\"\"\"\n",
    "# Create a lvplot with the Paired palette and the Region column as the hue\n",
    "sns.lvplot(data=df,\n",
    "           x='Award_Amount',\n",
    "           y='Model Selected',\n",
    "           palette='Paired',\n",
    "           hue='Region')\n",
    "\n",
    "plt.show()\n",
    "plt.clf()"
   ]
  },
  {
   "cell_type": "markdown",
   "id": "b41cfb67",
   "metadata": {},
   "source": [
    "# barplots, pointplots and countplots\n",
    "The final group of categorical plots are barplots, pointplots and countplot which create statistical summaries of the data. The plots follow a similar API as the other plots and allow further customization for the specific problem at hand."
   ]
  },
  {
   "cell_type": "code",
   "execution_count": null,
   "id": "ec2274c9",
   "metadata": {},
   "outputs": [],
   "source": [
    "# Show a countplot with the number of models used with each region a different color\n",
    "sns.countplot(data=df,\n",
    "              y=\"Model Selected\",\n",
    "              hue=\"Region\")\n",
    "\n",
    "plt.show()\n",
    "plt.clf()\n"
   ]
  },
  {
   "cell_type": "code",
   "execution_count": null,
   "id": "23d6a1a1",
   "metadata": {},
   "outputs": [],
   "source": [
    "# Create a pointplot and include the capsize in order to show bars on the confidence interval\n",
    "sns.pointplot(data=df,\n",
    "              y='Award_Amount',\n",
    "              x='Model Selected',\n",
    "              capsize=.1)\n",
    "\n",
    "plt.show()\n",
    "plt.clf()\n"
   ]
  },
  {
   "cell_type": "code",
   "execution_count": null,
   "id": "290651f7",
   "metadata": {},
   "outputs": [],
   "source": [
    "# Create a barplot with each Region shown as a different color\n",
    "sns.barplot(data=df,\n",
    "            y='Award_Amount',\n",
    "            x='Model Selected',\n",
    "            hue='Region')\n",
    "\n",
    "plt.show()\n",
    "plt.clf()"
   ]
  },
  {
   "cell_type": "markdown",
   "id": "3184a1b4",
   "metadata": {},
   "source": [
    "# Regression and residual plots\n",
    "Linear regression is a useful tool for understanding the relationship between numerical variables. Seaborn has simple but powerful tools for examining these relationships.\n",
    "\n",
    "For these exercises, we will look at some details from the US Department of Education on 4 year college tuition information and see if there are any interesting insights into which variables might help predict tuition costs.\n",
    "\n",
    "For these exercises, all data is loaded in the df variable."
   ]
  },
  {
   "cell_type": "code",
   "execution_count": null,
   "id": "4db9154a",
   "metadata": {},
   "outputs": [],
   "source": [
    "# Display a regression plot for Tuition\n",
    "sns.regplot(data=df,\n",
    "            y='Tuition',\n",
    "            x=\"SAT_AVG_ALL\",\n",
    "            marker='^',\n",
    "            color='g')\n",
    "\n",
    "plt.show()\n",
    "plt.clf()\n"
   ]
  },
  {
   "cell_type": "code",
   "execution_count": null,
   "id": "68e39376",
   "metadata": {},
   "outputs": [],
   "source": [
    "# Display the residual plot\n",
    "sns.residplot(data=df,\n",
    "              y='Tuition',\n",
    "              x=\"SAT_AVG_ALL\",\n",
    "              color='g')\n",
    "\n",
    "plt.show()\n",
    "plt.clf()"
   ]
  },
  {
   "cell_type": "markdown",
   "id": "f7321edf",
   "metadata": {},
   "source": [
    "# Regression plot parameters\n",
    "Seaborn's regression plot supports several parameters that can be used to configure the plots and drive more insight into the data.\n",
    "\n",
    "For the next exercise, we can look at the relationship between tuition and the percent of students that receive Pell grants. A Pell grant is based on student financial need and subsidized by the US Government. In this data set, each University has some percentage of students that receive these grants. Since this data is continuous, using x_bins can be useful to break the percentages into categories in order to summarize and understand the data."
   ]
  },
  {
   "cell_type": "code",
   "execution_count": null,
   "id": "88c5c050",
   "metadata": {},
   "outputs": [],
   "source": [
    "\"\"\"Plot a regression plot of Tuition and PCTPELL.\"\"\"\n",
    "# Plot a regression plot of Tuition and the Percentage of Pell Grants\n",
    "sns.regplot(data=df,\n",
    "            y='Tuition',\n",
    "            x=\"PCTPELL\")\n",
    "\n",
    "plt.show()\n",
    "plt.clf()"
   ]
  },
  {
   "cell_type": "code",
   "execution_count": null,
   "id": "e88a5330",
   "metadata": {},
   "outputs": [],
   "source": [
    "\"\"\"Create another plot that breaks the PCTPELL column into 5 different bins.\"\"\"\n",
    "# Create another plot that estimates the tuition by region\n",
    "sns.regplot(data=df,\n",
    "            y='Tuition',\n",
    "            x=\"PCTPELL\",\n",
    "            x_bins=5)\n",
    "\n",
    "plt.show()\n",
    "plt.clf()\n"
   ]
  },
  {
   "cell_type": "code",
   "execution_count": null,
   "id": "d3d096b0",
   "metadata": {},
   "outputs": [],
   "source": [
    "\"\"\"Create a final regression plot that includes a 2nd order polynomial regression line.\"\"\"\n",
    "# The final plot should include a line using a 2nd order polynomial\n",
    "sns.regplot(data=df,\n",
    "            y='Tuition',\n",
    "            x=\"PCTPELL\",\n",
    "            x_bins=5,\n",
    "            order=2)\n",
    "\n",
    "plt.show()\n",
    "plt.clf()"
   ]
  },
  {
   "cell_type": "markdown",
   "id": "46ecbee2",
   "metadata": {},
   "source": [
    "# Binning data\n",
    "When the data on the x axis is a continuous value, it can be useful to break it into different bins in order to get a better visualization of the changes in the data.\n",
    "\n",
    "For this exercise, we will look at the relationship between tuition and the Undergraduate population abbreviated as UG in this data. We will start by looking at a scatter plot of the data and examining the impact of different bin sizes on the visualization."
   ]
  },
  {
   "cell_type": "code",
   "execution_count": null,
   "id": "fa70ef9b",
   "metadata": {},
   "outputs": [],
   "source": [
    "\"\"\"Create a regplot of Tuition and UG and set the fit_reg parameter to False to disable the regression line.\n",
    "\"\"\"\n",
    "# Create a scatter plot by disabling the regression line\n",
    "sns.regplot(data=df,\n",
    "            y='Tuition',\n",
    "            x=\"UG\",\n",
    "            fit_reg=False)\n",
    "\n",
    "plt.show()\n",
    "plt.clf()\n"
   ]
  },
  {
   "cell_type": "code",
   "execution_count": null,
   "id": "eff794bf",
   "metadata": {},
   "outputs": [],
   "source": [
    "\"\"\"Create another plot with the UG data divided into 5 bins.\"\"\"\n",
    "# Create a scatter plot and bin the data into 5 bins\n",
    "sns.regplot(data=df,\n",
    "            y='Tuition',\n",
    "            x=\"UG\",\n",
    "            x_bins=5)\n",
    "\n",
    "plt.show()\n",
    "plt.clf()"
   ]
  },
  {
   "cell_type": "code",
   "execution_count": null,
   "id": "54cb3597",
   "metadata": {},
   "outputs": [],
   "source": [
    "\"\"\"Create a regplot() with the data divided into 8 bins.\"\"\"\n",
    "# Create a regplot and bin the data into 8 bins\n",
    "sns.regplot(data=df,\n",
    "            y='Tuition',\n",
    "            x=\"UG\",\n",
    "            x_bins=8)\n",
    "\n",
    "plt.show()\n",
    "plt.clf()"
   ]
  },
  {
   "cell_type": "markdown",
   "id": "c85c30e9",
   "metadata": {},
   "source": [
    "# Creating heatmaps\n",
    "A heatmap is a common matrix plot that can be used to graphically summarize the relationship between two variables. For this exercise, we will start by looking at guests of the Daily Show from 1999 - 2015 and see how the occupations of the guests have changed over time.\n",
    "\n",
    "The data includes the date of each guest appearance as well as their occupation. For the first exercise, we need to get the data into the right format for Seaborn's heatmap function to correctly plot the data. All of the data has already been read into the df variable."
   ]
  },
  {
   "cell_type": "code",
   "execution_count": null,
   "id": "2f1293ba",
   "metadata": {},
   "outputs": [],
   "source": [
    "\"\"\"Use pandas' crosstab() function to build a table of visits by Group and Year.\n",
    "Print the pd_crosstab DataFrame.\n",
    "Plot the data using Seaborn's heatmap().\"\"\"\n",
    "# Create a crosstab table of the data and print it\n",
    "pd_crosstab = pd.crosstab(df[\"Group\"], df[\"YEAR\"])\n",
    "print(pd_crosstab)\n",
    "\n",
    "# Plot a heatmap of the table\n",
    "sns.heatmap(pd_crosstab)\n",
    "\n",
    "# Rotate tick marks for visibility\n",
    "plt.yticks(rotation=0)\n",
    "plt.xticks(rotation=90)\n",
    "\n",
    "plt.show()"
   ]
  },
  {
   "cell_type": "markdown",
   "id": "9a607ae9",
   "metadata": {},
   "source": [
    "# Customizing heatmaps\n",
    "Seaborn supports several types of additional customizations to improve the output of a heatmap. For this exercise, we will continue to use the Daily Show data that is stored in the df variable but we will customize the output."
   ]
  },
  {
   "cell_type": "code",
   "execution_count": null,
   "id": "77173701",
   "metadata": {},
   "outputs": [],
   "source": [
    "\"\"\"Create a crosstab table of Group and YEAR\n",
    "Create a heatmap of the data using the BuGn palette\n",
    "Disable the cbar and increase the linewidth to 0.3\"\"\"\n",
    "# Create the crosstab DataFrame\n",
    "pd_crosstab = pd.crosstab(df[\"Group\"], df[\"YEAR\"])\n",
    "\n",
    "# Plot a heatmap of the table\n",
    "sns.heatmap(pd_crosstab, cbar=False, cmap=\"BuGn\", linewidths=.3)\n",
    "\n",
    "# Rotate tick marks for visibility\n",
    "plt.yticks(rotation=0)\n",
    "plt.xticks(rotation=90)\n",
    "\n",
    "# Show the plot\n",
    "plt.show()\n",
    "plt.clf()"
   ]
  },
  {
   "cell_type": "markdown",
   "id": "fd9d1b25",
   "metadata": {},
   "source": [
    "# Building a FacetGrid\n",
    "Seaborn's FacetGrid is the foundation for building data-aware grids. A data-aware grid allows you to create a series of small plots that can be useful for understanding complex data relationships.\n",
    "\n",
    "For these exercises, we will continue to look at the College Scorecard Data from the US Department of Education. This rich dataset has many interesting data elements that we can plot with Seaborn.\n",
    "\n",
    "When building a FacetGrid, there are two steps:\n",
    "\n",
    ". Create a FacetGrid object with columns, rows, or hue.\n",
    "\n",
    ". Map individual plots to the grid."
   ]
  },
  {
   "cell_type": "code",
   "execution_count": null,
   "id": "36877159",
   "metadata": {},
   "outputs": [],
   "source": [
    "\"\"\"Create a FacetGrid that shows a point plot of the Average SAT scores AVG_SAT_ALL.\n",
    "Use row_order to control the display order of the degree types.\n",
    "\"\"\"\n",
    "# Create FacetGrid with Degree_Type and specify the order of the rows using row_order\n",
    "g2 = sns.FacetGrid(df,\n",
    "                   row=\"Degree_Type\",\n",
    "                   row_order=['Graduate', 'Bachelors', 'Associates', 'Certificate'])\n",
    "\n",
    "# Map a pointplot of SAT_AVG_ALL onto the grid\n",
    "g2.map(sns.pointplot, 'SAT_AVG_ALL')\n",
    "\n",
    "# Show the plot\n",
    "plt.show()\n",
    "plt.clf()"
   ]
  },
  {
   "cell_type": "markdown",
   "id": "e5a0ec6a",
   "metadata": {},
   "source": [
    "# Using a factorplot\n",
    "In many cases, Seaborn's factorplot() can be a simpler way to create a FacetGrid. Instead of creating a grid and mapping the plot, we can use the factorplot() to create a plot with one line of code.\n",
    "\n",
    "For this exercise, we will recreate one of the plots from the previous exercise using factorplot() and show how to create a boxplot on a data-aware grid."
   ]
  },
  {
   "cell_type": "code",
   "execution_count": null,
   "id": "acf9c648",
   "metadata": {},
   "outputs": [],
   "source": [
    "\"\"\"Create a factorplot() that contains a boxplot (box) of Tuition values varying by Degree_Type across rows.\n",
    "\"\"\"\n",
    "# Create a factor plot that contains boxplots of Tuition values\n",
    "sns.factorplot(data=df,\n",
    "               x='Tuition',\n",
    "               kind='box',\n",
    "               row='Degree_Type')\n",
    "\n",
    "plt.show()\n",
    "plt.clf()"
   ]
  },
  {
   "cell_type": "code",
   "execution_count": null,
   "id": "600ae0e9",
   "metadata": {},
   "outputs": [],
   "source": [
    "\"\"\"Create a factorplot() of SAT Averages (SAT_AVG_ALL) facetted across Degree_Type that shows a pointplot (point).\n",
    "\"\"\"\n",
    "# Create a facetted pointplot of Average SAT scores facetted by Degree Type \n",
    "sns.factorplot(data=df,\n",
    "               x='SAT_AVG_ALL',\n",
    "               kind='point',\n",
    "               row='Degree_Type',\n",
    "               row_order=['Graduate', 'Bachelors', 'Associates', 'Certificate'])\n",
    "\n",
    "plt.show()\n",
    "plt.clf()"
   ]
  },
  {
   "cell_type": "markdown",
   "id": "04e48b41",
   "metadata": {},
   "source": [
    "# Using a lmplot\n",
    "The lmplot is used to plot scatter plots with regression lines on FacetGrid objects. The API is similar to factorplot with the difference that the default behavior of lmplot is to plot regression lines.\n",
    "\n",
    "For the first set of exercises, we will look at the Undergraduate population (UG) and compare it to the percentage of students receiving Pell Grants (PCTPELL).\n",
    "\n",
    "For the second lmplot exercise, we can look at the relationships between Average SAT scores and Tuition across the different degree types and public vs. non-profit schools."
   ]
  },
  {
   "cell_type": "code",
   "execution_count": null,
   "id": "42e3de17",
   "metadata": {},
   "outputs": [],
   "source": [
    "\"\"\"Create a FacetGrid() with \"Degree_Type\" columns and scatter plot of \"UG\" and \"PCTPELL\".\"\"\"\n",
    "# Create a FacetGrid varying by column and columns ordered with the degree_order variable\n",
    "g = sns.FacetGrid(df, col=\"Degree_Type\", col_order=degree_ord)\n",
    "\n",
    "# Map a scatter plot of Undergrad Population compared to PCTPELL\n",
    "g.map(plt.scatter, 'UG', 'PCTPELL')\n",
    "\n",
    "plt.show()\n",
    "plt.clf()"
   ]
  },
  {
   "cell_type": "code",
   "execution_count": null,
   "id": "8a620a47",
   "metadata": {},
   "outputs": [],
   "source": [
    "\"\"\"\n",
    "Create a lmplot() using the same values from the FacetGrid()\"\"\"\n",
    "# Re-create the plot above as an lmplot\n",
    "sns.lmplot(data=df,\n",
    "           x='UG',\n",
    "           y='PCTPELL',\n",
    "           col=\"Degree_Type\",\n",
    "           col_order=degree_ord)\n",
    "\n",
    "plt.show()\n",
    "plt.clf()"
   ]
  },
  {
   "cell_type": "code",
   "execution_count": null,
   "id": "972f2bfa",
   "metadata": {},
   "outputs": [],
   "source": [
    "\"\"\"\n",
    "Create a facetted lmplot() comparing \"SATAVGALL\" to \"Tuition\" with columns varying by \"Ownership\" and rows by \"Degree_Type\".\n",
    "In the lmplot() add a hue for Women Only Universities.\n",
    "\"\"\"\n",
    "# Create an lmplot that has a column for Ownership, a row for Degree_Type\n",
    "# and hue based on the WOMENONLY column and columns defined by inst_order\n",
    "sns.lmplot(data=df,\n",
    "           x='SAT_AVG_ALL',\n",
    "           y='Tuition',\n",
    "           col=\"Ownership\",\n",
    "           row='Degree_Type', \n",
    "           row_order=['Graduate', 'Bachelors'],\n",
    "           hue='WOMENONLY',\n",
    "           col_order=inst_ord)\n",
    "\n",
    "plt.show()\n",
    "plt.clf()"
   ]
  },
  {
   "cell_type": "markdown",
   "id": "bc0d6b32",
   "metadata": {},
   "source": [
    "# Building a PairGrid\n",
    "When exploring a dataset, one of the earliest tasks is exploring the relationship between pairs of variables. This step is normally a precursor to additional investigation.\n",
    "\n",
    "Seaborn supports this pair-wise analysis using the PairGrid. In this exercise, we will look at the Car Insurance Premium data we analyzed in Chapter 1. All data is available in the df variable."
   ]
  },
  {
   "cell_type": "code",
   "execution_count": null,
   "id": "e3335b77",
   "metadata": {},
   "outputs": [],
   "source": [
    "\"\"\"Compare \"fatal_collisions\" to \"premiums\" by using a scatter plot mapped to a PairGrid().\"\"\"\n",
    "# Create a PairGrid with a scatter plot for fatal_collisions and premiums\n",
    "g = sns.PairGrid(df, vars=[\"fatal_collisions\", \"premiums\"])\n",
    "g2 = g.map(plt.scatter)\n",
    "\n",
    "plt.show()\n",
    "plt.clf()\n"
   ]
  },
  {
   "cell_type": "code",
   "execution_count": null,
   "id": "d83da427",
   "metadata": {},
   "outputs": [],
   "source": [
    "\"\"\"\n",
    "Create another PairGrid but plot a histogram on the diagonal and scatter plot on the off diagonal.\n",
    "\"\"\"\n",
    "# Create the same PairGrid but map a histogram on the diag\n",
    "g = sns.PairGrid(df, vars=[\"fatal_collisions\", \"premiums\"])\n",
    "g2 = g.map_diag(plt.hist)\n",
    "g3 = g2.map_offdiag(plt.scatter)\n",
    "\n",
    "plt.show()\n",
    "plt.clf()\n"
   ]
  },
  {
   "cell_type": "markdown",
   "id": "cd6635eb",
   "metadata": {},
   "source": [
    "# Using a pairplot\n",
    "The pairplot() function is generally a more convenient way to look at pairwise relationships. In this exercise, we will create the same results as the PairGrid using less code. Then, we will explore some additional functionality of the pairplot(). We will also use a different palette and adjust the transparency of the diagonal plots using the alpha parameter."
   ]
  },
  {
   "cell_type": "code",
   "execution_count": null,
   "id": "3c181f03",
   "metadata": {},
   "outputs": [],
   "source": [
    "\"\"\"Recreate the pairwise plot from the previous exercise using pairplot().\"\"\"\n",
    "# Create a pairwise plot of the variables using a scatter plot\n",
    "sns.pairplot(data=df,\n",
    "             vars=[\"fatal_collisions\", \"premiums\"],\n",
    "             kind='scatter')\n",
    "\n",
    "plt.show()\n",
    "plt.clf()"
   ]
  },
  {
   "cell_type": "code",
   "execution_count": null,
   "id": "8ab936f6",
   "metadata": {},
   "outputs": [],
   "source": [
    "\"\"\"\n",
    "Create another pairplot using the \"Region\" to color code the results.\n",
    "Use the RdBu palette to change the colors of the plot\"\"\"\n",
    "# Plot the same data but use a different color palette and color code by Region\n",
    "sns.pairplot(data=df,\n",
    "             vars=[\"fatal_collisions\", \"premiums\"],\n",
    "             kind='scatter',\n",
    "             hue='Region',\n",
    "             palette='RdBu',\n",
    "             diag_kws={'alpha':.5})\n",
    "\n",
    "plt.show()\n",
    "plt.clf()"
   ]
  },
  {
   "cell_type": "markdown",
   "id": "7cce345c",
   "metadata": {},
   "source": [
    "# Additional pairplots\n",
    "This exercise will go through a couple of more examples of how the pairplot() can be customized for quickly analyzing data and determining areas of interest that might be worthy of additional analysis.\n",
    "\n",
    "One area of customization that is useful is to explicitly define the x_vars and y_vars that you wish to examine. Instead of examining all pairwise relationships, this capability allows you to look only at the specific interactions that may be of interest.\n",
    "\n",
    "We have already looked at using kind to control the types of plots. We can also use diag_kind to control the types of plots shown on the diagonals. In the final example, we will include a regression and kde plot in the pairplot."
   ]
  },
  {
   "cell_type": "code",
   "execution_count": null,
   "id": "2e239dba",
   "metadata": {},
   "outputs": [],
   "source": [
    "\"\"\"Create a pair plot that examines fatal_collisions_speeding and fatal_collisions_alc on the x axis and premiums and insurance_losses on the y axis.\n",
    "Use the husl palette and color code the scatter plot by Region.\"\"\"\n",
    "# Build a pairplot with different x and y variables\n",
    "sns.pairplot(data=df,\n",
    "             x_vars=[\"fatal_collisions_speeding\", \"fatal_collisions_alc\"],\n",
    "             y_vars=['premiums', 'insurance_losses'],\n",
    "             kind='scatter',\n",
    "             hue='Region',\n",
    "             palette='husl')\n",
    "\n",
    "plt.show()\n",
    "plt.clf()"
   ]
  },
  {
   "cell_type": "code",
   "execution_count": null,
   "id": "0e6582b4",
   "metadata": {},
   "outputs": [],
   "source": [
    "\"\"\"\n",
    "Build a pairplot() with kde plots along the diagonals. Include the insurance_losses and premiums as the variables.\n",
    "Use a reg plot for the the non-diagonal plots.\n",
    "Use the BrBG palette for the final plot.\"\"\"\n",
    "# plot relationships between insurance_losses and premiums\n",
    "sns.pairplot(data=df,\n",
    "             vars=[\"insurance_losses\", \"premiums\"],\n",
    "             kind='reg',\n",
    "             palette='BrBG',\n",
    "             diag_kind = 'kde',\n",
    "             hue='Region')\n",
    "\n",
    "plt.show()\n",
    "plt.clf()"
   ]
  },
  {
   "cell_type": "markdown",
   "id": "be80661b",
   "metadata": {},
   "source": [
    "# Building a JointGrid and jointplot\n",
    "Seaborn's JointGrid combines univariate plots such as histograms, rug plots and kde plots with bivariate plots such as scatter and regression plots. The process for creating these plots should be familiar to you now. These plots also demonstrate how Seaborn provides convenient functions to combine multiple plots together.\n",
    "\n",
    "For these exercises, we will use the bike share data that we reviewed earlier. In this exercise, we will look at the relationship between humidity levels and total rentals to see if there is an interesting relationship we might want to explore later."
   ]
  },
  {
   "cell_type": "code",
   "execution_count": null,
   "id": "ecc375b8",
   "metadata": {},
   "outputs": [],
   "source": [
    "\"\"\"Use Seaborn's \"whitegrid\" style for these plots.\n",
    "Create a JointGrid() with \"hum\" on the x-axis and \"total_rentals\" on the y.\n",
    "Plot a regplot() and distplot() on the margins.\"\"\"\n",
    "# Build a JointGrid comparing humidity and total_rentals\n",
    "sns.set_style(\"whitegrid\")\n",
    "g = sns.JointGrid(x=\"hum\",\n",
    "                  y=\"total_rentals\",\n",
    "                  data=df,\n",
    "                  xlim=(0.1, 1.0))\n",
    "\n",
    "g.plot(sns.regplot, sns.distplot)\n",
    "\n",
    "plt.show()\n",
    "plt.clf()"
   ]
  },
  {
   "cell_type": "code",
   "execution_count": null,
   "id": "8858f2e8",
   "metadata": {},
   "outputs": [],
   "source": [
    "\"\"\"Re-create the plot using a jointplot().\"\"\"\n",
    "# Create a jointplot similar to the JointGrid\n",
    "sns.jointplot(x=\"hum\",\n",
    "              y=\"total_rentals\",\n",
    "              kind='reg',\n",
    "              data=df)\n",
    "\n",
    "plt.show()\n",
    "plt.clf()\n"
   ]
  },
  {
   "cell_type": "markdown",
   "id": "4053055d",
   "metadata": {},
   "source": [
    "# Jointplots and regression\n",
    "Since the previous plot does not show a relationship between humidity and rental amounts, we can look at another variable that we reviewed earlier. Specifically, the relationship between temp and total_rentals."
   ]
  },
  {
   "cell_type": "code",
   "execution_count": null,
   "id": "710f5f50",
   "metadata": {},
   "outputs": [],
   "source": [
    "\"\"\"Create a jointplot with a 2nd order polynomial regression plot comparing temp and total_rentals.\"\"\"\n",
    "# Plot temp vs. total_rentals as a regression plot\n",
    "sns.jointplot(x=\"temp\",\n",
    "              y=\"total_rentals\",\n",
    "              kind='reg',\n",
    "              data=df,\n",
    "              order=2,\n",
    "              xlim=(0, 1))\n",
    "\n",
    "plt.show()\n",
    "plt.clf()"
   ]
  },
  {
   "cell_type": "code",
   "execution_count": null,
   "id": "c57a6a8b",
   "metadata": {},
   "outputs": [],
   "source": [
    "\"\"\"Use a residual plot to check the appropriateness of the model.\"\"\"\n",
    "# Plot a jointplot showing the residuals\n",
    "sns.jointplot(x=\"temp\",\n",
    "              y=\"total_rentals\",\n",
    "              kind='resid',\n",
    "              data=df,\n",
    "              order=2)\n",
    "\n",
    "plt.show()\n",
    "plt.clf()"
   ]
  },
  {
   "cell_type": "markdown",
   "id": "ea418607",
   "metadata": {},
   "source": [
    "# Complex jointplots\n",
    "The jointplot is a convenience wrapper around many of the JointGrid functions. However, it is possible to overlay some of the JointGrid plots on top of the standard jointplot. In this example, we can look at the different distributions for riders that are considered casual versus those that are registered."
   ]
  },
  {
   "cell_type": "code",
   "execution_count": null,
   "id": "7814b3db",
   "metadata": {},
   "outputs": [],
   "source": [
    "\"\"\"Create a jointplot with a scatter plot comparing temp and casual riders.\n",
    "Overlay a kdeplot on top of the scatter plot.\"\"\"\n",
    "# Create a jointplot of temp vs. casual riders\n",
    "# Include a kdeplot over the scatter plot\n",
    "g = (sns.jointplot(x=\"temp\",\n",
    "                   y=\"casual\",\n",
    "                   kind='scatter',\n",
    "                   data=df,\n",
    "                   marginal_kws=dict(bins=10, rug=True))\n",
    "    .plot_joint(sns.kdeplot))\n",
    "\n",
    "plt.show()\n",
    "plt.clf()\n"
   ]
  },
  {
   "cell_type": "code",
   "execution_count": null,
   "id": "be20c90c",
   "metadata": {},
   "outputs": [],
   "source": []
  }
 ],
 "metadata": {
  "kernelspec": {
   "display_name": "Python 3",
   "language": "python",
   "name": "python3"
  },
  "language_info": {
   "codemirror_mode": {
    "name": "ipython",
    "version": 3
   },
   "file_extension": ".py",
   "mimetype": "text/x-python",
   "name": "python",
   "nbconvert_exporter": "python",
   "pygments_lexer": "ipython3",
   "version": "3.8.11"
  }
 },
 "nbformat": 4,
 "nbformat_minor": 5
}
