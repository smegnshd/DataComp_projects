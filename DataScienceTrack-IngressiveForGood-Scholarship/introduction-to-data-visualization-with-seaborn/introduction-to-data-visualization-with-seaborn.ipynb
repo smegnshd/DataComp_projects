{
 "cells": [
  {
   "cell_type": "markdown",
   "id": "c0d69d0d",
   "metadata": {},
   "source": [
    "# Making a scatter plot with lists\n",
    "In this exercise, we'll use a dataset that contains information about 227 countries. This dataset has lots of interesting information on each country, such as the country's birth rates, death rates, and its gross domestic product (GDP). GDP is the value of all the goods and services produced in a year, expressed as dollars per person.\n",
    "\n",
    "We've created three lists of data from this dataset to get you started. gdp is a list that contains the value of GDP per country, expressed as dollars per person. phones is a list of the number of mobile phones per 1,000 people in that country. Finally, percent_literate is a list that contains the percent of each country's population that can read and write."
   ]
  },
  {
   "cell_type": "code",
   "execution_count": null,
   "id": "77926618",
   "metadata": {},
   "outputs": [],
   "source": [
    "# Import Matplotlib and Seaborn\n",
    "import matplotlib.pyplot as plt\n",
    "import seaborn as sns\n",
    "\n",
    "\"\"\"Create a scatter plot of GDP (gdp) vs. number of phones per 1000 people (phones).\"\"\"\n",
    "# Import Matplotlib and Seaborn\n",
    "import matplotlib.pyplot as plt\n",
    "import seaborn as sns\n",
    "\n",
    "# Create scatter plot with GDP on the x-axis and number of phones on the y-axis\n",
    "sns.scatterplot(x=gdp, y=phones)\n",
    "\n",
    "\"\"\"Display the plot.\"\"\"\n",
    "# Import Matplotlib and Seaborn\n",
    "import matplotlib.pyplot as plt\n",
    "import seaborn as sns\n",
    "\n",
    "# Create scatter plot with GDP on the x-axis and number of phones on the y-axis\n",
    "sns.scatterplot(x=gdp, y=phones)\n",
    "\n",
    "# Show plot\n",
    "plt.show()\n",
    "\n",
    "\"\"\"Change the scatter plot so it displays the percent of the population that can read and write (percent_literate) on the y-axis.\"\"\"\n",
    "# Import Matplotlib and Seaborn\n",
    "import matplotlib.pyplot as plt\n",
    "import seaborn as sns\n",
    "\n",
    "# Change this scatter plot to have percent literate on the y-axis\n",
    "sns.scatterplot(x=gdp, y=percent_literate)\n",
    "\n",
    "# Show plot\n",
    "plt.show()"
   ]
  },
  {
   "cell_type": "markdown",
   "id": "e963f27b",
   "metadata": {},
   "source": [
    "# Making a count plot with a list\n",
    "In the last exercise, we explored a dataset that contains information about 227 countries. Let's do more exploration of this data - specifically, how many countries are in each region of the world?\n",
    "\n",
    "To do this, we'll need to use a count plot. Count plots take in a categorical list and return bars that represent the number of list entries per category. You can create one here using a list of regions for each country, which is a variable named region."
   ]
  },
  {
   "cell_type": "code",
   "execution_count": null,
   "id": "d5e84625",
   "metadata": {},
   "outputs": [],
   "source": [
    "# Import Matplotlib and Seaborn\n",
    "import matplotlib.pyplot as plt\n",
    "import seaborn as sns\n",
    "\n",
    "# Create count plot with region on the y-axis\n",
    "sns.countplot(y=region)\n",
    "\n",
    "# Show plot\n",
    "plt.show()"
   ]
  },
  {
   "cell_type": "markdown",
   "id": "680aef81",
   "metadata": {},
   "source": [
    "# \"Tidy\" vs. \"untidy\" data\n",
    "Here, we have a sample dataset from a survey of children about their favorite animals. But can we use this dataset as-is with Seaborn? Let's use Pandas to import the csv file with the data collected from the survey and determine whether it is tidy, which is essential to having it work well with Seaborn.\n",
    "\n",
    "To get you started, the filepath to the csv file has been assigned to the variable csv_filepath.\n",
    "\n",
    "Note that because csv_filepath is a Python variable, you will not need to put quotation marks around it when you read the csv."
   ]
  },
  {
   "cell_type": "code",
   "execution_count": null,
   "id": "f756bd3b",
   "metadata": {},
   "outputs": [],
   "source": [
    "# Import pandas\n",
    "import pandas as pd\n",
    "\n",
    "# Create a DataFrame from csv file\n",
    "df = pd.read_csv(csv_filepath)\n",
    "\n",
    "# Print the head of df\n",
    "print(df.head())"
   ]
  },
  {
   "cell_type": "code",
   "execution_count": null,
   "id": "3bf4418d",
   "metadata": {},
   "outputs": [],
   "source": [
    "# View the first five rows of the DataFrame df. Is it tidy? Why or why not?\n",
    "\n",
    "# Possible Answers\n",
    "# Yes, because there are no typos or missing values.\n",
    "# Yes, because it is well organized and easy to read.\n",
    "# No, because a single column contains different types of information.\n",
    "\n",
    "\n",
    "\"\"\"ANSWER\n",
    " No, because a single column contains different types of information.\"\"\""
   ]
  },
  {
   "cell_type": "markdown",
   "id": "995eabc9",
   "metadata": {},
   "source": [
    "# Making a count plot with a DataFrame\n",
    "In this exercise, we'll look at the responses to a survey sent out to young people. Our primary question here is: how many young people surveyed report being scared of spiders? Survey participants were asked to agree or disagree with the statement \"I am afraid of spiders\". Responses vary from 1 to 5, where 1 is \"Strongly disagree\" and 5 is \"Strongly agree\".\n",
    "\n",
    "To get you started, the filepath to the csv file with the survey data has been assigned to the variable csv_filepath.\n",
    "\n",
    "Note that because csv_filepath is a Python variable, you will not need to put quotation marks around it when you read the csv."
   ]
  },
  {
   "cell_type": "code",
   "execution_count": null,
   "id": "ed8e256b",
   "metadata": {},
   "outputs": [],
   "source": [
    "# Import Matplotlib, Pandas, and Seaborn\n",
    "import matplotlib.pyplot as plt\n",
    "import pandas as pd\n",
    "import seaborn as sns\n",
    "\n",
    "# Create a DataFrame from csv file\n",
    "df = pd.read_csv(csv_filepath)\n",
    "\n",
    "# Create a count plot with \"Spiders\" on the x-axis\n",
    "sns.countplot(x=\"Spiders\", data=df)\n",
    "\n",
    "# Display the plot\n",
    "plt.show()"
   ]
  },
  {
   "cell_type": "markdown",
   "id": "9a36a264",
   "metadata": {},
   "source": [
    "# Hue and scatter plots\n",
    "In the prior video, we learned how hue allows us to easily make subgroups within Seaborn plots. Let's try it out by exploring data from students in secondary school. We have a lot of information about each student like their age, where they live, their study habits and their extracurricular activities.\n",
    "\n",
    "For now, we'll look at the relationship between the number of absences they have in school and their final grade in the course, segmented by where the student lives (rural vs. urban area)."
   ]
  },
  {
   "cell_type": "code",
   "execution_count": null,
   "id": "21cf9eda",
   "metadata": {},
   "outputs": [],
   "source": [
    "# Import Matplotlib and Seaborn\n",
    "import matplotlib.pyplot as plt\n",
    "import seaborn as sns\n",
    "\n",
    "# Create a scatter plot of absences vs. final grade\n",
    "sns.scatterplot(x=\"absences\", y=\"G3\", \n",
    "                data=student_data, \n",
    "                hue=\"location\")\n",
    "\n",
    "# Show plot\n",
    "plt.show()"
   ]
  },
  {
   "cell_type": "code",
   "execution_count": null,
   "id": "060cb3e2",
   "metadata": {},
   "outputs": [],
   "source": [
    "# Import Matplotlib and Seaborn\n",
    "import matplotlib.pyplot as plt\n",
    "import seaborn as sns\n",
    "\n",
    "# Change the legend order in the scatter plot\n",
    "sns.scatterplot(x=\"absences\", y=\"G3\", \n",
    "                data=student_data, \n",
    "                hue=\"location\",\n",
    "                hue_order=[\"Rural\", \"Urban\"])\n",
    "\n",
    "# Show plot\n",
    "plt.show()"
   ]
  },
  {
   "cell_type": "markdown",
   "id": "70712e7a",
   "metadata": {},
   "source": [
    "# Hue and count plots\n",
    "Let's continue exploring our dataset from students in secondary school by looking at a new variable. The \"school\" column indicates the initials of which school the student attended - either \"GP\" or \"MS\".\n",
    "\n",
    "In the last exercise, we created a scatter plot where the plot points were colored based on whether the student lived in an urban or rural area. How many students live in urban vs. rural areas, and does this vary based on what school the student attends? Let's make a count plot with subgroups to find out."
   ]
  },
  {
   "cell_type": "code",
   "execution_count": null,
   "id": "75e6c9c6",
   "metadata": {},
   "outputs": [],
   "source": [
    "# Import Matplotlib and Seaborn\n",
    "import matplotlib.pyplot as plt\n",
    "import seaborn as sns\n",
    "\n",
    "# Create a dictionary mapping subgroup values to colors\n",
    "palette_colors = {\"Rural\": \"green\", \"Urban\": \"blue\"}\n",
    "\n",
    "# Create a count plot of school with location subgroups\n",
    "sns.countplot(x=\"school\", data=student_data,\n",
    "              hue=\"location\",\n",
    "              palette=palette_colors)\n",
    "\n",
    "# Display plot\n",
    "plt.show()"
   ]
  },
  {
   "cell_type": "markdown",
   "id": "f1f4821a",
   "metadata": {},
   "source": [
    "# Creating subplots with col and row\n",
    "We've seen in prior exercises that students with more absences (\"absences\") tend to have lower final grades (\"G3\"). Does this relationship hold regardless of how much time students study each week?\n",
    "\n",
    "To answer this, we'll look at the relationship between the number of absences that a student has in school and their final grade in the course, creating separate subplots based on each student's weekly study time (\"study_time\").\n",
    "\n",
    "Seaborn has been imported as sns and matplotlib.pyplot has been imported as plt."
   ]
  },
  {
   "cell_type": "code",
   "execution_count": null,
   "id": "9bc88868",
   "metadata": {},
   "outputs": [],
   "source": [
    "# Change to use relplot() instead of scatterplot()\n",
    "sns.relplot(x=\"absences\", y=\"G3\", \n",
    "            data=student_data,\n",
    "            kind=\"scatter\")\n",
    "\n",
    "# Show plot\n",
    "plt.show()"
   ]
  },
  {
   "cell_type": "code",
   "execution_count": null,
   "id": "aaea96a4",
   "metadata": {},
   "outputs": [],
   "source": [
    "# Change to make subplots based on study time\n",
    "sns.relplot(x=\"absences\", y=\"G3\", \n",
    "            data=student_data,\n",
    "            kind=\"scatter\",\n",
    "            col=\"study_time\")\n",
    "\n",
    "# Show plot\n",
    "plt.show()"
   ]
  },
  {
   "cell_type": "code",
   "execution_count": null,
   "id": "c3760eee",
   "metadata": {},
   "outputs": [],
   "source": [
    "# Change this scatter plot to arrange the plots in rows instead of columns\n",
    "sns.relplot(x=\"absences\", y=\"G3\", \n",
    "            data=student_data,\n",
    "            kind=\"scatter\", \n",
    "            row=\"study_time\")\n",
    "\n",
    "# Show plot\n",
    "plt.show()\n"
   ]
  },
  {
   "cell_type": "markdown",
   "id": "172b13c8",
   "metadata": {},
   "source": [
    "# Creating two-factor subplots\n",
    "Let's continue looking at the student_data dataset of students in secondary school. Here, we want to answer the following question: does a student's first semester grade (\"G1\") tend to correlate with their final grade (\"G3\")?\n",
    "\n",
    "There are many aspects of a student's life that could result in a higher or lower final grade in the class. For example, some students receive extra educational support from their school (\"schoolsup\") or from their family (\"famsup\"), which could result in higher grades. Let's try to control for these two factors by creating subplots based on whether the student received extra educational support from their school or family."
   ]
  },
  {
   "cell_type": "code",
   "execution_count": null,
   "id": "f284ca8b",
   "metadata": {},
   "outputs": [],
   "source": [
    "# Create a scatter plot of G1 vs. G3\n",
    "sns.relplot(x=\"G1\", y=\"G3\", \n",
    "            data=student_data,\n",
    "            kind=\"scatter\")\n",
    "\n",
    "# Show plot\n",
    "plt.show()"
   ]
  },
  {
   "cell_type": "code",
   "execution_count": null,
   "id": "dd09e6df",
   "metadata": {},
   "outputs": [],
   "source": [
    "# Adjust to add subplots based on school support\n",
    "sns.relplot(x=\"G1\", y=\"G3\", \n",
    "            data=student_data,\n",
    "            kind=\"scatter\", \n",
    "            col=\"schoolsup\",\n",
    "            col_order=[\"yes\", \"no\"])\n",
    "\n",
    "# Show plot\n",
    "plt.show()\n"
   ]
  },
  {
   "cell_type": "code",
   "execution_count": null,
   "id": "2ef86563",
   "metadata": {},
   "outputs": [],
   "source": [
    "# Adjust further to add subplots based on family support\n",
    "sns.relplot(x=\"G1\", y=\"G3\", \n",
    "            data=student_data,\n",
    "            kind=\"scatter\", \n",
    "            col=\"schoolsup\",\n",
    "            col_order=[\"yes\", \"no\"],\n",
    "            row=\"famsup\",\n",
    "            row_order=[\"yes\", \"no\"])\n",
    "\n",
    "# Show plot\n",
    "plt.show()"
   ]
  },
  {
   "cell_type": "markdown",
   "id": "a8606de0",
   "metadata": {},
   "source": [
    "# Changing the size of scatter plot points\n",
    "In this exercise, we'll explore Seaborn's mpg dataset, which contains one row per car model and includes information such as the year the car was made, the number of miles per gallon (\"M.P.G.\") it achieves, the power of its engine (measured in \"horsepower\"), and its country of origin.\n",
    "\n",
    "What is the relationship between the power of a car's engine (\"horsepower\") and its fuel efficiency (\"mpg\")? And how does this relationship vary by the number of cylinders (\"cylinders\") the car has? Let's find out.\n",
    "\n",
    "Let's continue to use relplot() instead of scatterplot() since it offers more flexibility."
   ]
  },
  {
   "cell_type": "code",
   "execution_count": null,
   "id": "bb29ba29",
   "metadata": {},
   "outputs": [],
   "source": [
    "# Import Matplotlib and Seaborn\n",
    "import matplotlib.pyplot as plt\n",
    "import seaborn as sns\n",
    "\n",
    "# Create scatter plot of horsepower vs. mpg\n",
    "sns.relplot(x=\"horsepower\", y=\"mpg\", \n",
    "            data=mpg, kind=\"scatter\", \n",
    "            size=\"cylinders\")\n",
    "\n",
    "# Show plot\n",
    "plt.show()"
   ]
  },
  {
   "cell_type": "code",
   "execution_count": null,
   "id": "8ef29883",
   "metadata": {},
   "outputs": [],
   "source": [
    "# Import Matplotlib and Seaborn\n",
    "import matplotlib.pyplot as plt\n",
    "import seaborn as sns\n",
    "\n",
    "# Create scatter plot of horsepower vs. mpg\n",
    "sns.relplot(x=\"horsepower\", y=\"mpg\", \n",
    "            data=mpg, kind=\"scatter\", \n",
    "            size=\"cylinders\", hue=\"cylinders\")\n",
    "\n",
    "# Show plot\n",
    "plt.show()"
   ]
  },
  {
   "cell_type": "markdown",
   "id": "7f399e83",
   "metadata": {},
   "source": [
    "# Changing the style of scatter plot points\n",
    "Let's continue exploring Seaborn's mpg dataset by looking at the relationship between how fast a car can accelerate (\"acceleration\") and its fuel efficiency (\"mpg\"). Do these properties vary by country of origin (\"origin\")?\n",
    "\n",
    "Note that the \"acceleration\" variable is the time to accelerate from 0 to 60 miles per hour, in seconds. Higher values indicate slower acceleration."
   ]
  },
  {
   "cell_type": "code",
   "execution_count": null,
   "id": "6338806a",
   "metadata": {},
   "outputs": [],
   "source": [
    "# Import Matplotlib and Seaborn\n",
    "import matplotlib.pyplot as plt\n",
    "import seaborn as sns\n",
    "\n",
    "# Create a scatter plot of acceleration vs. mpg\n",
    "sns.relplot(x=\"acceleration\", y=\"mpg\", \n",
    "            data=mpg, kind=\"scatter\", \n",
    "            style=\"origin\", hue=\"origin\")\n",
    "\n",
    "# Show plot\n",
    "plt.show()"
   ]
  },
  {
   "cell_type": "markdown",
   "id": "23de8c16",
   "metadata": {},
   "source": [
    "# Interpreting line plots\n",
    "In this exercise, we'll continue to explore Seaborn's mpg dataset, which contains one row per car model and includes information such as the year the car was made, its fuel efficiency (measured in \"miles per gallon\" or \"M.P.G\"), and its country of origin (USA, Europe, or Japan).\n",
    "\n",
    "How has the average miles per gallon achieved by these cars changed over time? Let's use line plots to find out!"
   ]
  },
  {
   "cell_type": "code",
   "execution_count": null,
   "id": "218a1b21",
   "metadata": {},
   "outputs": [],
   "source": [
    "# Import Matplotlib and Seaborn\n",
    "import matplotlib.pyplot as plt\n",
    "import seaborn as sns\n",
    "\n",
    "# Create line plot\n",
    "sns.relplot(x=\"model_year\", y=\"mpg\",\n",
    "            data=mpg, kind=\"line\")\n",
    "\n",
    "# Show plot\n",
    "plt.show()"
   ]
  },
  {
   "cell_type": "code",
   "execution_count": null,
   "id": "51ea0706",
   "metadata": {},
   "outputs": [],
   "source": [
    "# Which of the following is NOT a correct interpretation of this line plot?\n",
    "\n",
    "# Possible Answers\n",
    "# The average miles per gallon has increased over time.\n",
    "# The distribution of miles per gallon is smaller in 1973 compared to 1977.\n",
    "# We can be 95% confident that the average miles per gallon for all cars in 1970 is between 16 and 20 miles per gallon.\n",
    "# This plot assumes that our data is a random sample of all cars in the US, Europe, and Japan.\n",
    "\n",
    "\"\"\"Answer\n",
    "The distribution of miles per gallon is smaller in 1973 compared to 1977.\"\"\""
   ]
  },
  {
   "cell_type": "markdown",
   "id": "937e3c4e",
   "metadata": {},
   "source": [
    "# Visualizing standard deviation with line plots\n",
    "In the last exercise, we looked at how the average miles per gallon achieved by cars has changed over time. Now let's use a line plot to visualize how the distribution of miles per gallon has changed over time.\n",
    "\n",
    "Seaborn has been imported as sns and matplotlib.pyplot has been imported as plt."
   ]
  },
  {
   "cell_type": "code",
   "execution_count": null,
   "id": "565c1704",
   "metadata": {},
   "outputs": [],
   "source": [
    "# Make the shaded area show the standard deviation\n",
    "sns.relplot(x=\"model_year\", y=\"mpg\",\n",
    "            data=mpg, kind=\"line\",\n",
    "            ci=\"sd\")\n",
    "\n",
    "\n",
    "# Show plot\n",
    "plt.show()"
   ]
  },
  {
   "cell_type": "markdown",
   "id": "47bca462",
   "metadata": {},
   "source": [
    "# Plotting subgroups in line plots\n",
    "Let's continue to look at the mpg dataset. We've seen that the average miles per gallon for cars has increased over time, but how has the average horsepower for cars changed over time? And does this trend differ by country of origin?"
   ]
  },
  {
   "cell_type": "code",
   "execution_count": null,
   "id": "d71f4c8a",
   "metadata": {},
   "outputs": [],
   "source": [
    "# Import Matplotlib and Seaborn\n",
    "import matplotlib.pyplot as plt\n",
    "import seaborn as sns\n",
    "\n",
    "# Create line plot of model year vs. horsepower\n",
    "sns.relplot(x=\"model_year\", y=\"horsepower\", \n",
    "            data=mpg, kind=\"line\", \n",
    "            ci=None)\n",
    "\n",
    "# Show plot\n",
    "plt.show()"
   ]
  },
  {
   "cell_type": "code",
   "execution_count": null,
   "id": "953afb8f",
   "metadata": {},
   "outputs": [],
   "source": [
    "# Import Matplotlib and Seaborn\n",
    "import matplotlib.pyplot as plt\n",
    "import seaborn as sns\n",
    "\n",
    "# Change to create subgroups for country of origin\n",
    "sns.relplot(x=\"model_year\", y=\"horsepower\", \n",
    "            data=mpg, kind=\"line\", \n",
    "            ci=None, style=\"origin\", \n",
    "            hue=\"origin\")\n",
    "\n",
    "# Show plot\n",
    "plt.show()"
   ]
  },
  {
   "cell_type": "code",
   "execution_count": null,
   "id": "a06cd58c",
   "metadata": {},
   "outputs": [],
   "source": [
    "# Import Matplotlib and Seaborn\n",
    "import matplotlib.pyplot as plt\n",
    "import seaborn as sns\n",
    "\n",
    "# Add markers and make each line have the same style\n",
    "sns.relplot(x=\"model_year\", y=\"horsepower\", \n",
    "            data=mpg, kind=\"line\", \n",
    "            ci=None, style=\"origin\", \n",
    "            hue=\"origin\", markers=True,\n",
    "            dashes=False)\n",
    "\n",
    "# Show plot\n",
    "plt.show()"
   ]
  },
  {
   "cell_type": "markdown",
   "id": "51b89f3e",
   "metadata": {},
   "source": [
    "# Count plots\n",
    "In this exercise, we'll return to exploring our dataset that contains the responses to a survey sent out to young people. We might suspect that young people spend a lot of time on the internet, but how much do they report using the internet each day? Let's use a count plot to break down the number of survey responses in each category and then explore whether it changes based on age.\n",
    "\n",
    "As a reminder, to create a count plot, we'll use the catplot() function and specify the name of the categorical variable to count (x=____), the Pandas DataFrame to use (data=____), and the type of plot (kind=\"count\")."
   ]
  },
  {
   "cell_type": "code",
   "execution_count": null,
   "id": "3728ee7f",
   "metadata": {},
   "outputs": [],
   "source": [
    "# Create count plot of internet usage\n",
    "sns.catplot(x=\"Internet usage\", data=survey_data,\n",
    "            kind=\"count\")\n",
    "\n",
    "# Show plot\n",
    "plt.show()"
   ]
  },
  {
   "cell_type": "code",
   "execution_count": null,
   "id": "07e305ad",
   "metadata": {},
   "outputs": [],
   "source": [
    "# Change the orientation of the plot\n",
    "sns.catplot(y=\"Internet usage\", data=survey_data,\n",
    "            kind=\"count\")\n",
    "\n",
    "# Show plot\n",
    "plt.show()"
   ]
  },
  {
   "cell_type": "code",
   "execution_count": null,
   "id": "580c82f9",
   "metadata": {},
   "outputs": [],
   "source": [
    "# Create column subplots based on age category\n",
    "sns.catplot(y=\"Internet usage\", data=survey_data,\n",
    "            kind=\"count\", col=\"Age Category\")\n",
    "\n",
    "# Show plot\n",
    "plt.show()"
   ]
  },
  {
   "cell_type": "markdown",
   "id": "c1f6e89e",
   "metadata": {},
   "source": [
    "# Bar plots with percentages\n",
    "Let's continue exploring the responses to a survey sent out to young people. The variable \"Interested in Math\" is True if the person reported being interested or very interested in mathematics, and False otherwise. What percentage of young people report being interested in math, and does this vary based on gender? Let's use a bar plot to find out.\n",
    "\n",
    "As a reminder, we'll create a bar plot using the catplot() function, providing the name of categorical variable to put on the x-axis (x=____), the name of the quantitative variable to summarize on the y-axis (y=____), the Pandas DataFrame to use (data=____), and the type of categorical plot (kind=\"bar\")."
   ]
  },
  {
   "cell_type": "code",
   "execution_count": null,
   "id": "da0d31f1",
   "metadata": {},
   "outputs": [],
   "source": [
    "# Create a bar plot of interest in math, separated by gender\n",
    "sns.catplot(x=\"Gender\", y=\"Interested in Math\",\n",
    "            data=survey_data, kind=\"bar\")\n",
    "\n",
    "# Show plot\n",
    "plt.show()"
   ]
  },
  {
   "cell_type": "markdown",
   "id": "699c06fe",
   "metadata": {},
   "source": [
    "# Customizing bar plots\n",
    "In this exercise, we'll explore data from students in secondary school. The \"study_time\" variable records each student's reported weekly study time as one of the following categories: \"<2 hours\", \"2 to 5 hours\", \"5 to 10 hours\", or \">10 hours\". Do students who report higher amounts of studying tend to get better final grades? Let's compare the average final grade among students in each category using a bar plot.\n",
    "\n",
    "Seaborn has been imported as sns and matplotlib.pyplot has been imported as plt."
   ]
  },
  {
   "cell_type": "code",
   "execution_count": null,
   "id": "d4c5aacb",
   "metadata": {},
   "outputs": [],
   "source": [
    "# Create bar plot of average final grade in each study category\n",
    "sns.catplot(x=\"study_time\", y=\"G3\",\n",
    "            data=student_data,\n",
    "            kind=\"bar\")\n",
    "\n",
    "# Show plot\n",
    "plt.show()"
   ]
  },
  {
   "cell_type": "code",
   "execution_count": null,
   "id": "4a83d5c5",
   "metadata": {},
   "outputs": [],
   "source": [
    "# Rearrange the categories\n",
    "sns.catplot(x=\"study_time\", y=\"G3\",\n",
    "            data=student_data,\n",
    "            kind=\"bar\",\n",
    "            order=[\"<2 hours\", \n",
    "                   \"2 to 5 hours\", \n",
    "                   \"5 to 10 hours\", \n",
    "                   \">10 hours\"])\n",
    "\n",
    "# Show plot\n",
    "plt.show()"
   ]
  },
  {
   "cell_type": "code",
   "execution_count": null,
   "id": "a962ccae",
   "metadata": {},
   "outputs": [],
   "source": [
    "# Turn off the confidence intervals\n",
    "sns.catplot(x=\"study_time\", y=\"G3\",\n",
    "            data=student_data,\n",
    "            kind=\"bar\",\n",
    "            order=[\"<2 hours\", \n",
    "                   \"2 to 5 hours\", \n",
    "                   \"5 to 10 hours\", \n",
    "                   \">10 hours\"],\n",
    "            ci=None)\n",
    "\n",
    "# Show plot\n",
    "plt.show()"
   ]
  },
  {
   "cell_type": "markdown",
   "id": "16ac62f4",
   "metadata": {},
   "source": [
    "# Create and interpret a box plot\n",
    "Let's continue using the student_data dataset. In an earlier exercise, we explored the relationship between studying and final grade by using a bar plot to compare the average final grade (\"G3\") among students in different categories of \"study_time\".\n",
    "\n",
    "In this exercise, we'll try using a box plot look at this relationship instead. As a reminder, to create a box plot you'll need to use the catplot() function and specify the name of the categorical variable to put on the x-axis (x=____), the name of the quantitative variable to summarize on the y-axis (y=____), the Pandas DataFrame to use (data=____), and the type of plot (kind=\"box\")."
   ]
  },
  {
   "cell_type": "code",
   "execution_count": null,
   "id": "46133226",
   "metadata": {},
   "outputs": [],
   "source": [
    "# Specify the category ordering\n",
    "study_time_order = [\"<2 hours\", \"2 to 5 hours\", \n",
    "                    \"5 to 10 hours\", \">10 hours\"]\n",
    "\n",
    "# Create a box plot and set the order of the categories\n",
    "sns.catplot(x=\"study_time\", y=\"G3\",\n",
    "            data=student_data,\n",
    "            kind=\"box\",\n",
    "            order=study_time_order)\n",
    "\n",
    "# Show plot\n",
    "plt.show()\n"
   ]
  },
  {
   "cell_type": "code",
   "execution_count": null,
   "id": "c43a442d",
   "metadata": {},
   "outputs": [],
   "source": [
    "# Which of the following is a correct interpretation of this box plot?\n",
    "\n",
    "# Possible Answers\n",
    "# The 75th percentile of grades is highest among students who study more than 10 hours a week.\n",
    "# There are no outliers plotted for these box plots.\n",
    "# The 5th percentile of grades among students studying less than 2 hours is 5.0.\n",
    "# The median grade among students studying less than 2 hours is 10.0.\n",
    "\n",
    "\"\"\"ANSWER\n",
    "The median grade among students studying less than 2 hours is 10.0.\"\"\""
   ]
  },
  {
   "cell_type": "markdown",
   "id": "79668a98",
   "metadata": {},
   "source": [
    "# Omitting outliers\n",
    "Now let's use the student_data dataset to compare the distribution of final grades (\"G3\") between students who have internet access at home and those who don't. To do this, we'll use the \"internet\" variable, which is a binary (yes/no) indicator of whether the student has internet access at home.\n",
    "\n",
    "Since internet may be less accessible in rural areas, we'll add subgroups based on where the student lives. For this, we can use the \"location\" variable, which is an indicator of whether a student lives in an urban (\"Urban\") or rural (\"Rural\") location.\n",
    "\n",
    "Seaborn has already been imported as sns and matplotlib.pyplot has been imported as plt. As a reminder, you can omit outliers in box plots by setting the sym parameter equal to an empty string (\"\")."
   ]
  },
  {
   "cell_type": "code",
   "execution_count": null,
   "id": "173be791",
   "metadata": {},
   "outputs": [],
   "source": [
    "# Create a box plot with subgroups and omit the outliers\n",
    "sns.catplot(x=\"internet\", y=\"G3\",\n",
    "            data=student_data,\n",
    "            kind=\"box\",\n",
    "            hue=\"location\",\n",
    "            sym=\"\")\n",
    "\n",
    "# Show plot\n",
    "plt.show()"
   ]
  },
  {
   "cell_type": "markdown",
   "id": "88767ad5",
   "metadata": {},
   "source": [
    "# Adjusting the whiskers\n",
    "In the lesson we saw that there are multiple ways to define the whiskers in a box plot. In this set of exercises, we'll continue to use the student_data dataset to compare the distribution of final grades (\"G3\") between students who are in a romantic relationship and those that are not. We'll use the \"romantic\" variable, which is a yes/no indicator of whether the student is in a romantic relationship.\n",
    "\n",
    "Let's create a box plot to look at this relationship and try different ways to define the whiskers.\n",
    "\n",
    "We've already imported Seaborn as sns and matplotlib.pyplot as plt."
   ]
  },
  {
   "cell_type": "code",
   "execution_count": null,
   "id": "1b0fc70f",
   "metadata": {},
   "outputs": [],
   "source": [
    "# Set the whiskers to 0.5 * IQR\n",
    "sns.catplot(x=\"romantic\", y=\"G3\",\n",
    "            data=student_data,\n",
    "            kind=\"box\",\n",
    "            whis=0.5)\n",
    "\n",
    "# Show plot\n",
    "plt.show()"
   ]
  },
  {
   "cell_type": "code",
   "execution_count": null,
   "id": "22274aec",
   "metadata": {},
   "outputs": [],
   "source": [
    "# Extend the whiskers to the 5th and 95th percentile\n",
    "sns.catplot(x=\"romantic\", y=\"G3\",\n",
    "            data=student_data,\n",
    "            kind=\"box\",\n",
    "            whis=[5, 95])\n",
    "\n",
    "# Show plot\n",
    "plt.show()"
   ]
  },
  {
   "cell_type": "code",
   "execution_count": null,
   "id": "67e79437",
   "metadata": {},
   "outputs": [],
   "source": []
  },
  {
   "cell_type": "code",
   "execution_count": null,
   "id": "324ec462",
   "metadata": {},
   "outputs": [],
   "source": [
    "# Set the whiskers at the min and max values\n",
    "sns.catplot(x=\"romantic\", y=\"G3\",\n",
    "            data=student_data,\n",
    "            kind=\"box\",\n",
    "            whis=[0, 100])\n",
    "\n",
    "# Show plot\n",
    "plt.show()"
   ]
  },
  {
   "cell_type": "markdown",
   "id": "8a2ef30f",
   "metadata": {},
   "source": [
    "# Customizing point plots\n",
    "Let's continue to look at data from students in secondary school, this time using a point plot to answer the question: does the quality of the student's family relationship influence the number of absences the student has in school? Here, we'll use the \"famrel\" variable, which describes the quality of a student's family relationship from 1 (very bad) to 5 (very good).\n",
    "\n",
    "As a reminder, to create a point plot, use the catplot() function and specify the name of the categorical variable to put on the x-axis (x=____), the name of the quantitative variable to summarize on the y-axis (y=____), the Pandas DataFrame to use (data=____), and the type of categorical plot (kind=\"point\").\n",
    "\n",
    "We've already imported Seaborn as sns and matplotlib.pyplot as plt."
   ]
  },
  {
   "cell_type": "code",
   "execution_count": null,
   "id": "f8f82497",
   "metadata": {},
   "outputs": [],
   "source": [
    "# Create a point plot of family relationship vs. absences\n",
    "sns.catplot(x=\"famrel\", y=\"absences\",\n",
    "\t\t\tdata=student_data,\n",
    "            kind=\"point\")\n",
    "            \n",
    "# Show plot\n",
    "plt.show()"
   ]
  },
  {
   "cell_type": "code",
   "execution_count": null,
   "id": "9bba93a4",
   "metadata": {},
   "outputs": [],
   "source": [
    "# Add caps to the confidence interval\n",
    "sns.catplot(x=\"famrel\", y=\"absences\",\n",
    "\t\t\tdata=student_data,\n",
    "            kind=\"point\",\n",
    "            capsize=0.2)\n",
    "            \n",
    "# Show plot\n",
    "plt.show()"
   ]
  },
  {
   "cell_type": "code",
   "execution_count": null,
   "id": "3da0c36d",
   "metadata": {},
   "outputs": [],
   "source": [
    "# Remove the lines joining the points\n",
    "sns.catplot(x=\"famrel\", y=\"absences\",\n",
    "\t\t\tdata=student_data,\n",
    "            kind=\"point\",\n",
    "            capsize=0.2,\n",
    "            join=False)\n",
    "            \n",
    "# Show plot\n",
    "plt.show()"
   ]
  },
  {
   "cell_type": "markdown",
   "id": "beef995f",
   "metadata": {},
   "source": [
    "# Point plots with subgroups\n",
    "Let's continue exploring the dataset of students in secondary school. This time, we'll ask the question: is being in a romantic relationship associated with higher or lower school attendance? And does this association differ by which school the students attend? Let's find out using a point plot.\n",
    "\n",
    "We've already imported Seaborn as sns and matplotlib.pyplot as plt."
   ]
  },
  {
   "cell_type": "code",
   "execution_count": null,
   "id": "d711f21c",
   "metadata": {},
   "outputs": [],
   "source": [
    "# Create a point plot with subgroups\n",
    "sns.catplot(x=\"romantic\", y=\"absences\",\n",
    "\t\t\tdata=student_data,\n",
    "            kind=\"point\",\n",
    "            hue=\"school\")\n",
    "\n",
    "# Show plot\n",
    "plt.show()"
   ]
  },
  {
   "cell_type": "code",
   "execution_count": null,
   "id": "9304998f",
   "metadata": {},
   "outputs": [],
   "source": [
    "# Turn off the confidence intervals for this plot\n",
    "sns.catplot(x=\"romantic\", y=\"absences\",\n",
    "\t\t\tdata=student_data,\n",
    "            kind=\"point\",\n",
    "            hue=\"school\",\n",
    "            ci=None)\n",
    "\n",
    "# Show plot\n",
    "plt.show()"
   ]
  },
  {
   "cell_type": "code",
   "execution_count": null,
   "id": "6c4bba78",
   "metadata": {},
   "outputs": [],
   "source": [
    "# Import median function from numpy\n",
    "from numpy import median\n",
    "\n",
    "# Plot the median number of absences instead of the mean\n",
    "sns.catplot(x=\"romantic\", y=\"absences\",\n",
    "data=student_data,\n",
    "            kind=\"point\",\n",
    "            hue=\"school\",\n",
    "            ci=None,\n",
    "            estimator=median)\n",
    "\n",
    "# Show plot\n",
    "plt.show()"
   ]
  },
  {
   "cell_type": "markdown",
   "id": "4f8e970b",
   "metadata": {},
   "source": [
    "# Changing style and palette\n",
    "Let's return to our dataset containing the results of a survey given to young people about their habits and preferences. We've provided the code to create a count plot of their responses to the question \"How often do you listen to your parents' advice?\". Now let's change the style and palette to make this plot easier to interpret.\n",
    "\n",
    "We've already imported Seaborn as sns and matplotlib.pyplot as plt."
   ]
  },
  {
   "cell_type": "code",
   "execution_count": null,
   "id": "d4e34745",
   "metadata": {},
   "outputs": [],
   "source": [
    "# Set the style to \"whitegrid\"\n",
    "sns.set_style(\"whitegrid\")\n",
    "\n",
    "# Create a count plot of survey responses\n",
    "category_order = [\"Never\", \"Rarely\", \"Sometimes\", \n",
    "                  \"Often\", \"Always\"]\n",
    "\n",
    "sns.catplot(x=\"Parents Advice\", \n",
    "            data=survey_data, \n",
    "            kind=\"count\", \n",
    "            order=category_order)\n",
    "\n",
    "# Show plot\n",
    "plt.show()"
   ]
  },
  {
   "cell_type": "code",
   "execution_count": null,
   "id": "f7a192f3",
   "metadata": {},
   "outputs": [],
   "source": [
    "# Set the color palette to \"Purples\"\n",
    "sns.set_style(\"whitegrid\")\n",
    "sns.set_palette(\"Purples\")\n",
    "\n",
    "# Create a count plot of survey responses\n",
    "category_order = [\"Never\", \"Rarely\", \"Sometimes\", \n",
    "                  \"Often\", \"Always\"]\n",
    "\n",
    "sns.catplot(x=\"Parents Advice\", \n",
    "            data=survey_data, \n",
    "            kind=\"count\", \n",
    "            order=category_order)\n",
    "\n",
    "# Show plot\n",
    "plt.show()"
   ]
  },
  {
   "cell_type": "code",
   "execution_count": null,
   "id": "63df7c07",
   "metadata": {},
   "outputs": [],
   "source": [
    "# Change the color palette to \"RdBu\"\n",
    "sns.set_style(\"whitegrid\")\n",
    "sns.set_palette(\"RdBu\")\n",
    "\n",
    "# Create a count plot of survey responses\n",
    "category_order = [\"Never\", \"Rarely\", \"Sometimes\", \n",
    "                  \"Often\", \"Always\"]\n",
    "\n",
    "sns.catplot(x=\"Parents Advice\", \n",
    "            data=survey_data, \n",
    "            kind=\"count\", \n",
    "            order=category_order)\n",
    "\n",
    "# Show plot\n",
    "plt.show()"
   ]
  },
  {
   "cell_type": "markdown",
   "id": "cf8915b4",
   "metadata": {},
   "source": [
    "# Changing the scale\n",
    "In this exercise, we'll continue to look at the dataset containing responses from a survey of young people. Does the percentage of people reporting that they feel lonely vary depending on how many siblings they have? Let's find out using a bar plot, while also exploring Seaborn's four different plot scales (\"contexts\").\n",
    "\n",
    "We've already imported Seaborn as sns and matplotlib.pyplot as plt."
   ]
  },
  {
   "cell_type": "code",
   "execution_count": null,
   "id": "47a30fb7",
   "metadata": {},
   "outputs": [],
   "source": [
    "# Set the context to \"paper\"\n",
    "sns.set_context(\"paper\")\n",
    "\n",
    "# Create bar plot\n",
    "sns.catplot(x=\"Number of Siblings\", y=\"Feels Lonely\",\n",
    "            data=survey_data, kind=\"bar\")\n",
    "\n",
    "# Show plot\n",
    "plt.show()"
   ]
  },
  {
   "cell_type": "code",
   "execution_count": null,
   "id": "7202bf33",
   "metadata": {},
   "outputs": [],
   "source": [
    "# Change the context to \"notebook\"\n",
    "sns.set_context(\"notebook\")\n",
    "\n",
    "# Create bar plot\n",
    "sns.catplot(x=\"Number of Siblings\", y=\"Feels Lonely\",\n",
    "            data=survey_data, kind=\"bar\")\n",
    "\n",
    "# Show plot\n",
    "plt.show()"
   ]
  },
  {
   "cell_type": "code",
   "execution_count": null,
   "id": "2e481988",
   "metadata": {},
   "outputs": [],
   "source": [
    "# Change the context to \"talk\"\n",
    "sns.set_context(\"talk\")\n",
    "\n",
    "# Create bar plot\n",
    "sns.catplot(x=\"Number of Siblings\", y=\"Feels Lonely\",\n",
    "            data=survey_data, kind=\"bar\")\n",
    "\n",
    "# Show plot\n",
    "plt.show()"
   ]
  },
  {
   "cell_type": "code",
   "execution_count": null,
   "id": "a52cacd6",
   "metadata": {},
   "outputs": [],
   "source": [
    "# Change the context to \"poster\"\n",
    "sns.set_context(\"poster\")\n",
    "\n",
    "# Create bar plot\n",
    "sns.catplot(x=\"Number of Siblings\", y=\"Feels Lonely\",\n",
    "            data=survey_data, kind=\"bar\")\n",
    "\n",
    "# Show plot\n",
    "plt.show()\n"
   ]
  },
  {
   "cell_type": "markdown",
   "id": "0a13cce8",
   "metadata": {},
   "source": [
    "# Using a custom palette\n",
    "So far, we've looked at several things in the dataset of survey responses from young people, including their internet usage, how often they listen to their parents, and how many of them report feeling lonely. However, one thing we haven't done is a basic summary of the type of people answering this survey, including their age and gender. Providing these basic summaries is always a good practice when dealing with an unfamiliar dataset.\n",
    "\n",
    "The code provided will create a box plot showing the distribution of ages for male versus female respondents. Let's adjust the code to customize the appearance, this time using a custom color palette."
   ]
  },
  {
   "cell_type": "code",
   "execution_count": null,
   "id": "ab8f1f54",
   "metadata": {},
   "outputs": [],
   "source": [
    "# Set the style to \"darkgrid\"\n",
    "sns.set_style(\"darkgrid\")\n",
    "\n",
    "# Set a custom color palette\n",
    "sns.set_palette([\"#39A7D0\", \"#36ADA4\"])\n",
    "\n",
    "# Create the box plot of age distribution by gender\n",
    "sns.catplot(x=\"Gender\", y=\"Age\", \n",
    "            data=survey_data, kind=\"box\")\n",
    "\n",
    "# Show plot\n",
    "plt.show()"
   ]
  },
  {
   "cell_type": "markdown",
   "id": "199cee97",
   "metadata": {},
   "source": [
    "# FacetGrids vs. AxesSubplots\n",
    "In the recent lesson, we learned that Seaborn plot functions create two different types of objects: FacetGrid objects and AxesSubplot objects. The method for adding a title to your plot will differ depending on the type of object it is.\n",
    "\n",
    "In the code provided, we've used relplot() with the miles per gallon dataset to create a scatter plot showing the relationship between a car's weight and its horsepower. This scatter plot is assigned to the variable name g. Let's identify which type of object it is.\n",
    "\n",
    "We've already imported Seaborn as sns and matplotlib.pyplot as plt."
   ]
  },
  {
   "cell_type": "code",
   "execution_count": null,
   "id": "ceb6f3a4",
   "metadata": {},
   "outputs": [],
   "source": [
    "# Create scatter plot\n",
    "g = sns.relplot(x=\"weight\", \n",
    "                y=\"horsepower\", \n",
    "                data=mpg,\n",
    "                kind=\"scatter\")\n",
    "\n",
    "# Identify plot type\n",
    "type_of_g = type(g)\n",
    "\n",
    "# Print type\n",
    "print(type_of_g)\n",
    "\n",
    "\n"
   ]
  },
  {
   "cell_type": "code",
   "execution_count": null,
   "id": "0af4bafe",
   "metadata": {},
   "outputs": [],
   "source": [
    "# We've just seen that sns.relplot() creates FacetGrid objects. Which other Seaborn function creates a FacetGrid object instead of an AxesSubplot object?\n",
    "\n",
    "# Possible Answers\n",
    "# sns.catplot()\n",
    "# sns.scatterplot()\n",
    "# sns.boxplot()\n",
    "# sns.countplot()\n",
    "\n",
    "\"\"\" Answer\n",
    " sns.catplot()\"\"\"\n"
   ]
  },
  {
   "cell_type": "markdown",
   "id": "bf93c742",
   "metadata": {},
   "source": [
    "# Adding a title to a FacetGrid object\n",
    "In the previous exercise, we used relplot() with the miles per gallon dataset to create a scatter plot showing the relationship between a car's weight and its horsepower. This created a FacetGrid object. Now that we know what type of object it is, let's add a title to this plot.\n",
    "\n",
    "We've already imported Seaborn as sns and matplotlib.pyplot as plt."
   ]
  },
  {
   "cell_type": "code",
   "execution_count": null,
   "id": "bb2367b0",
   "metadata": {},
   "outputs": [],
   "source": [
    "# Create scatter plot\n",
    "g = sns.relplot(x=\"weight\", \n",
    "                y=\"horsepower\", \n",
    "                data=mpg,\n",
    "                kind=\"scatter\")\n",
    "\n",
    "# Add a title \"Car Weight vs. Horsepower\"\n",
    "g.fig.suptitle(\"Car Weight vs. Horsepower\")\n",
    "\n",
    "# Show plot\n",
    "plt.show()"
   ]
  },
  {
   "cell_type": "markdown",
   "id": "9a5d23b8",
   "metadata": {},
   "source": [
    "# Adding a title and axis labels\n",
    "Let's continue to look at the miles per gallon dataset. This time we'll create a line plot to answer the question: How does the average miles per gallon achieved by cars change over time for each of the three places of origin? To improve the readability of this plot, we'll add a title and more informative axis labels.\n",
    "\n",
    "In the code provided, we create the line plot using the lineplot() function. Note that lineplot() does not support the creation of subplots, so it returns an AxesSubplot object instead of an FacetGrid object.\n",
    "\n",
    "We've already imported Seaborn as sns and matplotlib.pyplot as plt."
   ]
  },
  {
   "cell_type": "code",
   "execution_count": null,
   "id": "28386913",
   "metadata": {},
   "outputs": [],
   "source": [
    "# Create line plot\n",
    "g = sns.lineplot(x=\"model_year\", y=\"mpg_mean\", \n",
    "                 data=mpg_mean,\n",
    "                 hue=\"origin\")\n",
    "\n",
    "# Add a title \"Average MPG Over Time\"\n",
    "g.set_title(\"Average MPG Over Time\")\n",
    "\n",
    "# Show plot\n",
    "plt.show()"
   ]
  },
  {
   "cell_type": "code",
   "execution_count": null,
   "id": "889ff189",
   "metadata": {},
   "outputs": [],
   "source": [
    "# Create line plot\n",
    "g = sns.lineplot(x=\"model_year\", y=\"mpg_mean\", \n",
    "                 data=mpg_mean,\n",
    "                 hue=\"origin\")\n",
    "\n",
    "# Add a title \"Average MPG Over Time\"\n",
    "g.set_title(\"Average MPG Over Time\")\n",
    "\n",
    "# Add x-axis and y-axis labels\n",
    "g.set(xlabel=\"Car Model Year\", \n",
    "      ylabel=\"Average MPG\")\n",
    "\n",
    "# Show plot\n",
    "plt.show()"
   ]
  },
  {
   "cell_type": "markdown",
   "id": "6c12a2d5",
   "metadata": {},
   "source": [
    "# Rotating x-tick labels\n",
    "In this exercise, we'll continue looking at the miles per gallon dataset. In the code provided, we create a point plot that displays the average acceleration for cars in each of the three places of origin. Note that the \"acceleration\" variable is the time to accelerate from 0 to 60 miles per hour, in seconds. Higher values indicate slower acceleration.\n",
    "\n",
    "Let's use this plot to practice rotating the x-tick labels. Recall that the function to rotate x-tick labels is a standalone Matplotlib function and not a function applied to the plot object itself.\n",
    "\n",
    "We've already imported Seaborn as sns and matplotlib.pyplot as plt."
   ]
  },
  {
   "cell_type": "code",
   "execution_count": null,
   "id": "5e12c149",
   "metadata": {},
   "outputs": [],
   "source": [
    "# Create point plot\n",
    "sns.catplot(x=\"origin\", \n",
    "            y=\"acceleration\", \n",
    "            data=mpg, \n",
    "            kind=\"point\", \n",
    "            join=False, \n",
    "            capsize=0.1)\n",
    "\n",
    "# Rotate x-tick labels\n",
    "plt.xticks(rotation=90)\n",
    "\n",
    "# Show plot\n",
    "plt.show()"
   ]
  },
  {
   "cell_type": "markdown",
   "id": "df9068c6",
   "metadata": {},
   "source": [
    "# Box plot with subgroups\n",
    "In this exercise, we'll look at the dataset containing responses from a survey given to young people. One of the questions asked of the young people was: \"Are you interested in having pets?\" Let's explore whether the distribution of ages of those answering \"yes\" tends to be higher or lower than those answering \"no\", controlling for gender."
   ]
  },
  {
   "cell_type": "code",
   "execution_count": null,
   "id": "03f458f8",
   "metadata": {},
   "outputs": [],
   "source": [
    "# Set palette to \"Blues\"\n",
    "sns.set_palette(\"Blues\")\n",
    "\n",
    "# Adjust to add subgroups based on \"Interested in Pets\"\n",
    "g = sns.catplot(x=\"Gender\",\n",
    "                y=\"Age\", data=survey_data, \n",
    "                kind=\"box\", hue=\"Interested in Pets\")\n",
    "\n",
    "# Set title to \"Age of Those Interested in Pets vs. Not\"\n",
    "g.fig.suptitle(\"Age of Those Interested in Pets vs. Not\")\n",
    "\n",
    "# Show plot\n",
    "plt.show()"
   ]
  },
  {
   "cell_type": "markdown",
   "id": "ecdca63f",
   "metadata": {},
   "source": [
    "# Bar plot with subgroups and subplots\n",
    "In this exercise, we'll return to our young people survey dataset and investigate whether the proportion of people who like techno music (\"Likes Techno\") varies by their gender (\"Gender\") or where they live (\"Village - town\"). This exercise will give us an opportunity to practice the many things we've learned throughout this course!\n",
    "\n",
    "We've already imported Seaborn as sns and matplotlib.pyplot as plt."
   ]
  },
  {
   "cell_type": "code",
   "execution_count": null,
   "id": "e4a5124e",
   "metadata": {},
   "outputs": [],
   "source": [
    "# Set the figure style to \"dark\"\n",
    "sns.set_style(\"dark\")\n",
    "\n",
    "# Adjust to add subplots per gender\n",
    "g = sns.catplot(x=\"Village - town\", y=\"Likes Techno\", \n",
    "                data=survey_data, kind=\"bar\",\n",
    "                col=\"Gender\")\n",
    "\n",
    "# Add title and axis labels\n",
    "g.fig.suptitle(\"Percentage of Young People Who Like Techno\", y=1.02)\n",
    "g.set(xlabel=\"Location of Residence\", \n",
    "      ylabel=\"% Who Like Techno\")\n",
    "\n",
    "# Show plot\n",
    "plt.show()"
   ]
  }
 ],
 "metadata": {
  "kernelspec": {
   "display_name": "Python 3",
   "language": "python",
   "name": "python3"
  },
  "language_info": {
   "codemirror_mode": {
    "name": "ipython",
    "version": 3
   },
   "file_extension": ".py",
   "mimetype": "text/x-python",
   "name": "python",
   "nbconvert_exporter": "python",
   "pygments_lexer": "ipython3",
   "version": "3.8.11"
  }
 },
 "nbformat": 4,
 "nbformat_minor": 5
}
