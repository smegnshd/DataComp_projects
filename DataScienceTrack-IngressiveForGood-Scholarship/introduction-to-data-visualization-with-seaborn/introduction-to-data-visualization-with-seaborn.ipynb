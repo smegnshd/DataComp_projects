{
 "cells": [
  {
   "cell_type": "markdown",
   "id": "6fe563ef",
   "metadata": {},
   "source": [
    "# Making a scatter plot with lists\n",
    "In this exercise, we'll use a dataset that contains information about 227 countries. This dataset has lots of interesting information on each country, such as the country's birth rates, death rates, and its gross domestic product (GDP). GDP is the value of all the goods and services produced in a year, expressed as dollars per person.\n",
    "\n",
    "We've created three lists of data from this dataset to get you started. gdp is a list that contains the value of GDP per country, expressed as dollars per person. phones is a list of the number of mobile phones per 1,000 people in that country. Finally, percent_literate is a list that contains the percent of each country's population that can read and write."
   ]
  },
  {
   "cell_type": "code",
   "execution_count": null,
   "id": "ad51b8df",
   "metadata": {},
   "outputs": [],
   "source": [
    "# Import Matplotlib and Seaborn\n",
    "import matplotlib.pyplot as plt\n",
    "import seaborn as sns\n",
    "\n",
    "\"\"\"Create a scatter plot of GDP (gdp) vs. number of phones per 1000 people (phones).\"\"\"\n",
    "# Import Matplotlib and Seaborn\n",
    "import matplotlib.pyplot as plt\n",
    "import seaborn as sns\n",
    "\n",
    "# Create scatter plot with GDP on the x-axis and number of phones on the y-axis\n",
    "sns.scatterplot(x=gdp, y=phones)\n",
    "\n",
    "\"\"\"Display the plot.\"\"\"\n",
    "# Import Matplotlib and Seaborn\n",
    "import matplotlib.pyplot as plt\n",
    "import seaborn as sns\n",
    "\n",
    "# Create scatter plot with GDP on the x-axis and number of phones on the y-axis\n",
    "sns.scatterplot(x=gdp, y=phones)\n",
    "\n",
    "# Show plot\n",
    "plt.show()\n",
    "\n",
    "\"\"\"Change the scatter plot so it displays the percent of the population that can read and write (percent_literate) on the y-axis.\"\"\"\n",
    "# Import Matplotlib and Seaborn\n",
    "import matplotlib.pyplot as plt\n",
    "import seaborn as sns\n",
    "\n",
    "# Change this scatter plot to have percent literate on the y-axis\n",
    "sns.scatterplot(x=gdp, y=percent_literate)\n",
    "\n",
    "# Show plot\n",
    "plt.show()"
   ]
  },
  {
   "cell_type": "markdown",
   "id": "22a59187",
   "metadata": {},
   "source": [
    "# Making a count plot with a list\n",
    "In the last exercise, we explored a dataset that contains information about 227 countries. Let's do more exploration of this data - specifically, how many countries are in each region of the world?\n",
    "\n",
    "To do this, we'll need to use a count plot. Count plots take in a categorical list and return bars that represent the number of list entries per category. You can create one here using a list of regions for each country, which is a variable named region."
   ]
  },
  {
   "cell_type": "code",
   "execution_count": null,
   "id": "f6428bc9",
   "metadata": {},
   "outputs": [],
   "source": [
    "# Import Matplotlib and Seaborn\n",
    "import matplotlib.pyplot as plt\n",
    "import seaborn as sns\n",
    "\n",
    "# Create count plot with region on the y-axis\n",
    "sns.countplot(y=region)\n",
    "\n",
    "# Show plot\n",
    "plt.show()"
   ]
  },
  {
   "cell_type": "markdown",
   "id": "76270591",
   "metadata": {},
   "source": [
    "# \"Tidy\" vs. \"untidy\" data\n",
    "Here, we have a sample dataset from a survey of children about their favorite animals. But can we use this dataset as-is with Seaborn? Let's use Pandas to import the csv file with the data collected from the survey and determine whether it is tidy, which is essential to having it work well with Seaborn.\n",
    "\n",
    "To get you started, the filepath to the csv file has been assigned to the variable csv_filepath.\n",
    "\n",
    "Note that because csv_filepath is a Python variable, you will not need to put quotation marks around it when you read the csv."
   ]
  },
  {
   "cell_type": "code",
   "execution_count": null,
   "id": "5881cb5f",
   "metadata": {},
   "outputs": [],
   "source": [
    "# Import pandas\n",
    "import pandas as pd\n",
    "\n",
    "# Create a DataFrame from csv file\n",
    "df = pd.read_csv(csv_filepath)\n",
    "\n",
    "# Print the head of df\n",
    "print(df.head())"
   ]
  },
  {
   "cell_type": "code",
   "execution_count": null,
   "id": "2337fd5b",
   "metadata": {},
   "outputs": [],
   "source": [
    "# View the first five rows of the DataFrame df. Is it tidy? Why or why not?\n",
    "\n",
    "# Possible Answers\n",
    "# Yes, because there are no typos or missing values.\n",
    "# Yes, because it is well organized and easy to read.\n",
    "# No, because a single column contains different types of information.\n",
    "\n",
    "\n",
    "\"\"\"ANSWER\n",
    " No, because a single column contains different types of information.\"\"\""
   ]
  },
  {
   "cell_type": "markdown",
   "id": "dcef215c",
   "metadata": {},
   "source": [
    "# Making a count plot with a DataFrame\n",
    "In this exercise, we'll look at the responses to a survey sent out to young people. Our primary question here is: how many young people surveyed report being scared of spiders? Survey participants were asked to agree or disagree with the statement \"I am afraid of spiders\". Responses vary from 1 to 5, where 1 is \"Strongly disagree\" and 5 is \"Strongly agree\".\n",
    "\n",
    "To get you started, the filepath to the csv file with the survey data has been assigned to the variable csv_filepath.\n",
    "\n",
    "Note that because csv_filepath is a Python variable, you will not need to put quotation marks around it when you read the csv."
   ]
  },
  {
   "cell_type": "code",
   "execution_count": null,
   "id": "b9d2953b",
   "metadata": {},
   "outputs": [],
   "source": [
    "# Import Matplotlib, Pandas, and Seaborn\n",
    "import matplotlib.pyplot as plt\n",
    "import pandas as pd\n",
    "import seaborn as sns\n",
    "\n",
    "# Create a DataFrame from csv file\n",
    "df = pd.read_csv(csv_filepath)\n",
    "\n",
    "# Create a count plot with \"Spiders\" on the x-axis\n",
    "sns.countplot(x=\"Spiders\", data=df)\n",
    "\n",
    "# Display the plot\n",
    "plt.show()"
   ]
  },
  {
   "cell_type": "markdown",
   "id": "38053e25",
   "metadata": {},
   "source": [
    "# Hue and scatter plots\n",
    "In the prior video, we learned how hue allows us to easily make subgroups within Seaborn plots. Let's try it out by exploring data from students in secondary school. We have a lot of information about each student like their age, where they live, their study habits and their extracurricular activities.\n",
    "\n",
    "For now, we'll look at the relationship between the number of absences they have in school and their final grade in the course, segmented by where the student lives (rural vs. urban area)."
   ]
  },
  {
   "cell_type": "code",
   "execution_count": null,
   "id": "aca0383c",
   "metadata": {},
   "outputs": [],
   "source": [
    "# Import Matplotlib and Seaborn\n",
    "import matplotlib.pyplot as plt\n",
    "import seaborn as sns\n",
    "\n",
    "# Create a scatter plot of absences vs. final grade\n",
    "sns.scatterplot(x=\"absences\", y=\"G3\", \n",
    "                data=student_data, \n",
    "                hue=\"location\")\n",
    "\n",
    "# Show plot\n",
    "plt.show()"
   ]
  },
  {
   "cell_type": "code",
   "execution_count": null,
   "id": "b2c7ea3d",
   "metadata": {},
   "outputs": [],
   "source": [
    "# Import Matplotlib and Seaborn\n",
    "import matplotlib.pyplot as plt\n",
    "import seaborn as sns\n",
    "\n",
    "# Change the legend order in the scatter plot\n",
    "sns.scatterplot(x=\"absences\", y=\"G3\", \n",
    "                data=student_data, \n",
    "                hue=\"location\",\n",
    "                hue_order=[\"Rural\", \"Urban\"])\n",
    "\n",
    "# Show plot\n",
    "plt.show()"
   ]
  },
  {
   "cell_type": "markdown",
   "id": "3b1bf0ca",
   "metadata": {},
   "source": [
    "# Hue and count plots\n",
    "Let's continue exploring our dataset from students in secondary school by looking at a new variable. The \"school\" column indicates the initials of which school the student attended - either \"GP\" or \"MS\".\n",
    "\n",
    "In the last exercise, we created a scatter plot where the plot points were colored based on whether the student lived in an urban or rural area. How many students live in urban vs. rural areas, and does this vary based on what school the student attends? Let's make a count plot with subgroups to find out."
   ]
  },
  {
   "cell_type": "code",
   "execution_count": null,
   "id": "61cf391b",
   "metadata": {},
   "outputs": [],
   "source": [
    "# Import Matplotlib and Seaborn\n",
    "import matplotlib.pyplot as plt\n",
    "import seaborn as sns\n",
    "\n",
    "# Create a dictionary mapping subgroup values to colors\n",
    "palette_colors = {\"Rural\": \"green\", \"Urban\": \"blue\"}\n",
    "\n",
    "# Create a count plot of school with location subgroups\n",
    "sns.countplot(x=\"school\", data=student_data,\n",
    "              hue=\"location\",\n",
    "              palette=palette_colors)\n",
    "\n",
    "# Display plot\n",
    "plt.show()"
   ]
  },
  {
   "cell_type": "markdown",
   "id": "50d66f1d",
   "metadata": {},
   "source": [
    "# Creating subplots with col and row\n",
    "We've seen in prior exercises that students with more absences (\"absences\") tend to have lower final grades (\"G3\"). Does this relationship hold regardless of how much time students study each week?\n",
    "\n",
    "To answer this, we'll look at the relationship between the number of absences that a student has in school and their final grade in the course, creating separate subplots based on each student's weekly study time (\"study_time\").\n",
    "\n",
    "Seaborn has been imported as sns and matplotlib.pyplot has been imported as plt."
   ]
  },
  {
   "cell_type": "code",
   "execution_count": null,
   "id": "90e1fdc5",
   "metadata": {},
   "outputs": [],
   "source": [
    "# Change to use relplot() instead of scatterplot()\n",
    "sns.relplot(x=\"absences\", y=\"G3\", \n",
    "            data=student_data,\n",
    "            kind=\"scatter\")\n",
    "\n",
    "# Show plot\n",
    "plt.show()"
   ]
  },
  {
   "cell_type": "code",
   "execution_count": null,
   "id": "220eb895",
   "metadata": {},
   "outputs": [],
   "source": [
    "# Change to make subplots based on study time\n",
    "sns.relplot(x=\"absences\", y=\"G3\", \n",
    "            data=student_data,\n",
    "            kind=\"scatter\",\n",
    "            col=\"study_time\")\n",
    "\n",
    "# Show plot\n",
    "plt.show()"
   ]
  },
  {
   "cell_type": "code",
   "execution_count": null,
   "id": "b98bcaea",
   "metadata": {},
   "outputs": [],
   "source": [
    "# Change this scatter plot to arrange the plots in rows instead of columns\n",
    "sns.relplot(x=\"absences\", y=\"G3\", \n",
    "            data=student_data,\n",
    "            kind=\"scatter\", \n",
    "            row=\"study_time\")\n",
    "\n",
    "# Show plot\n",
    "plt.show()\n"
   ]
  },
  {
   "cell_type": "markdown",
   "id": "0fe9a366",
   "metadata": {},
   "source": [
    "# Creating two-factor subplots\n",
    "Let's continue looking at the student_data dataset of students in secondary school. Here, we want to answer the following question: does a student's first semester grade (\"G1\") tend to correlate with their final grade (\"G3\")?\n",
    "\n",
    "There are many aspects of a student's life that could result in a higher or lower final grade in the class. For example, some students receive extra educational support from their school (\"schoolsup\") or from their family (\"famsup\"), which could result in higher grades. Let's try to control for these two factors by creating subplots based on whether the student received extra educational support from their school or family."
   ]
  },
  {
   "cell_type": "code",
   "execution_count": null,
   "id": "864a1cc1",
   "metadata": {},
   "outputs": [],
   "source": [
    "# Create a scatter plot of G1 vs. G3\n",
    "sns.relplot(x=\"G1\", y=\"G3\", \n",
    "            data=student_data,\n",
    "            kind=\"scatter\")\n",
    "\n",
    "# Show plot\n",
    "plt.show()"
   ]
  },
  {
   "cell_type": "code",
   "execution_count": null,
   "id": "fcb8f943",
   "metadata": {},
   "outputs": [],
   "source": [
    "# Adjust to add subplots based on school support\n",
    "sns.relplot(x=\"G1\", y=\"G3\", \n",
    "            data=student_data,\n",
    "            kind=\"scatter\", \n",
    "            col=\"schoolsup\",\n",
    "            col_order=[\"yes\", \"no\"])\n",
    "\n",
    "# Show plot\n",
    "plt.show()\n"
   ]
  },
  {
   "cell_type": "code",
   "execution_count": null,
   "id": "fdb9be48",
   "metadata": {},
   "outputs": [],
   "source": [
    "# Adjust further to add subplots based on family support\n",
    "sns.relplot(x=\"G1\", y=\"G3\", \n",
    "            data=student_data,\n",
    "            kind=\"scatter\", \n",
    "            col=\"schoolsup\",\n",
    "            col_order=[\"yes\", \"no\"],\n",
    "            row=\"famsup\",\n",
    "            row_order=[\"yes\", \"no\"])\n",
    "\n",
    "# Show plot\n",
    "plt.show()"
   ]
  },
  {
   "cell_type": "markdown",
   "id": "2ebb5713",
   "metadata": {},
   "source": [
    "# Changing the size of scatter plot points\n",
    "In this exercise, we'll explore Seaborn's mpg dataset, which contains one row per car model and includes information such as the year the car was made, the number of miles per gallon (\"M.P.G.\") it achieves, the power of its engine (measured in \"horsepower\"), and its country of origin.\n",
    "\n",
    "What is the relationship between the power of a car's engine (\"horsepower\") and its fuel efficiency (\"mpg\")? And how does this relationship vary by the number of cylinders (\"cylinders\") the car has? Let's find out.\n",
    "\n",
    "Let's continue to use relplot() instead of scatterplot() since it offers more flexibility."
   ]
  },
  {
   "cell_type": "code",
   "execution_count": null,
   "id": "eb720554",
   "metadata": {},
   "outputs": [],
   "source": []
  }
 ],
 "metadata": {
  "kernelspec": {
   "display_name": "Python 3",
   "language": "python",
   "name": "python3"
  },
  "language_info": {
   "codemirror_mode": {
    "name": "ipython",
    "version": 3
   },
   "file_extension": ".py",
   "mimetype": "text/x-python",
   "name": "python",
   "nbconvert_exporter": "python",
   "pygments_lexer": "ipython3",
   "version": "3.8.11"
  }
 },
 "nbformat": 4,
 "nbformat_minor": 5
}
