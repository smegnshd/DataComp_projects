{
 "cells": [
  {
   "cell_type": "markdown",
   "id": "bdde3260",
   "metadata": {},
   "source": [
    "# Making a scatter plot with lists\n",
    "In this exercise, we'll use a dataset that contains information about 227 countries. This dataset has lots of interesting information on each country, such as the country's birth rates, death rates, and its gross domestic product (GDP). GDP is the value of all the goods and services produced in a year, expressed as dollars per person.\n",
    "\n",
    "We've created three lists of data from this dataset to get you started. gdp is a list that contains the value of GDP per country, expressed as dollars per person. phones is a list of the number of mobile phones per 1,000 people in that country. Finally, percent_literate is a list that contains the percent of each country's population that can read and write."
   ]
  },
  {
   "cell_type": "code",
   "execution_count": null,
   "id": "55db2706",
   "metadata": {},
   "outputs": [],
   "source": [
    "# Import Matplotlib and Seaborn\n",
    "import matplotlib.pyplot as plt\n",
    "import seaborn as sns\n",
    "\n",
    "\"\"\"Create a scatter plot of GDP (gdp) vs. number of phones per 1000 people (phones).\"\"\"\n",
    "# Import Matplotlib and Seaborn\n",
    "import matplotlib.pyplot as plt\n",
    "import seaborn as sns\n",
    "\n",
    "# Create scatter plot with GDP on the x-axis and number of phones on the y-axis\n",
    "sns.scatterplot(x=gdp, y=phones)\n",
    "\n",
    "\"\"\"Display the plot.\"\"\"\n",
    "# Import Matplotlib and Seaborn\n",
    "import matplotlib.pyplot as plt\n",
    "import seaborn as sns\n",
    "\n",
    "# Create scatter plot with GDP on the x-axis and number of phones on the y-axis\n",
    "sns.scatterplot(x=gdp, y=phones)\n",
    "\n",
    "# Show plot\n",
    "plt.show()\n",
    "\n",
    "\"\"\"Change the scatter plot so it displays the percent of the population that can read and write (percent_literate) on the y-axis.\"\"\"\n",
    "# Import Matplotlib and Seaborn\n",
    "import matplotlib.pyplot as plt\n",
    "import seaborn as sns\n",
    "\n",
    "# Change this scatter plot to have percent literate on the y-axis\n",
    "sns.scatterplot(x=gdp, y=percent_literate)\n",
    "\n",
    "# Show plot\n",
    "plt.show()"
   ]
  }
 ],
 "metadata": {
  "kernelspec": {
   "display_name": "Python 3",
   "language": "python",
   "name": "python3"
  },
  "language_info": {
   "codemirror_mode": {
    "name": "ipython",
    "version": 3
   },
   "file_extension": ".py",
   "mimetype": "text/x-python",
   "name": "python",
   "nbconvert_exporter": "python",
   "pygments_lexer": "ipython3",
   "version": "3.8.11"
  }
 },
 "nbformat": 4,
 "nbformat_minor": 5
}
