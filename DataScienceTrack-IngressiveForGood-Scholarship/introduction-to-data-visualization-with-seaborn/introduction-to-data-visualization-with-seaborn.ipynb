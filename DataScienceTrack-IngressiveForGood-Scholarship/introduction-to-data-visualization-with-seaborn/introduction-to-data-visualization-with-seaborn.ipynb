{
 "cells": [
  {
   "cell_type": "markdown",
   "id": "697e3f93",
   "metadata": {},
   "source": [
    "# Making a scatter plot with lists\n",
    "In this exercise, we'll use a dataset that contains information about 227 countries. This dataset has lots of interesting information on each country, such as the country's birth rates, death rates, and its gross domestic product (GDP). GDP is the value of all the goods and services produced in a year, expressed as dollars per person.\n",
    "\n",
    "We've created three lists of data from this dataset to get you started. gdp is a list that contains the value of GDP per country, expressed as dollars per person. phones is a list of the number of mobile phones per 1,000 people in that country. Finally, percent_literate is a list that contains the percent of each country's population that can read and write."
   ]
  },
  {
   "cell_type": "code",
   "execution_count": null,
   "id": "0196323f",
   "metadata": {},
   "outputs": [],
   "source": [
    "# Import Matplotlib and Seaborn\n",
    "import matplotlib.pyplot as plt\n",
    "import seaborn as sns\n",
    "\n",
    "\"\"\"Create a scatter plot of GDP (gdp) vs. number of phones per 1000 people (phones).\"\"\"\n",
    "# Import Matplotlib and Seaborn\n",
    "import matplotlib.pyplot as plt\n",
    "import seaborn as sns\n",
    "\n",
    "# Create scatter plot with GDP on the x-axis and number of phones on the y-axis\n",
    "sns.scatterplot(x=gdp, y=phones)\n",
    "\n",
    "\"\"\"Display the plot.\"\"\"\n",
    "# Import Matplotlib and Seaborn\n",
    "import matplotlib.pyplot as plt\n",
    "import seaborn as sns\n",
    "\n",
    "# Create scatter plot with GDP on the x-axis and number of phones on the y-axis\n",
    "sns.scatterplot(x=gdp, y=phones)\n",
    "\n",
    "# Show plot\n",
    "plt.show()\n",
    "\n",
    "\"\"\"Change the scatter plot so it displays the percent of the population that can read and write (percent_literate) on the y-axis.\"\"\"\n",
    "# Import Matplotlib and Seaborn\n",
    "import matplotlib.pyplot as plt\n",
    "import seaborn as sns\n",
    "\n",
    "# Change this scatter plot to have percent literate on the y-axis\n",
    "sns.scatterplot(x=gdp, y=percent_literate)\n",
    "\n",
    "# Show plot\n",
    "plt.show()"
   ]
  },
  {
   "cell_type": "markdown",
   "id": "04f731cc",
   "metadata": {},
   "source": [
    "# Making a count plot with a list\n",
    "In the last exercise, we explored a dataset that contains information about 227 countries. Let's do more exploration of this data - specifically, how many countries are in each region of the world?\n",
    "\n",
    "To do this, we'll need to use a count plot. Count plots take in a categorical list and return bars that represent the number of list entries per category. You can create one here using a list of regions for each country, which is a variable named region."
   ]
  },
  {
   "cell_type": "code",
   "execution_count": null,
   "id": "5e3638e5",
   "metadata": {},
   "outputs": [],
   "source": [
    "# Import Matplotlib and Seaborn\n",
    "import matplotlib.pyplot as plt\n",
    "import seaborn as sns\n",
    "\n",
    "# Create count plot with region on the y-axis\n",
    "sns.countplot(y=region)\n",
    "\n",
    "# Show plot\n",
    "plt.show()"
   ]
  },
  {
   "cell_type": "markdown",
   "id": "5d413b0c",
   "metadata": {},
   "source": [
    "# \"Tidy\" vs. \"untidy\" data\n",
    "Here, we have a sample dataset from a survey of children about their favorite animals. But can we use this dataset as-is with Seaborn? Let's use Pandas to import the csv file with the data collected from the survey and determine whether it is tidy, which is essential to having it work well with Seaborn.\n",
    "\n",
    "To get you started, the filepath to the csv file has been assigned to the variable csv_filepath.\n",
    "\n",
    "Note that because csv_filepath is a Python variable, you will not need to put quotation marks around it when you read the csv."
   ]
  },
  {
   "cell_type": "code",
   "execution_count": null,
   "id": "2c61350e",
   "metadata": {},
   "outputs": [],
   "source": [
    "# Import pandas\n",
    "import pandas as pd\n",
    "\n",
    "# Create a DataFrame from csv file\n",
    "df = pd.read_csv(csv_filepath)\n",
    "\n",
    "# Print the head of df\n",
    "print(df.head())"
   ]
  },
  {
   "cell_type": "code",
   "execution_count": null,
   "id": "bf8d3fa5",
   "metadata": {},
   "outputs": [],
   "source": [
    "# View the first five rows of the DataFrame df. Is it tidy? Why or why not?\n",
    "\n",
    "# Possible Answers\n",
    "# Yes, because there are no typos or missing values.\n",
    "# Yes, because it is well organized and easy to read.\n",
    "# No, because a single column contains different types of information.\n",
    "\n",
    "\n",
    "\"\"\"ANSWER\n",
    " No, because a single column contains different types of information.\"\"\""
   ]
  },
  {
   "cell_type": "markdown",
   "id": "f9647865",
   "metadata": {},
   "source": [
    "# Making a count plot with a DataFrame\n",
    "In this exercise, we'll look at the responses to a survey sent out to young people. Our primary question here is: how many young people surveyed report being scared of spiders? Survey participants were asked to agree or disagree with the statement \"I am afraid of spiders\". Responses vary from 1 to 5, where 1 is \"Strongly disagree\" and 5 is \"Strongly agree\".\n",
    "\n",
    "To get you started, the filepath to the csv file with the survey data has been assigned to the variable csv_filepath.\n",
    "\n",
    "Note that because csv_filepath is a Python variable, you will not need to put quotation marks around it when you read the csv."
   ]
  },
  {
   "cell_type": "code",
   "execution_count": null,
   "id": "066c35f0",
   "metadata": {},
   "outputs": [],
   "source": [
    "# Import Matplotlib, Pandas, and Seaborn\n",
    "import matplotlib.pyplot as plt\n",
    "import pandas as pd\n",
    "import seaborn as sns\n",
    "\n",
    "# Create a DataFrame from csv file\n",
    "df = pd.read_csv(csv_filepath)\n",
    "\n",
    "# Create a count plot with \"Spiders\" on the x-axis\n",
    "sns.countplot(x=\"Spiders\", data=df)\n",
    "\n",
    "# Display the plot\n",
    "plt.show()"
   ]
  },
  {
   "cell_type": "markdown",
   "id": "fb5e7d3c",
   "metadata": {},
   "source": [
    "# Hue and scatter plots\n",
    "In the prior video, we learned how hue allows us to easily make subgroups within Seaborn plots. Let's try it out by exploring data from students in secondary school. We have a lot of information about each student like their age, where they live, their study habits and their extracurricular activities.\n",
    "\n",
    "For now, we'll look at the relationship between the number of absences they have in school and their final grade in the course, segmented by where the student lives (rural vs. urban area)."
   ]
  },
  {
   "cell_type": "code",
   "execution_count": null,
   "id": "b298856f",
   "metadata": {},
   "outputs": [],
   "source": [
    "# Import Matplotlib and Seaborn\n",
    "import matplotlib.pyplot as plt\n",
    "import seaborn as sns\n",
    "\n",
    "# Create a scatter plot of absences vs. final grade\n",
    "sns.scatterplot(x=\"absences\", y=\"G3\", \n",
    "                data=student_data, \n",
    "                hue=\"location\")\n",
    "\n",
    "# Show plot\n",
    "plt.show()"
   ]
  },
  {
   "cell_type": "code",
   "execution_count": null,
   "id": "4ee436e6",
   "metadata": {},
   "outputs": [],
   "source": [
    "# Import Matplotlib and Seaborn\n",
    "import matplotlib.pyplot as plt\n",
    "import seaborn as sns\n",
    "\n",
    "# Change the legend order in the scatter plot\n",
    "sns.scatterplot(x=\"absences\", y=\"G3\", \n",
    "                data=student_data, \n",
    "                hue=\"location\",\n",
    "                hue_order=[\"Rural\", \"Urban\"])\n",
    "\n",
    "# Show plot\n",
    "plt.show()"
   ]
  },
  {
   "cell_type": "markdown",
   "id": "e9a243da",
   "metadata": {},
   "source": [
    "# Hue and count plots\n",
    "Let's continue exploring our dataset from students in secondary school by looking at a new variable. The \"school\" column indicates the initials of which school the student attended - either \"GP\" or \"MS\".\n",
    "\n",
    "In the last exercise, we created a scatter plot where the plot points were colored based on whether the student lived in an urban or rural area. How many students live in urban vs. rural areas, and does this vary based on what school the student attends? Let's make a count plot with subgroups to find out."
   ]
  },
  {
   "cell_type": "code",
   "execution_count": null,
   "id": "a164a1b7",
   "metadata": {},
   "outputs": [],
   "source": [
    "# Import Matplotlib and Seaborn\n",
    "import matplotlib.pyplot as plt\n",
    "import seaborn as sns\n",
    "\n",
    "# Create a dictionary mapping subgroup values to colors\n",
    "palette_colors = {\"Rural\": \"green\", \"Urban\": \"blue\"}\n",
    "\n",
    "# Create a count plot of school with location subgroups\n",
    "sns.countplot(x=\"school\", data=student_data,\n",
    "              hue=\"location\",\n",
    "              palette=palette_colors)\n",
    "\n",
    "# Display plot\n",
    "plt.show()"
   ]
  },
  {
   "cell_type": "markdown",
   "id": "d5706e72",
   "metadata": {},
   "source": [
    "# Creating subplots with col and row\n",
    "We've seen in prior exercises that students with more absences (\"absences\") tend to have lower final grades (\"G3\"). Does this relationship hold regardless of how much time students study each week?\n",
    "\n",
    "To answer this, we'll look at the relationship between the number of absences that a student has in school and their final grade in the course, creating separate subplots based on each student's weekly study time (\"study_time\").\n",
    "\n",
    "Seaborn has been imported as sns and matplotlib.pyplot has been imported as plt."
   ]
  },
  {
   "cell_type": "code",
   "execution_count": null,
   "id": "2f23aa9d",
   "metadata": {},
   "outputs": [],
   "source": [
    "# Change to use relplot() instead of scatterplot()\n",
    "sns.relplot(x=\"absences\", y=\"G3\", \n",
    "            data=student_data,\n",
    "            kind=\"scatter\")\n",
    "\n",
    "# Show plot\n",
    "plt.show()"
   ]
  },
  {
   "cell_type": "code",
   "execution_count": null,
   "id": "de099e69",
   "metadata": {},
   "outputs": [],
   "source": [
    "# Change to make subplots based on study time\n",
    "sns.relplot(x=\"absences\", y=\"G3\", \n",
    "            data=student_data,\n",
    "            kind=\"scatter\",\n",
    "            col=\"study_time\")\n",
    "\n",
    "# Show plot\n",
    "plt.show()"
   ]
  },
  {
   "cell_type": "code",
   "execution_count": null,
   "id": "78ded00b",
   "metadata": {},
   "outputs": [],
   "source": [
    "# Change this scatter plot to arrange the plots in rows instead of columns\n",
    "sns.relplot(x=\"absences\", y=\"G3\", \n",
    "            data=student_data,\n",
    "            kind=\"scatter\", \n",
    "            row=\"study_time\")\n",
    "\n",
    "# Show plot\n",
    "plt.show()\n"
   ]
  },
  {
   "cell_type": "markdown",
   "id": "fe74e9b5",
   "metadata": {},
   "source": [
    "# Creating two-factor subplots\n",
    "Let's continue looking at the student_data dataset of students in secondary school. Here, we want to answer the following question: does a student's first semester grade (\"G1\") tend to correlate with their final grade (\"G3\")?\n",
    "\n",
    "There are many aspects of a student's life that could result in a higher or lower final grade in the class. For example, some students receive extra educational support from their school (\"schoolsup\") or from their family (\"famsup\"), which could result in higher grades. Let's try to control for these two factors by creating subplots based on whether the student received extra educational support from their school or family."
   ]
  },
  {
   "cell_type": "code",
   "execution_count": null,
   "id": "29a0a27b",
   "metadata": {},
   "outputs": [],
   "source": [
    "# Create a scatter plot of G1 vs. G3\n",
    "sns.relplot(x=\"G1\", y=\"G3\", \n",
    "            data=student_data,\n",
    "            kind=\"scatter\")\n",
    "\n",
    "# Show plot\n",
    "plt.show()"
   ]
  },
  {
   "cell_type": "code",
   "execution_count": null,
   "id": "61cdbe6b",
   "metadata": {},
   "outputs": [],
   "source": [
    "# Adjust to add subplots based on school support\n",
    "sns.relplot(x=\"G1\", y=\"G3\", \n",
    "            data=student_data,\n",
    "            kind=\"scatter\", \n",
    "            col=\"schoolsup\",\n",
    "            col_order=[\"yes\", \"no\"])\n",
    "\n",
    "# Show plot\n",
    "plt.show()\n"
   ]
  },
  {
   "cell_type": "code",
   "execution_count": null,
   "id": "2b6bb38e",
   "metadata": {},
   "outputs": [],
   "source": [
    "# Adjust further to add subplots based on family support\n",
    "sns.relplot(x=\"G1\", y=\"G3\", \n",
    "            data=student_data,\n",
    "            kind=\"scatter\", \n",
    "            col=\"schoolsup\",\n",
    "            col_order=[\"yes\", \"no\"],\n",
    "            row=\"famsup\",\n",
    "            row_order=[\"yes\", \"no\"])\n",
    "\n",
    "# Show plot\n",
    "plt.show()"
   ]
  },
  {
   "cell_type": "markdown",
   "id": "aa2c6e0e",
   "metadata": {},
   "source": [
    "# Changing the size of scatter plot points\n",
    "In this exercise, we'll explore Seaborn's mpg dataset, which contains one row per car model and includes information such as the year the car was made, the number of miles per gallon (\"M.P.G.\") it achieves, the power of its engine (measured in \"horsepower\"), and its country of origin.\n",
    "\n",
    "What is the relationship between the power of a car's engine (\"horsepower\") and its fuel efficiency (\"mpg\")? And how does this relationship vary by the number of cylinders (\"cylinders\") the car has? Let's find out.\n",
    "\n",
    "Let's continue to use relplot() instead of scatterplot() since it offers more flexibility."
   ]
  },
  {
   "cell_type": "code",
   "execution_count": null,
   "id": "9824a6b1",
   "metadata": {},
   "outputs": [],
   "source": [
    "# Import Matplotlib and Seaborn\n",
    "import matplotlib.pyplot as plt\n",
    "import seaborn as sns\n",
    "\n",
    "# Create scatter plot of horsepower vs. mpg\n",
    "sns.relplot(x=\"horsepower\", y=\"mpg\", \n",
    "            data=mpg, kind=\"scatter\", \n",
    "            size=\"cylinders\")\n",
    "\n",
    "# Show plot\n",
    "plt.show()"
   ]
  },
  {
   "cell_type": "code",
   "execution_count": null,
   "id": "a24e2600",
   "metadata": {},
   "outputs": [],
   "source": [
    "# Import Matplotlib and Seaborn\n",
    "import matplotlib.pyplot as plt\n",
    "import seaborn as sns\n",
    "\n",
    "# Create scatter plot of horsepower vs. mpg\n",
    "sns.relplot(x=\"horsepower\", y=\"mpg\", \n",
    "            data=mpg, kind=\"scatter\", \n",
    "            size=\"cylinders\", hue=\"cylinders\")\n",
    "\n",
    "# Show plot\n",
    "plt.show()"
   ]
  },
  {
   "cell_type": "markdown",
   "id": "7f491841",
   "metadata": {},
   "source": [
    "# Changing the style of scatter plot points\n",
    "Let's continue exploring Seaborn's mpg dataset by looking at the relationship between how fast a car can accelerate (\"acceleration\") and its fuel efficiency (\"mpg\"). Do these properties vary by country of origin (\"origin\")?\n",
    "\n",
    "Note that the \"acceleration\" variable is the time to accelerate from 0 to 60 miles per hour, in seconds. Higher values indicate slower acceleration."
   ]
  },
  {
   "cell_type": "code",
   "execution_count": null,
   "id": "b5f63652",
   "metadata": {},
   "outputs": [],
   "source": [
    "# Import Matplotlib and Seaborn\n",
    "import matplotlib.pyplot as plt\n",
    "import seaborn as sns\n",
    "\n",
    "# Create a scatter plot of acceleration vs. mpg\n",
    "sns.relplot(x=\"acceleration\", y=\"mpg\", \n",
    "            data=mpg, kind=\"scatter\", \n",
    "            style=\"origin\", hue=\"origin\")\n",
    "\n",
    "# Show plot\n",
    "plt.show()"
   ]
  },
  {
   "cell_type": "markdown",
   "id": "3c25aca1",
   "metadata": {},
   "source": [
    "# Interpreting line plots\n",
    "In this exercise, we'll continue to explore Seaborn's mpg dataset, which contains one row per car model and includes information such as the year the car was made, its fuel efficiency (measured in \"miles per gallon\" or \"M.P.G\"), and its country of origin (USA, Europe, or Japan).\n",
    "\n",
    "How has the average miles per gallon achieved by these cars changed over time? Let's use line plots to find out!"
   ]
  },
  {
   "cell_type": "code",
   "execution_count": null,
   "id": "215110dd",
   "metadata": {},
   "outputs": [],
   "source": [
    "# Import Matplotlib and Seaborn\n",
    "import matplotlib.pyplot as plt\n",
    "import seaborn as sns\n",
    "\n",
    "# Create line plot\n",
    "sns.relplot(x=\"model_year\", y=\"mpg\",\n",
    "            data=mpg, kind=\"line\")\n",
    "\n",
    "# Show plot\n",
    "plt.show()"
   ]
  },
  {
   "cell_type": "code",
   "execution_count": null,
   "id": "8860563a",
   "metadata": {},
   "outputs": [],
   "source": [
    "# Which of the following is NOT a correct interpretation of this line plot?\n",
    "\n",
    "# Possible Answers\n",
    "# The average miles per gallon has increased over time.\n",
    "# The distribution of miles per gallon is smaller in 1973 compared to 1977.\n",
    "# We can be 95% confident that the average miles per gallon for all cars in 1970 is between 16 and 20 miles per gallon.\n",
    "# This plot assumes that our data is a random sample of all cars in the US, Europe, and Japan.\n",
    "\n",
    "\"\"\"Answer\n",
    "The distribution of miles per gallon is smaller in 1973 compared to 1977.\"\"\""
   ]
  },
  {
   "cell_type": "markdown",
   "id": "7e3ac3de",
   "metadata": {},
   "source": [
    "# Visualizing standard deviation with line plots\n",
    "In the last exercise, we looked at how the average miles per gallon achieved by cars has changed over time. Now let's use a line plot to visualize how the distribution of miles per gallon has changed over time.\n",
    "\n",
    "Seaborn has been imported as sns and matplotlib.pyplot has been imported as plt."
   ]
  },
  {
   "cell_type": "code",
   "execution_count": null,
   "id": "3bbc8521",
   "metadata": {},
   "outputs": [],
   "source": [
    "# Make the shaded area show the standard deviation\n",
    "sns.relplot(x=\"model_year\", y=\"mpg\",\n",
    "            data=mpg, kind=\"line\",\n",
    "            ci=\"sd\")\n",
    "\n",
    "\n",
    "# Show plot\n",
    "plt.show()"
   ]
  },
  {
   "cell_type": "markdown",
   "id": "aabc91d9",
   "metadata": {},
   "source": [
    "# Plotting subgroups in line plots\n",
    "Let's continue to look at the mpg dataset. We've seen that the average miles per gallon for cars has increased over time, but how has the average horsepower for cars changed over time? And does this trend differ by country of origin?"
   ]
  },
  {
   "cell_type": "code",
   "execution_count": null,
   "id": "262dba29",
   "metadata": {},
   "outputs": [],
   "source": [
    "# Import Matplotlib and Seaborn\n",
    "import matplotlib.pyplot as plt\n",
    "import seaborn as sns\n",
    "\n",
    "# Create line plot of model year vs. horsepower\n",
    "sns.relplot(x=\"model_year\", y=\"horsepower\", \n",
    "            data=mpg, kind=\"line\", \n",
    "            ci=None)\n",
    "\n",
    "# Show plot\n",
    "plt.show()"
   ]
  },
  {
   "cell_type": "code",
   "execution_count": null,
   "id": "ead8a612",
   "metadata": {},
   "outputs": [],
   "source": [
    "# Import Matplotlib and Seaborn\n",
    "import matplotlib.pyplot as plt\n",
    "import seaborn as sns\n",
    "\n",
    "# Change to create subgroups for country of origin\n",
    "sns.relplot(x=\"model_year\", y=\"horsepower\", \n",
    "            data=mpg, kind=\"line\", \n",
    "            ci=None, style=\"origin\", \n",
    "            hue=\"origin\")\n",
    "\n",
    "# Show plot\n",
    "plt.show()"
   ]
  },
  {
   "cell_type": "code",
   "execution_count": null,
   "id": "c7b23912",
   "metadata": {},
   "outputs": [],
   "source": [
    "# Import Matplotlib and Seaborn\n",
    "import matplotlib.pyplot as plt\n",
    "import seaborn as sns\n",
    "\n",
    "# Add markers and make each line have the same style\n",
    "sns.relplot(x=\"model_year\", y=\"horsepower\", \n",
    "            data=mpg, kind=\"line\", \n",
    "            ci=None, style=\"origin\", \n",
    "            hue=\"origin\", markers=True,\n",
    "            dashes=False)\n",
    "\n",
    "# Show plot\n",
    "plt.show()"
   ]
  },
  {
   "cell_type": "markdown",
   "id": "a3af7c25",
   "metadata": {},
   "source": [
    "# Count plots\n",
    "In this exercise, we'll return to exploring our dataset that contains the responses to a survey sent out to young people. We might suspect that young people spend a lot of time on the internet, but how much do they report using the internet each day? Let's use a count plot to break down the number of survey responses in each category and then explore whether it changes based on age.\n",
    "\n",
    "As a reminder, to create a count plot, we'll use the catplot() function and specify the name of the categorical variable to count (x=____), the Pandas DataFrame to use (data=____), and the type of plot (kind=\"count\")."
   ]
  },
  {
   "cell_type": "code",
   "execution_count": null,
   "id": "ca674b97",
   "metadata": {},
   "outputs": [],
   "source": [
    "# Create count plot of internet usage\n",
    "sns.catplot(x=\"Internet usage\", data=survey_data,\n",
    "            kind=\"count\")\n",
    "\n",
    "# Show plot\n",
    "plt.show()"
   ]
  },
  {
   "cell_type": "code",
   "execution_count": null,
   "id": "cfb1c098",
   "metadata": {},
   "outputs": [],
   "source": [
    "# Change the orientation of the plot\n",
    "sns.catplot(y=\"Internet usage\", data=survey_data,\n",
    "            kind=\"count\")\n",
    "\n",
    "# Show plot\n",
    "plt.show()"
   ]
  },
  {
   "cell_type": "code",
   "execution_count": null,
   "id": "d1074d20",
   "metadata": {},
   "outputs": [],
   "source": [
    "# Create column subplots based on age category\n",
    "sns.catplot(y=\"Internet usage\", data=survey_data,\n",
    "            kind=\"count\", col=\"Age Category\")\n",
    "\n",
    "# Show plot\n",
    "plt.show()"
   ]
  },
  {
   "cell_type": "markdown",
   "id": "f282c188",
   "metadata": {},
   "source": [
    "# Bar plots with percentages\n",
    "Let's continue exploring the responses to a survey sent out to young people. The variable \"Interested in Math\" is True if the person reported being interested or very interested in mathematics, and False otherwise. What percentage of young people report being interested in math, and does this vary based on gender? Let's use a bar plot to find out.\n",
    "\n",
    "As a reminder, we'll create a bar plot using the catplot() function, providing the name of categorical variable to put on the x-axis (x=____), the name of the quantitative variable to summarize on the y-axis (y=____), the Pandas DataFrame to use (data=____), and the type of categorical plot (kind=\"bar\")."
   ]
  },
  {
   "cell_type": "code",
   "execution_count": null,
   "id": "9cb8d06e",
   "metadata": {},
   "outputs": [],
   "source": [
    "# Create a bar plot of interest in math, separated by gender\n",
    "sns.catplot(x=\"Gender\", y=\"Interested in Math\",\n",
    "            data=survey_data, kind=\"bar\")\n",
    "\n",
    "# Show plot\n",
    "plt.show()"
   ]
  },
  {
   "cell_type": "markdown",
   "id": "16b9b1fb",
   "metadata": {},
   "source": [
    "# Customizing bar plots\n",
    "In this exercise, we'll explore data from students in secondary school. The \"study_time\" variable records each student's reported weekly study time as one of the following categories: \"<2 hours\", \"2 to 5 hours\", \"5 to 10 hours\", or \">10 hours\". Do students who report higher amounts of studying tend to get better final grades? Let's compare the average final grade among students in each category using a bar plot.\n",
    "\n",
    "Seaborn has been imported as sns and matplotlib.pyplot has been imported as plt."
   ]
  },
  {
   "cell_type": "code",
   "execution_count": null,
   "id": "28d7ab1e",
   "metadata": {},
   "outputs": [],
   "source": [
    "# Create bar plot of average final grade in each study category\n",
    "sns.catplot(x=\"study_time\", y=\"G3\",\n",
    "            data=student_data,\n",
    "            kind=\"bar\")\n",
    "\n",
    "# Show plot\n",
    "plt.show()"
   ]
  },
  {
   "cell_type": "code",
   "execution_count": null,
   "id": "0ec583ab",
   "metadata": {},
   "outputs": [],
   "source": [
    "# Rearrange the categories\n",
    "sns.catplot(x=\"study_time\", y=\"G3\",\n",
    "            data=student_data,\n",
    "            kind=\"bar\",\n",
    "            order=[\"<2 hours\", \n",
    "                   \"2 to 5 hours\", \n",
    "                   \"5 to 10 hours\", \n",
    "                   \">10 hours\"])\n",
    "\n",
    "# Show plot\n",
    "plt.show()"
   ]
  },
  {
   "cell_type": "code",
   "execution_count": null,
   "id": "e220bf3f",
   "metadata": {},
   "outputs": [],
   "source": [
    "# Turn off the confidence intervals\n",
    "sns.catplot(x=\"study_time\", y=\"G3\",\n",
    "            data=student_data,\n",
    "            kind=\"bar\",\n",
    "            order=[\"<2 hours\", \n",
    "                   \"2 to 5 hours\", \n",
    "                   \"5 to 10 hours\", \n",
    "                   \">10 hours\"],\n",
    "            ci=None)\n",
    "\n",
    "# Show plot\n",
    "plt.show()"
   ]
  },
  {
   "cell_type": "markdown",
   "id": "524036d2",
   "metadata": {},
   "source": [
    "# Create and interpret a box plot\n",
    "Let's continue using the student_data dataset. In an earlier exercise, we explored the relationship between studying and final grade by using a bar plot to compare the average final grade (\"G3\") among students in different categories of \"study_time\".\n",
    "\n",
    "In this exercise, we'll try using a box plot look at this relationship instead. As a reminder, to create a box plot you'll need to use the catplot() function and specify the name of the categorical variable to put on the x-axis (x=____), the name of the quantitative variable to summarize on the y-axis (y=____), the Pandas DataFrame to use (data=____), and the type of plot (kind=\"box\")."
   ]
  },
  {
   "cell_type": "code",
   "execution_count": null,
   "id": "3a9dc308",
   "metadata": {},
   "outputs": [],
   "source": [
    "# Specify the category ordering\n",
    "study_time_order = [\"<2 hours\", \"2 to 5 hours\", \n",
    "                    \"5 to 10 hours\", \">10 hours\"]\n",
    "\n",
    "# Create a box plot and set the order of the categories\n",
    "sns.catplot(x=\"study_time\", y=\"G3\",\n",
    "            data=student_data,\n",
    "            kind=\"box\",\n",
    "            order=study_time_order)\n",
    "\n",
    "# Show plot\n",
    "plt.show()\n"
   ]
  },
  {
   "cell_type": "code",
   "execution_count": null,
   "id": "dd07e3ea",
   "metadata": {},
   "outputs": [],
   "source": [
    "# Which of the following is a correct interpretation of this box plot?\n",
    "\n",
    "# Possible Answers\n",
    "# The 75th percentile of grades is highest among students who study more than 10 hours a week.\n",
    "# There are no outliers plotted for these box plots.\n",
    "# The 5th percentile of grades among students studying less than 2 hours is 5.0.\n",
    "# The median grade among students studying less than 2 hours is 10.0.\n",
    "\n",
    "\"\"\"ANSWER\n",
    "The median grade among students studying less than 2 hours is 10.0.\"\"\""
   ]
  }
 ],
 "metadata": {
  "kernelspec": {
   "display_name": "Python 3",
   "language": "python",
   "name": "python3"
  },
  "language_info": {
   "codemirror_mode": {
    "name": "ipython",
    "version": 3
   },
   "file_extension": ".py",
   "mimetype": "text/x-python",
   "name": "python",
   "nbconvert_exporter": "python",
   "pygments_lexer": "ipython3",
   "version": "3.8.11"
  }
 },
 "nbformat": 4,
 "nbformat_minor": 5
}
